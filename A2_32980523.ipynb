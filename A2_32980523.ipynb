{
 "cells": [
  {
   "cell_type": "markdown",
   "metadata": {},
   "source": [
    "# FIT5196 Assessment 2\n",
    "\n",
    "Student Name: Juan Pablo Grimaldi\n",
    "Student ID: 32980523\n",
    "\n",
    "Date: 31 August 2022\n",
    "\n",
    "\n",
    "Environment: Python 3.9\n",
    "\n",
    "Libraries used:\n",
    "* os (for interacting with the operating system, included in Python 3.xxx package) \n",
    "* re (for regular expression, installed and imported) \n",
    "* pandas (for data manipulation)"
   ]
  },
  {
   "cell_type": "markdown",
   "metadata": {},
   "source": [
    "-------------------------------------"
   ]
  },
  {
   "cell_type": "markdown",
   "metadata": {},
   "source": [
    "# Table of Contents\n",
    "\n",
    "\n",
    "[1. Introduction](#Intro) <br>\n",
    "[2. Importing Libraries](#libs) <br>\n",
    "[3. Examining Review Files](#examine) <br>\n",
    "[4. Loading and Parsing Files](#load) <br>\n",
    "$\\;\\;\\;\\;$[4.1. Defining Regular Expressions](#Reg_Exp) <br>\n",
    "$\\;\\;\\;\\;$[4.2. Extract Information](#Read) <br>\n",
    "$\\;\\;\\;\\;$[4.3. Structure results and data export](#structure) <br>\n",
    "$\\;\\;\\;\\;$[4.4. Debugging](#debugging) <br>\n",
    "[5. Writing Output to CSV File](#write) <br>\n",
    "$\\;\\;\\;\\;$[5.1. Verification - using the sample files](#test) <br>\n",
    "[6. Summary](#summary) <br>\n",
    "[7. References](#Ref) <br>"
   ]
  },
  {
   "cell_type": "markdown",
   "metadata": {},
   "source": [
    "-------------------------------------"
   ]
  },
  {
   "cell_type": "markdown",
   "metadata": {},
   "source": [
    "## Introduction  <a class=\"anchor\" name=\"Intro\"></a>"
   ]
  },
  {
   "cell_type": "markdown",
   "metadata": {},
   "source": [
    "This assessment regards extracting data from semi-sctuctured text files. The dataset contained 500 `.txt` files which included various information about user reviews.\n",
    "<br>\n",
    "More specifically, these documents contain product reviews that have been written in english and captured via a website. The following sections will describe the methodology and go through the steps required to structure the content of the reviews into a format that is useful for down-stream analysis.\n",
    "<br>\n",
    "The following information about the files is provided in the assessment brief:\n",
    "<br><br>\n",
    "Each text file contains information about the reviews, i.e., “product ID”, “review date”, “review text”, and the “review summary”.\n",
    "1. PID: the product ID\n",
    "2. latest_review_date: the latest review dates of all the reviews for a particular product\n",
    "3. product_review: list of all the review texts for a product\n",
    "4. review_summary: list of all the review summaries for a product\n"
   ]
  },
  {
   "cell_type": "markdown",
   "metadata": {},
   "source": [
    "-------------------------------------"
   ]
  },
  {
   "cell_type": "markdown",
   "metadata": {},
   "source": [
    "## Importing Libraries  <a class=\"anchor\" name=\"libs\"></a>"
   ]
  },
  {
   "cell_type": "markdown",
   "metadata": {},
   "source": [
    "The packages to be used in this assessment are imported in the following. They are used to fulfill the following tasks:\n",
    "\n",
    "* **pandas:** to structure the results into a tabular format, as per the assessment requirements.\n",
    "* **matplotlib:** to structure the results into a tabular format, as per the assessment\n",
    "requirements.\n",
    "* **plotly** to structure the results into a tabular format, as per the assessment requirements."
   ]
  },
  {
   "cell_type": "code",
   "execution_count": null,
   "outputs": [],
   "source": [
    "#test"
   ],
   "metadata": {
    "collapsed": false
   }
  },
  {
   "cell_type": "code",
   "execution_count": 1,
   "metadata": {
    "collapsed": false,
    "jupyter": {
     "outputs_hidden": false
    }
   },
   "outputs": [],
   "source": [
    "# import libraries to be used in the assignment\n",
    "\n",
    "#free to use any libraries.\n",
    "\n",
    "#Basic scientific python libs\n",
    "import pandas as pd\n",
    "# Visualisation\n",
    "import matplotlib as mpl\n",
    "\n",
    "import matplotlib.pyplot as plt\n",
    "# Configure visualisations\n",
    "%matplotlib inline\n",
    "mpl.style.use( 'ggplot' )"
   ]
  },
  {
   "cell_type": "markdown",
   "metadata": {},
   "source": [
    "-------------------------------------"
   ]
  },
  {
   "cell_type": "markdown",
   "source": [
    "## Dataset description"
   ],
   "metadata": {
    "collapsed": false
   }
  },
  {
   "cell_type": "markdown",
   "source": [
    "Below are the variables contained in the data sets:\n",
    "<br>\n",
    "* `order_id`: A unique id for each order\n",
    "* `date`: The date the order was made, given in YYYY-MM-DD format\n",
    "* `time`: The time the order was made, given in hh:mm:ss format\n",
    "* `order_type`: A categorical attribute representing the different types of orders namely: Breakfast, Lunch or Dinner\n",
    "* `branch_code`: A categorical attribute representing the branch code in which the order was made. Branch information is given in the branches.csv file.\n",
    "* `order_items`: A list of tuples representing the order items: first element of the tuple is the\n",
    " item ordered, and the second element is the quantity ordered for that item.\n",
    "* `order_price`: A float value representing the order total price.\n",
    "* `customer_lat`: Latitude of the customer coming from the nodes.csv file.\n",
    "* `customer_lon`: Longitude of the customer coming from the nodes.csv file.\n",
    "* `customerHasloyalty?`: A logical variable denoting whether the customer has a loyalty card with\n",
    " the restaurant (1 if the customer has loyalty and 0 otherwise).\n",
    "* `distance_to_customer_KM`: A float representing the shortest distance, in kilometers, between the branch and the customer nodes with respect to the nodes.csv and the edges.csv files.\n",
    "* `delivery_fee`: A float representing the delivery fee of the order."
   ],
   "metadata": {
    "collapsed": false
   }
  },
  {
   "cell_type": "markdown",
   "source": [
    "## Load and Examine Datasets <a class=\"anchor\" name=\"examine\"></a>"
   ],
   "metadata": {
    "collapsed": false
   }
  },
  {
   "cell_type": "markdown",
   "source": [
    "<br>Most of the exploratory data analysis will be performed with methods from the `pandas` library.\n",
    "To begin, all the data sets will be read into dataframes:"
   ],
   "metadata": {
    "collapsed": false
   }
  },
  {
   "cell_type": "code",
   "execution_count": 2,
   "outputs": [
    {
     "ename": "NameError",
     "evalue": "name 'pd' is not defined",
     "output_type": "error",
     "traceback": [
      "\u001B[0;31m---------------------------------------------------------------------------\u001B[0m",
      "\u001B[0;31mNameError\u001B[0m                                 Traceback (most recent call last)",
      "Input \u001B[0;32mIn [2]\u001B[0m, in \u001B[0;36m<cell line: 2>\u001B[0;34m()\u001B[0m\n\u001B[1;32m      1\u001B[0m \u001B[38;5;66;03m#load datasets\u001B[39;00m\n\u001B[0;32m----> 2\u001B[0m dirty_data \u001B[38;5;241m=\u001B[39m \u001B[43mpd\u001B[49m\u001B[38;5;241m.\u001B[39mread_csv(\u001B[38;5;124m\"\u001B[39m\u001B[38;5;124mdata/32980523_dirty_data.csv\u001B[39m\u001B[38;5;124m\"\u001B[39m)\n\u001B[1;32m      3\u001B[0m missing_data \u001B[38;5;241m=\u001B[39m pd\u001B[38;5;241m.\u001B[39mread_csv(\u001B[38;5;124m\"\u001B[39m\u001B[38;5;124mdata/32980523_missing_data.csv\u001B[39m\u001B[38;5;124m\"\u001B[39m)\n\u001B[1;32m      4\u001B[0m \u001B[38;5;66;03m#only one specific way to detect: linear regression.\u001B[39;00m\n",
      "\u001B[0;31mNameError\u001B[0m: name 'pd' is not defined"
     ]
    }
   ],
   "source": [
    "#load datasets\n",
    "dirty_data = pd.read_csv(\"data/32980523_dirty_data.csv\")\n",
    "missing_data = pd.read_csv(\"data/32980523_missing_data.csv\")\n",
    "#only one specific way to detect: linear regression.\n",
    "outlier_data = pd.read_csv(\"data/32980523_outlier_data.csv\")"
   ],
   "metadata": {
    "collapsed": false
   }
  },
  {
   "cell_type": "markdown",
   "source": [
    "The following sub sections will go through each step completed to do a preliminary review of the\n",
    "data."
   ],
   "metadata": {
    "collapsed": false
   }
  },
  {
   "cell_type": "markdown",
   "source": [
    "### Dirty Data"
   ],
   "metadata": {
    "collapsed": false
   }
  },
  {
   "cell_type": "code",
   "execution_count": null,
   "outputs": [],
   "source": [
    "# review dirty data variable types\n",
    "print(\"---- Dirty Data: data types ----\")\n",
    "dirty_data.info()\n",
    "print(\"---- Dirty Data: data frame size ----\")\n",
    "dirty_data.shape"
   ],
   "metadata": {
    "collapsed": false
   }
  },
  {
   "cell_type": "code",
   "execution_count": null,
   "outputs": [],
   "source": [
    "#inspect dirty data head\n",
    "dirty_data.head()"
   ],
   "metadata": {
    "collapsed": false
   }
  },
  {
   "cell_type": "code",
   "execution_count": null,
   "outputs": [],
   "source": [
    "#inspect dirty data head\n",
    "dirty_data.tail()"
   ],
   "metadata": {
    "collapsed": false
   }
  },
  {
   "cell_type": "code",
   "execution_count": null,
   "outputs": [],
   "source": [
    "# summarise numerical variables\n",
    "dirty_data.describe()"
   ],
   "metadata": {
    "collapsed": false
   }
  },
  {
   "cell_type": "code",
   "execution_count": null,
   "outputs": [],
   "source": [],
   "metadata": {
    "collapsed": false
   }
  },
  {
   "cell_type": "markdown",
   "source": [
    "The following observations can be made about the `dirty_data` data frame:\n",
    "\n",
    "* There are 500 observations in total, each corresponding to a delivery order.\n",
    "* The date and time variables need to be formatted into a proper variable.\n"
   ],
   "metadata": {
    "collapsed": false
   }
  },
  {
   "cell_type": "code",
   "execution_count": 3,
   "metadata": {
    "collapsed": false,
    "jupyter": {
     "outputs_hidden": false
    }
   },
   "outputs": [],
   "source": [
    "#load datasets\n",
    "dirty_data = pd.read_csv(\"data/32980523_dirty_data.csv\")\n",
    "missing_data = pd.read_csv(\"data/32980523_missing_data.csv\")\n",
    "#only one specific way to detect: linear regression.\n",
    "outlier_data = pd.read_csv(\"data/32980523_outlier_data.csv\")"
   ]
  },
  {
   "cell_type": "markdown",
   "metadata": {},
   "source": [
    "### Dirty Data"
   ]
  },
  {
   "cell_type": "code",
   "execution_count": 12,
   "metadata": {},
   "outputs": [
    {
     "name": "stdout",
     "output_type": "stream",
     "text": [
      "---- Dirty Data: data types ----\n",
      "<class 'pandas.core.frame.DataFrame'>\n",
      "RangeIndex: 500 entries, 0 to 499\n",
      "Data columns (total 12 columns):\n",
      " #   Column                   Non-Null Count  Dtype  \n",
      "---  ------                   --------------  -----  \n",
      " 0   order_id                 500 non-null    object \n",
      " 1   date                     500 non-null    object \n",
      " 2   time                     500 non-null    object \n",
      " 3   order_type               500 non-null    object \n",
      " 4   branch_code              500 non-null    object \n",
      " 5   order_items              500 non-null    object \n",
      " 6   order_price              500 non-null    float64\n",
      " 7   customer_lat             500 non-null    float64\n",
      " 8   customer_lon             500 non-null    float64\n",
      " 9   customerHasloyalty?      500 non-null    int64  \n",
      " 10  distance_to_customer_KM  500 non-null    float64\n",
      " 11  delivery_fee             500 non-null    float64\n",
      "dtypes: float64(5), int64(1), object(6)\n",
      "memory usage: 47.0+ KB\n",
      "---- Dirty Data: data frame size ----\n"
     ]
    },
    {
     "data": {
      "text/plain": [
       "(500, 12)"
      ]
     },
     "execution_count": 12,
     "metadata": {},
     "output_type": "execute_result"
    }
   ],
   "source": [
    "# review dirty data variable types\n",
    "print(\"---- Dirty Data: data types ----\")\n",
    "dirty_data.info()\n",
    "print(\"---- Dirty Data: data frame size ----\")\n",
    "dirty_data.shape"
   ]
  },
  {
   "cell_type": "code",
   "execution_count": 6,
   "metadata": {},
   "outputs": [
    {
     "data": {
      "text/html": [
       "<div>\n",
       "<style scoped>\n",
       "    .dataframe tbody tr th:only-of-type {\n",
       "        vertical-align: middle;\n",
       "    }\n",
       "\n",
       "    .dataframe tbody tr th {\n",
       "        vertical-align: top;\n",
       "    }\n",
       "\n",
       "    .dataframe thead th {\n",
       "        text-align: right;\n",
       "    }\n",
       "</style>\n",
       "<table border=\"1\" class=\"dataframe\">\n",
       "  <thead>\n",
       "    <tr style=\"text-align: right;\">\n",
       "      <th></th>\n",
       "      <th>order_id</th>\n",
       "      <th>date</th>\n",
       "      <th>time</th>\n",
       "      <th>order_type</th>\n",
       "      <th>branch_code</th>\n",
       "      <th>order_items</th>\n",
       "      <th>order_price</th>\n",
       "      <th>customer_lat</th>\n",
       "      <th>customer_lon</th>\n",
       "      <th>customerHasloyalty?</th>\n",
       "      <th>distance_to_customer_KM</th>\n",
       "      <th>delivery_fee</th>\n",
       "    </tr>\n",
       "  </thead>\n",
       "  <tbody>\n",
       "    <tr>\n",
       "      <th>0</th>\n",
       "      <td>ORDJ06243</td>\n",
       "      <td>2021-11-02</td>\n",
       "      <td>18:08:27</td>\n",
       "      <td>Dinner</td>\n",
       "      <td>TP</td>\n",
       "      <td>[('Salmon', 4), ('Pasta', 2), ('Fish&amp;Chips', 1...</td>\n",
       "      <td>308.0</td>\n",
       "      <td>-37.806521</td>\n",
       "      <td>144.944874</td>\n",
       "      <td>0</td>\n",
       "      <td>10.082</td>\n",
       "      <td>13.802598</td>\n",
       "    </tr>\n",
       "    <tr>\n",
       "      <th>1</th>\n",
       "      <td>ORDA10907</td>\n",
       "      <td>2021-11-03</td>\n",
       "      <td>18:08:27</td>\n",
       "      <td>Dinner</td>\n",
       "      <td>BK</td>\n",
       "      <td>[('Salmon', 5), ('Pasta', 5)]</td>\n",
       "      <td>342.5</td>\n",
       "      <td>-37.810712</td>\n",
       "      <td>144.946133</td>\n",
       "      <td>0</td>\n",
       "      <td>9.145</td>\n",
       "      <td>16.150990</td>\n",
       "    </tr>\n",
       "    <tr>\n",
       "      <th>2</th>\n",
       "      <td>ORDA06776</td>\n",
       "      <td>2021-08-14</td>\n",
       "      <td>15:26:11</td>\n",
       "      <td>Lunch</td>\n",
       "      <td>BK</td>\n",
       "      <td>[('Fries', 1), ('Salad', 7), ('Chicken', 2), (...</td>\n",
       "      <td>320.4</td>\n",
       "      <td>-37.819004</td>\n",
       "      <td>144.954318</td>\n",
       "      <td>0</td>\n",
       "      <td>8.676</td>\n",
       "      <td>16.680944</td>\n",
       "    </tr>\n",
       "    <tr>\n",
       "      <th>3</th>\n",
       "      <td>ORDY05744</td>\n",
       "      <td>2021-10-26</td>\n",
       "      <td>17:48:10</td>\n",
       "      <td>Dinner</td>\n",
       "      <td>TP</td>\n",
       "      <td>[('Salmon', 7), ('Pasta', 10), ('Shrimp', 5)]</td>\n",
       "      <td>832.0</td>\n",
       "      <td>-37.817244</td>\n",
       "      <td>144.967764</td>\n",
       "      <td>0</td>\n",
       "      <td>11.792</td>\n",
       "      <td>11.549074</td>\n",
       "    </tr>\n",
       "    <tr>\n",
       "      <th>4</th>\n",
       "      <td>ORDX00833</td>\n",
       "      <td>2021-05-05</td>\n",
       "      <td>12:03:22</td>\n",
       "      <td>Lunch</td>\n",
       "      <td>BK</td>\n",
       "      <td>[('Salad', 2), ('Steak', 10), ('Chicken', 2), ...</td>\n",
       "      <td>892.4</td>\n",
       "      <td>-37.809557</td>\n",
       "      <td>144.972643</td>\n",
       "      <td>0</td>\n",
       "      <td>6.714</td>\n",
       "      <td>12.512411</td>\n",
       "    </tr>\n",
       "  </tbody>\n",
       "</table>\n",
       "</div>"
      ],
      "text/plain": [
       "    order_id        date      time order_type branch_code  \\\n",
       "0  ORDJ06243  2021-11-02  18:08:27     Dinner          TP   \n",
       "1  ORDA10907  2021-11-03  18:08:27     Dinner          BK   \n",
       "2  ORDA06776  2021-08-14  15:26:11      Lunch          BK   \n",
       "3  ORDY05744  2021-10-26  17:48:10     Dinner          TP   \n",
       "4  ORDX00833  2021-05-05  12:03:22      Lunch          BK   \n",
       "\n",
       "                                         order_items  order_price  \\\n",
       "0  [('Salmon', 4), ('Pasta', 2), ('Fish&Chips', 1...        308.0   \n",
       "1                      [('Salmon', 5), ('Pasta', 5)]        342.5   \n",
       "2  [('Fries', 1), ('Salad', 7), ('Chicken', 2), (...        320.4   \n",
       "3      [('Salmon', 7), ('Pasta', 10), ('Shrimp', 5)]        832.0   \n",
       "4  [('Salad', 2), ('Steak', 10), ('Chicken', 2), ...        892.4   \n",
       "\n",
       "   customer_lat  customer_lon  customerHasloyalty?  distance_to_customer_KM  \\\n",
       "0    -37.806521    144.944874                    0                   10.082   \n",
       "1    -37.810712    144.946133                    0                    9.145   \n",
       "2    -37.819004    144.954318                    0                    8.676   \n",
       "3    -37.817244    144.967764                    0                   11.792   \n",
       "4    -37.809557    144.972643                    0                    6.714   \n",
       "\n",
       "   delivery_fee  \n",
       "0     13.802598  \n",
       "1     16.150990  \n",
       "2     16.680944  \n",
       "3     11.549074  \n",
       "4     12.512411  "
      ]
     },
     "execution_count": 6,
     "metadata": {},
     "output_type": "execute_result"
    }
   ],
   "source": [
    "#inspect dirty data head\n",
    "dirty_data.head()"
   ]
  },
  {
   "cell_type": "code",
   "execution_count": 9,
   "metadata": {},
   "outputs": [
    {
     "data": {
      "text/html": [
       "<div>\n",
       "<style scoped>\n",
       "    .dataframe tbody tr th:only-of-type {\n",
       "        vertical-align: middle;\n",
       "    }\n",
       "\n",
       "    .dataframe tbody tr th {\n",
       "        vertical-align: top;\n",
       "    }\n",
       "\n",
       "    .dataframe thead th {\n",
       "        text-align: right;\n",
       "    }\n",
       "</style>\n",
       "<table border=\"1\" class=\"dataframe\">\n",
       "  <thead>\n",
       "    <tr style=\"text-align: right;\">\n",
       "      <th></th>\n",
       "      <th>order_id</th>\n",
       "      <th>date</th>\n",
       "      <th>time</th>\n",
       "      <th>order_type</th>\n",
       "      <th>branch_code</th>\n",
       "      <th>order_items</th>\n",
       "      <th>order_price</th>\n",
       "      <th>customer_lat</th>\n",
       "      <th>customer_lon</th>\n",
       "      <th>customerHasloyalty?</th>\n",
       "      <th>distance_to_customer_KM</th>\n",
       "      <th>delivery_fee</th>\n",
       "    </tr>\n",
       "  </thead>\n",
       "  <tbody>\n",
       "    <tr>\n",
       "      <th>495</th>\n",
       "      <td>ORDX04741</td>\n",
       "      <td>2021-03-24</td>\n",
       "      <td>10:42:15</td>\n",
       "      <td>Breakfast</td>\n",
       "      <td>BK</td>\n",
       "      <td>[('Coffee', 9), ('Pancake', 9)]</td>\n",
       "      <td>249.75</td>\n",
       "      <td>-37.806837</td>\n",
       "      <td>144.951380</td>\n",
       "      <td>0</td>\n",
       "      <td>8.581</td>\n",
       "      <td>13.103430</td>\n",
       "    </tr>\n",
       "    <tr>\n",
       "      <th>496</th>\n",
       "      <td>ORDJ05472</td>\n",
       "      <td>2021-10-03</td>\n",
       "      <td>17:07:36</td>\n",
       "      <td>Dinner</td>\n",
       "      <td>TP</td>\n",
       "      <td>[('Pasta', 4), ('Fish&amp;Chips', 7), ('Shrimp', 2)]</td>\n",
       "      <td>463.00</td>\n",
       "      <td>-37.807966</td>\n",
       "      <td>144.945429</td>\n",
       "      <td>0</td>\n",
       "      <td>9.956</td>\n",
       "      <td>15.517818</td>\n",
       "    </tr>\n",
       "    <tr>\n",
       "      <th>497</th>\n",
       "      <td>ORDK01012</td>\n",
       "      <td>2021-06-16</td>\n",
       "      <td>13:24:30</td>\n",
       "      <td>Lunch</td>\n",
       "      <td>BK</td>\n",
       "      <td>[('Burger', 5), ('Chicken', 5), ('Fries', 10),...</td>\n",
       "      <td>600.40</td>\n",
       "      <td>-37.807797</td>\n",
       "      <td>144.973202</td>\n",
       "      <td>0</td>\n",
       "      <td>6.525</td>\n",
       "      <td>11.838280</td>\n",
       "    </tr>\n",
       "    <tr>\n",
       "      <th>498</th>\n",
       "      <td>ORDK04997</td>\n",
       "      <td>2021-03-16</td>\n",
       "      <td>10:21:58</td>\n",
       "      <td>Breakfast</td>\n",
       "      <td>BK</td>\n",
       "      <td>[('Eggs', 8), ('Coffee', 2), ('Cereal', 3), ('...</td>\n",
       "      <td>283.50</td>\n",
       "      <td>-37.799207</td>\n",
       "      <td>144.961314</td>\n",
       "      <td>0</td>\n",
       "      <td>8.333</td>\n",
       "      <td>13.031216</td>\n",
       "    </tr>\n",
       "    <tr>\n",
       "      <th>499</th>\n",
       "      <td>ORDA02222</td>\n",
       "      <td>2021-04-27</td>\n",
       "      <td>11:53:14</td>\n",
       "      <td>Breakfast</td>\n",
       "      <td>BK</td>\n",
       "      <td>[('Pancake', 7), ('Coffee', 1), ('Cereal', 8)]</td>\n",
       "      <td>321.25</td>\n",
       "      <td>-37.803561</td>\n",
       "      <td>144.918101</td>\n",
       "      <td>0</td>\n",
       "      <td>11.587</td>\n",
       "      <td>16.161815</td>\n",
       "    </tr>\n",
       "  </tbody>\n",
       "</table>\n",
       "</div>"
      ],
      "text/plain": [
       "      order_id        date      time order_type branch_code  \\\n",
       "495  ORDX04741  2021-03-24  10:42:15  Breakfast          BK   \n",
       "496  ORDJ05472  2021-10-03  17:07:36     Dinner          TP   \n",
       "497  ORDK01012  2021-06-16  13:24:30      Lunch          BK   \n",
       "498  ORDK04997  2021-03-16  10:21:58  Breakfast          BK   \n",
       "499  ORDA02222  2021-04-27  11:53:14  Breakfast          BK   \n",
       "\n",
       "                                           order_items  order_price  \\\n",
       "495                    [('Coffee', 9), ('Pancake', 9)]       249.75   \n",
       "496   [('Pasta', 4), ('Fish&Chips', 7), ('Shrimp', 2)]       463.00   \n",
       "497  [('Burger', 5), ('Chicken', 5), ('Fries', 10),...       600.40   \n",
       "498  [('Eggs', 8), ('Coffee', 2), ('Cereal', 3), ('...       283.50   \n",
       "499     [('Pancake', 7), ('Coffee', 1), ('Cereal', 8)]       321.25   \n",
       "\n",
       "     customer_lat  customer_lon  customerHasloyalty?  distance_to_customer_KM  \\\n",
       "495    -37.806837    144.951380                    0                    8.581   \n",
       "496    -37.807966    144.945429                    0                    9.956   \n",
       "497    -37.807797    144.973202                    0                    6.525   \n",
       "498    -37.799207    144.961314                    0                    8.333   \n",
       "499    -37.803561    144.918101                    0                   11.587   \n",
       "\n",
       "     delivery_fee  \n",
       "495     13.103430  \n",
       "496     15.517818  \n",
       "497     11.838280  \n",
       "498     13.031216  \n",
       "499     16.161815  "
      ]
     },
     "execution_count": 9,
     "metadata": {},
     "output_type": "execute_result"
    }
   ],
   "source": [
    "#inspect dirty data head\n",
    "dirty_data.tail()"
   ]
  },
  {
   "cell_type": "code",
   "execution_count": 7,
   "metadata": {
    "collapsed": false,
    "jupyter": {
     "outputs_hidden": false
    }
   },
   "outputs": [
    {
     "data": {
      "text/html": [
       "<div>\n",
       "<style scoped>\n",
       "    .dataframe tbody tr th:only-of-type {\n",
       "        vertical-align: middle;\n",
       "    }\n",
       "\n",
       "    .dataframe tbody tr th {\n",
       "        vertical-align: top;\n",
       "    }\n",
       "\n",
       "    .dataframe thead th {\n",
       "        text-align: right;\n",
       "    }\n",
       "</style>\n",
       "<table border=\"1\" class=\"dataframe\">\n",
       "  <thead>\n",
       "    <tr style=\"text-align: right;\">\n",
       "      <th></th>\n",
       "      <th>order_price</th>\n",
       "      <th>customer_lat</th>\n",
       "      <th>customer_lon</th>\n",
       "      <th>customerHasloyalty?</th>\n",
       "      <th>distance_to_customer_KM</th>\n",
       "      <th>delivery_fee</th>\n",
       "    </tr>\n",
       "  </thead>\n",
       "  <tbody>\n",
       "    <tr>\n",
       "      <th>count</th>\n",
       "      <td>500.000000</td>\n",
       "      <td>500.000000</td>\n",
       "      <td>500.000000</td>\n",
       "      <td>500.000000</td>\n",
       "      <td>500.000000</td>\n",
       "      <td>500.000000</td>\n",
       "    </tr>\n",
       "    <tr>\n",
       "      <th>mean</th>\n",
       "      <td>481.516700</td>\n",
       "      <td>-35.379832</td>\n",
       "      <td>143.138468</td>\n",
       "      <td>0.066000</td>\n",
       "      <td>8.613976</td>\n",
       "      <td>13.669932</td>\n",
       "    </tr>\n",
       "    <tr>\n",
       "      <th>std</th>\n",
       "      <td>265.064722</td>\n",
       "      <td>19.355386</td>\n",
       "      <td>18.203815</td>\n",
       "      <td>0.248531</td>\n",
       "      <td>1.643464</td>\n",
       "      <td>2.392980</td>\n",
       "    </tr>\n",
       "    <tr>\n",
       "      <th>min</th>\n",
       "      <td>41.000000</td>\n",
       "      <td>-37.833333</td>\n",
       "      <td>-37.816142</td>\n",
       "      <td>0.000000</td>\n",
       "      <td>3.657000</td>\n",
       "      <td>5.218812</td>\n",
       "    </tr>\n",
       "    <tr>\n",
       "      <th>25%</th>\n",
       "      <td>276.812500</td>\n",
       "      <td>-37.819053</td>\n",
       "      <td>144.951689</td>\n",
       "      <td>0.000000</td>\n",
       "      <td>7.630750</td>\n",
       "      <td>12.589348</td>\n",
       "    </tr>\n",
       "    <tr>\n",
       "      <th>50%</th>\n",
       "      <td>436.600000</td>\n",
       "      <td>-37.812472</td>\n",
       "      <td>144.963557</td>\n",
       "      <td>0.000000</td>\n",
       "      <td>8.762500</td>\n",
       "      <td>13.921834</td>\n",
       "    </tr>\n",
       "    <tr>\n",
       "      <th>75%</th>\n",
       "      <td>656.075000</td>\n",
       "      <td>-37.805754</td>\n",
       "      <td>144.977142</td>\n",
       "      <td>0.000000</td>\n",
       "      <td>9.631000</td>\n",
       "      <td>15.094976</td>\n",
       "    </tr>\n",
       "    <tr>\n",
       "      <th>max</th>\n",
       "      <td>1432.000000</td>\n",
       "      <td>145.000032</td>\n",
       "      <td>145.017716</td>\n",
       "      <td>1.000000</td>\n",
       "      <td>16.698000</td>\n",
       "      <td>21.566636</td>\n",
       "    </tr>\n",
       "  </tbody>\n",
       "</table>\n",
       "</div>"
      ],
      "text/plain": [
       "       order_price  customer_lat  customer_lon  customerHasloyalty?  \\\n",
       "count   500.000000    500.000000    500.000000           500.000000   \n",
       "mean    481.516700    -35.379832    143.138468             0.066000   \n",
       "std     265.064722     19.355386     18.203815             0.248531   \n",
       "min      41.000000    -37.833333    -37.816142             0.000000   \n",
       "25%     276.812500    -37.819053    144.951689             0.000000   \n",
       "50%     436.600000    -37.812472    144.963557             0.000000   \n",
       "75%     656.075000    -37.805754    144.977142             0.000000   \n",
       "max    1432.000000    145.000032    145.017716             1.000000   \n",
       "\n",
       "       distance_to_customer_KM  delivery_fee  \n",
       "count               500.000000    500.000000  \n",
       "mean                  8.613976     13.669932  \n",
       "std                   1.643464      2.392980  \n",
       "min                   3.657000      5.218812  \n",
       "25%                   7.630750     12.589348  \n",
       "50%                   8.762500     13.921834  \n",
       "75%                   9.631000     15.094976  \n",
       "max                  16.698000     21.566636  "
      ]
     },
     "execution_count": 7,
     "metadata": {},
     "output_type": "execute_result"
    }
   ],
   "source": [
    "# summarise numerical variables\n",
    "dirty_data.describe()"
   ]
  },
  {
   "cell_type": "code",
   "execution_count": null,
   "metadata": {},
   "outputs": [],
   "source": []
  },
  {
   "cell_type": "markdown",
   "metadata": {},
   "source": [
    "The following observations can be made about the `dirty_data` data frame:\n",
    "\n",
    "* There are 500 observations in total, each corresponding to a delivery order.\n",
    "* The date and time variables need to be formatted into a proper variable.\n"
   ]
  },
  {
   "cell_type": "code",
   "execution_count": 22,
   "metadata": {
    "collapsed": false,
    "jupyter": {
     "outputs_hidden": false
    }
   },
   "outputs": [
    {
     "data": {
      "text/html": [
       "<div>\n",
       "<style scoped>\n",
       "    .dataframe tbody tr th:only-of-type {\n",
       "        vertical-align: middle;\n",
       "    }\n",
       "\n",
       "    .dataframe tbody tr th {\n",
       "        vertical-align: top;\n",
       "    }\n",
       "\n",
       "    .dataframe thead th {\n",
       "        text-align: right;\n",
       "    }\n",
       "</style>\n",
       "<table border=\"1\" class=\"dataframe\">\n",
       "  <thead>\n",
       "    <tr style=\"text-align: right;\">\n",
       "      <th></th>\n",
       "      <th>order_price</th>\n",
       "      <th>customer_lat</th>\n",
       "      <th>customer_lon</th>\n",
       "      <th>customerHasloyalty?</th>\n",
       "      <th>distance_to_customer_KM</th>\n",
       "      <th>delivery_fee</th>\n",
       "    </tr>\n",
       "  </thead>\n",
       "  <tbody>\n",
       "    <tr>\n",
       "      <th>count</th>\n",
       "      <td>500.000000</td>\n",
       "      <td>500.000000</td>\n",
       "      <td>500.000000</td>\n",
       "      <td>500.000000</td>\n",
       "      <td>500.000000</td>\n",
       "      <td>400.000000</td>\n",
       "    </tr>\n",
       "    <tr>\n",
       "      <th>mean</th>\n",
       "      <td>478.684000</td>\n",
       "      <td>-37.812103</td>\n",
       "      <td>144.967062</td>\n",
       "      <td>0.054000</td>\n",
       "      <td>8.693266</td>\n",
       "      <td>13.811205</td>\n",
       "    </tr>\n",
       "    <tr>\n",
       "      <th>std</th>\n",
       "      <td>272.722121</td>\n",
       "      <td>0.007481</td>\n",
       "      <td>0.021305</td>\n",
       "      <td>0.226244</td>\n",
       "      <td>1.663536</td>\n",
       "      <td>2.413113</td>\n",
       "    </tr>\n",
       "    <tr>\n",
       "      <th>min</th>\n",
       "      <td>33.250000</td>\n",
       "      <td>-37.828542</td>\n",
       "      <td>144.916772</td>\n",
       "      <td>0.000000</td>\n",
       "      <td>3.478000</td>\n",
       "      <td>5.793977</td>\n",
       "    </tr>\n",
       "    <tr>\n",
       "      <th>25%</th>\n",
       "      <td>272.750000</td>\n",
       "      <td>-37.818302</td>\n",
       "      <td>144.952119</td>\n",
       "      <td>0.000000</td>\n",
       "      <td>7.734000</td>\n",
       "      <td>12.732104</td>\n",
       "    </tr>\n",
       "    <tr>\n",
       "      <th>50%</th>\n",
       "      <td>417.500000</td>\n",
       "      <td>-37.812203</td>\n",
       "      <td>144.964018</td>\n",
       "      <td>0.000000</td>\n",
       "      <td>8.704500</td>\n",
       "      <td>13.808147</td>\n",
       "    </tr>\n",
       "    <tr>\n",
       "      <th>75%</th>\n",
       "      <td>665.000000</td>\n",
       "      <td>-37.805941</td>\n",
       "      <td>144.981600</td>\n",
       "      <td>0.000000</td>\n",
       "      <td>9.747500</td>\n",
       "      <td>15.173717</td>\n",
       "    </tr>\n",
       "    <tr>\n",
       "      <th>max</th>\n",
       "      <td>1335.500000</td>\n",
       "      <td>-37.796450</td>\n",
       "      <td>145.018370</td>\n",
       "      <td>1.000000</td>\n",
       "      <td>16.645000</td>\n",
       "      <td>22.281960</td>\n",
       "    </tr>\n",
       "  </tbody>\n",
       "</table>\n",
       "</div>"
      ],
      "text/plain": [
       "       order_price  customer_lat  customer_lon  customerHasloyalty?  \\\n",
       "count   500.000000    500.000000    500.000000           500.000000   \n",
       "mean    478.684000    -37.812103    144.967062             0.054000   \n",
       "std     272.722121      0.007481      0.021305             0.226244   \n",
       "min      33.250000    -37.828542    144.916772             0.000000   \n",
       "25%     272.750000    -37.818302    144.952119             0.000000   \n",
       "50%     417.500000    -37.812203    144.964018             0.000000   \n",
       "75%     665.000000    -37.805941    144.981600             0.000000   \n",
       "max    1335.500000    -37.796450    145.018370             1.000000   \n",
       "\n",
       "       distance_to_customer_KM  delivery_fee  \n",
       "count               500.000000    400.000000  \n",
       "mean                  8.693266     13.811205  \n",
       "std                   1.663536      2.413113  \n",
       "min                   3.478000      5.793977  \n",
       "25%                   7.734000     12.732104  \n",
       "50%                   8.704500     13.808147  \n",
       "75%                   9.747500     15.173717  \n",
       "max                  16.645000     22.281960  "
      ]
     },
     "execution_count": 22,
     "metadata": {},
     "output_type": "execute_result"
    }
   ],
   "source": [
    "missing_data.describe()"
   ]
  },
  {
   "cell_type": "code",
   "execution_count": 23,
   "metadata": {
    "collapsed": false,
    "jupyter": {
     "outputs_hidden": false
    }
   },
   "outputs": [
    {
     "data": {
      "text/html": [
       "<div>\n",
       "<style scoped>\n",
       "    .dataframe tbody tr th:only-of-type {\n",
       "        vertical-align: middle;\n",
       "    }\n",
       "\n",
       "    .dataframe tbody tr th {\n",
       "        vertical-align: top;\n",
       "    }\n",
       "\n",
       "    .dataframe thead th {\n",
       "        text-align: right;\n",
       "    }\n",
       "</style>\n",
       "<table border=\"1\" class=\"dataframe\">\n",
       "  <thead>\n",
       "    <tr style=\"text-align: right;\">\n",
       "      <th></th>\n",
       "      <th>order_price</th>\n",
       "      <th>customer_lat</th>\n",
       "      <th>customer_lon</th>\n",
       "      <th>customerHasloyalty?</th>\n",
       "      <th>distance_to_customer_KM</th>\n",
       "      <th>delivery_fee</th>\n",
       "    </tr>\n",
       "  </thead>\n",
       "  <tbody>\n",
       "    <tr>\n",
       "      <th>count</th>\n",
       "      <td>500.000000</td>\n",
       "      <td>500.000000</td>\n",
       "      <td>500.000000</td>\n",
       "      <td>500.000000</td>\n",
       "      <td>500.000000</td>\n",
       "      <td>500.000000</td>\n",
       "    </tr>\n",
       "    <tr>\n",
       "      <th>mean</th>\n",
       "      <td>498.573400</td>\n",
       "      <td>-37.812952</td>\n",
       "      <td>144.967694</td>\n",
       "      <td>0.052000</td>\n",
       "      <td>8.758112</td>\n",
       "      <td>13.690094</td>\n",
       "    </tr>\n",
       "    <tr>\n",
       "      <th>std</th>\n",
       "      <td>264.370055</td>\n",
       "      <td>0.007630</td>\n",
       "      <td>0.021310</td>\n",
       "      <td>0.222249</td>\n",
       "      <td>1.651498</td>\n",
       "      <td>3.138408</td>\n",
       "    </tr>\n",
       "    <tr>\n",
       "      <th>min</th>\n",
       "      <td>36.500000</td>\n",
       "      <td>-37.833333</td>\n",
       "      <td>144.921857</td>\n",
       "      <td>0.000000</td>\n",
       "      <td>3.605000</td>\n",
       "      <td>4.189152</td>\n",
       "    </tr>\n",
       "    <tr>\n",
       "      <th>25%</th>\n",
       "      <td>287.000000</td>\n",
       "      <td>-37.819211</td>\n",
       "      <td>144.952230</td>\n",
       "      <td>0.000000</td>\n",
       "      <td>7.798500</td>\n",
       "      <td>12.429743</td>\n",
       "    </tr>\n",
       "    <tr>\n",
       "      <th>50%</th>\n",
       "      <td>464.900000</td>\n",
       "      <td>-37.813074</td>\n",
       "      <td>144.964640</td>\n",
       "      <td>0.000000</td>\n",
       "      <td>8.864500</td>\n",
       "      <td>13.807846</td>\n",
       "    </tr>\n",
       "    <tr>\n",
       "      <th>75%</th>\n",
       "      <td>677.975000</td>\n",
       "      <td>-37.806776</td>\n",
       "      <td>144.982712</td>\n",
       "      <td>0.000000</td>\n",
       "      <td>9.720000</td>\n",
       "      <td>15.268315</td>\n",
       "    </tr>\n",
       "    <tr>\n",
       "      <th>max</th>\n",
       "      <td>1493.000000</td>\n",
       "      <td>-37.798083</td>\n",
       "      <td>145.019590</td>\n",
       "      <td>1.000000</td>\n",
       "      <td>16.676000</td>\n",
       "      <td>28.822662</td>\n",
       "    </tr>\n",
       "  </tbody>\n",
       "</table>\n",
       "</div>"
      ],
      "text/plain": [
       "       order_price  customer_lat  customer_lon  customerHasloyalty?  \\\n",
       "count   500.000000    500.000000    500.000000           500.000000   \n",
       "mean    498.573400    -37.812952    144.967694             0.052000   \n",
       "std     264.370055      0.007630      0.021310             0.222249   \n",
       "min      36.500000    -37.833333    144.921857             0.000000   \n",
       "25%     287.000000    -37.819211    144.952230             0.000000   \n",
       "50%     464.900000    -37.813074    144.964640             0.000000   \n",
       "75%     677.975000    -37.806776    144.982712             0.000000   \n",
       "max    1493.000000    -37.798083    145.019590             1.000000   \n",
       "\n",
       "       distance_to_customer_KM  delivery_fee  \n",
       "count               500.000000    500.000000  \n",
       "mean                  8.758112     13.690094  \n",
       "std                   1.651498      3.138408  \n",
       "min                   3.605000      4.189152  \n",
       "25%                   7.798500     12.429743  \n",
       "50%                   8.864500     13.807846  \n",
       "75%                   9.720000     15.268315  \n",
       "max                  16.676000     28.822662  "
      ]
     },
     "execution_count": 23,
     "metadata": {},
     "output_type": "execute_result"
    }
   ],
   "source": [
    "outlier_data.describe()"
   ]
  },
  {
   "cell_type": "markdown",
   "metadata": {},
   "source": [
    "It can be insightful to review some information about the number of files (confirming there are no files missing) and the naming convention."
   ]
  },
  {
   "cell_type": "code",
   "execution_count": 24,
   "metadata": {
    "collapsed": false,
    "jupyter": {
     "outputs_hidden": false
    }
   },
   "outputs": [
    {
     "data": {
      "text/plain": [
       "order_id                     0\n",
       "date                         0\n",
       "time                         0\n",
       "order_type                   0\n",
       "branch_code                 50\n",
       "order_items                  0\n",
       "order_price                  0\n",
       "customer_lat                 0\n",
       "customer_lon                 0\n",
       "customerHasloyalty?          0\n",
       "distance_to_customer_KM      0\n",
       "delivery_fee               100\n",
       "dtype: int64"
      ]
     },
     "execution_count": 24,
     "metadata": {},
     "output_type": "execute_result"
    }
   ],
   "source": [
    "missing_data.isna().sum()"
   ]
  },
  {
   "cell_type": "code",
   "execution_count": 25,
   "metadata": {
    "collapsed": false,
    "jupyter": {
     "outputs_hidden": false
    }
   },
   "outputs": [
    {
     "data": {
      "text/plain": [
       "order_id                     0\n",
       "date                         0\n",
       "time                         0\n",
       "order_type                   0\n",
       "branch_code                 50\n",
       "order_items                  0\n",
       "order_price                  0\n",
       "customer_lat                 0\n",
       "customer_lon                 0\n",
       "customerHasloyalty?          0\n",
       "distance_to_customer_KM      0\n",
       "delivery_fee               100\n",
       "dtype: int64"
      ]
     },
     "execution_count": 25,
     "metadata": {},
     "output_type": "execute_result"
    }
   ],
   "source": [
    "missing_data.isnull().sum()"
   ]
  },
  {
   "cell_type": "code",
   "execution_count": 26,
   "metadata": {
    "collapsed": false,
    "jupyter": {
     "outputs_hidden": false
    }
   },
   "outputs": [
    {
     "name": "stdout",
     "output_type": "stream",
     "text": [
      "<class 'pandas.core.frame.DataFrame'>\n",
      "RangeIndex: 500 entries, 0 to 499\n",
      "Data columns (total 12 columns):\n",
      " #   Column                   Non-Null Count  Dtype  \n",
      "---  ------                   --------------  -----  \n",
      " 0   order_id                 500 non-null    object \n",
      " 1   date                     500 non-null    object \n",
      " 2   time                     500 non-null    object \n",
      " 3   order_type               500 non-null    object \n",
      " 4   branch_code              450 non-null    object \n",
      " 5   order_items              500 non-null    object \n",
      " 6   order_price              500 non-null    float64\n",
      " 7   customer_lat             500 non-null    float64\n",
      " 8   customer_lon             500 non-null    float64\n",
      " 9   customerHasloyalty?      500 non-null    int64  \n",
      " 10  distance_to_customer_KM  500 non-null    float64\n",
      " 11  delivery_fee             400 non-null    float64\n",
      "dtypes: float64(5), int64(1), object(6)\n",
      "memory usage: 47.0+ KB\n"
     ]
    }
   ],
   "source": [
    "missing_data.info()"
   ]
  },
  {
   "cell_type": "code",
   "execution_count": null,
   "metadata": {
    "collapsed": false,
    "jupyter": {
     "outputs_hidden": false
    }
   },
   "outputs": [],
   "source": []
  },
  {
   "cell_type": "code",
   "execution_count": null,
   "metadata": {
    "collapsed": false,
    "jupyter": {
     "outputs_hidden": false
    }
   },
   "outputs": [],
   "source": []
  },
  {
   "cell_type": "code",
   "execution_count": 14,
   "metadata": {
    "collapsed": false,
    "jupyter": {
     "outputs_hidden": false
    }
   },
   "outputs": [],
   "source": []
  },
  {
   "cell_type": "markdown",
   "metadata": {
    "id": "20RDw_JDiqLF"
   },
   "source": [
    "-------------------------------------"
   ]
  },
  {
   "cell_type": "markdown",
   "metadata": {
    "id": "cO8vwKqkiqLF"
   },
   "source": [
    "## Summary <a class=\"anchor\" name=\"summary\"></a>"
   ]
  },
  {
   "cell_type": "markdown",
   "metadata": {
    "id": "4QdX7ozQiqLF"
   },
   "source": [
    "In conclussion, this excercise has covered all the necessary steps required to process semi-structured files into a unified dataframe that is adequate for analysis.\n",
    "<br>\n",
    "The key steps of the process undoubtedly lie on understanding the structure of the information to be structured. In this case, the data was formatted in HTML and hence it wasn't too difficult to design regular expressions that could extract the right type of information.\n",
    "<br>\n",
    "With the right regular expression design, the data was extracted using simple loops to store the data into a format that is efficient to parse (in this case, a list). Lastly, the pandas library was extremely helpful in structuring the data in a tabular format that can then be examined."
   ]
  },
  {
   "cell_type": "markdown",
   "metadata": {
    "id": "TnASfTmniqLF"
   },
   "source": [
    "-------------------------------------"
   ]
  },
  {
   "cell_type": "markdown",
   "metadata": {
    "id": "Li7bchX9iqLF"
   },
   "source": [
    "## References <a class=\"anchor\" name=\"Ref\"></a>\n"
   ]
  },
  {
   "cell_type": "markdown",
   "metadata": {
    "id": "TkWuWC3NiqLF"
   },
   "source": [
    "\n",
    "\n",
    "[1]<a class=\"anchor\" name=\"ref-2\"></a> Why do I need to add DOTALL to python regular expression to match new line in raw string, https://stackoverflow.com/questions/22610247, Accessed 30/08/2022.\n",
    "\n",
    "....\n"
   ]
  },
  {
   "cell_type": "markdown",
   "metadata": {
    "id": "dVyuz4LciqLG"
   },
   "source": [
    "--------------------------------------------------------------------------------------------------------------------------"
   ]
  }
 ],
 "metadata": {
  "colab": {
   "name": "task1_xxxxxxx.ipynb",
   "provenance": []
  },
  "kernelspec": {
   "display_name": "Python 3 (ipykernel)",
   "language": "python",
   "name": "python3"
  },
  "language_info": {
   "codemirror_mode": {
    "name": "ipython",
    "version": 3
   },
   "file_extension": ".py",
   "mimetype": "text/x-python",
   "name": "python",
   "nbconvert_exporter": "python",
   "pygments_lexer": "ipython3",
   "version": "3.9.12"
  },
  "toc-autonumbering": true,
  "toc-showtags": false
 },
 "nbformat": 4,
 "nbformat_minor": 4
}
