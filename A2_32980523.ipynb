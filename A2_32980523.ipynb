{
 "cells": [
  {
   "cell_type": "markdown",
   "metadata": {},
   "source": [
    "# FIT5196 Assessment 2\n",
    "\n",
    "Student Name: Juan Pablo Grimaldi\n",
    "Student ID: 32980523\n",
    "\n",
    "Date: 31 August 2022\n",
    "\n",
    "\n",
    "Environment: Python 3.9\n",
    "\n",
    "Libraries used:\n",
    "* os (for interacting with the operating system, included in Python 3.xxx package) \n",
    "* re (for regular expression, installed and imported) \n",
    "* pandas (for data manipulation)"
   ]
  },
  {
   "cell_type": "markdown",
   "metadata": {},
   "source": [
    "-------------------------------------"
   ]
  },
  {
   "cell_type": "markdown",
   "metadata": {},
   "source": [
    "# Table of Contents\n",
    "\n",
    "\n",
    "[1. Introduction](#Intro) <br>\n",
    "[2. Importing Libraries](#libs) <br>\n",
    "[3. Examining Review Files](#examine) <br>\n",
    "[4. Loading and Parsing Files](#load) <br>\n",
    "$\\;\\;\\;\\;$[4.1. Defining Regular Expressions](#Reg_Exp) <br>\n",
    "$\\;\\;\\;\\;$[4.2. Extract Information](#Read) <br>\n",
    "$\\;\\;\\;\\;$[4.3. Structure results and data export](#structure) <br>\n",
    "$\\;\\;\\;\\;$[4.4. Debugging](#debugging) <br>\n",
    "[5. Writing Output to CSV File](#write) <br>\n",
    "$\\;\\;\\;\\;$[5.1. Verification - using the sample files](#test) <br>\n",
    "[6. Summary](#summary) <br>\n",
    "[7. References](#Ref) <br>"
   ]
  },
  {
   "cell_type": "markdown",
   "metadata": {},
   "source": [
    "-------------------------------------"
   ]
  },
  {
   "cell_type": "markdown",
   "metadata": {},
   "source": [
    "## Introduction  <a class=\"anchor\" name=\"Intro\"></a>"
   ]
  },
  {
   "cell_type": "markdown",
   "metadata": {},
   "source": [
    "In the real world, it's unlikely to have the good fortune of working with perfectly clean data.\n",
    "Most often than not, data scientists will run into data sets that require some attention before\n",
    "the analysis can even begin. For example, it's common in domains like Finance to observe outliers\n",
    " within stock returns that would create a biased set of estimates when creating the models.\n",
    "\n",
    "George Box famously said:\n",
    "\n",
    "> “All models are wrong, but some are useful.”\n",
    "\n",
    "This reveals that data cleaning is indeed a key part of the process of data analysis, and\n",
    "this assessment will cover common issues and solutions of working with data."
   ]
  },
  {
   "cell_type": "markdown",
   "metadata": {},
   "source": [
    "### Assessment Specifications"
   ]
  },
  {
   "cell_type": "markdown",
   "metadata": {},
   "source": [
    "For this project, we will use and examine three data sets where each one of them contains a\n",
    "problem to be resolved:\n",
    "\n",
    "* `32980523_dirty_data.csv`: detect and fix errors.\n",
    "* `32980523_outlier_data.csv`: detect and remove outlier rows (to be found w.r.t delivery_fee\n",
    "attribute).\n",
    "* `32980523_missing_data.csv`: impute the missing values.\n",
    "\n",
    "In addition, there are three auxiliary files to be used during parts of the data cleaning process: `branches.csv`,`edges.csv`,`nodes.csv`.\n",
    "<br>\n",
    "The dataset contains Food Delivery data from a restaurant in Melbourne, Australia. The restaurant has three branches around CBD area. All three branches share the same menu but they have different management so they operate differently.\n",
    "<br>\n",
    "Below are the variables contained in the data sets:\n",
    "<br>\n",
    "* `order_id`: A unique id for each order\n",
    "* `date`: The date the order was made, given in YYYY-MM-DD format\n",
    "* `time`: The time the order was made, given in hh:mm:ss format\n",
    "* `order_type`: A categorical attribute representing the different types of orders namely: Breakfast, Lunch or Dinner\n",
    "* `branch_code`: A categorical attribute representing the branch code in which the order was made. Branch information is given in the branches.csv file.\n",
    "* `order_items`: A list of tuples representing the order items: first element of the tuple is the\n",
    "item ordered, and the second element is the quantity ordered for that item.\n",
    "* `order_price`: A float value representing the order total price.\n",
    "* `customer_lat`: Latitude of the customer coming from the nodes.csv file.\n",
    "* `customer_lon`: Longitude of the customer coming from the nodes.csv file.\n",
    "* `customerHasloyalty?`: A logical variable denoting whether the customer has a loyalty card with\n",
    "the restaurant (1 if the customer has loyalty and 0 otherwise).\n",
    "* `distance_to_customer_KM`: A float representing the shortest distance, in kilometers, between the branch and the customer nodes with respect to the nodes.csv and the edges.csv files.\n",
    "* `delivery_fee`: A float representing the delivery fee of the order.\n"
   ]
  },
  {
   "cell_type": "markdown",
   "metadata": {},
   "source": [
    "### Additional Information\n",
    "\n",
    "The following helpful details are also provided in the brief:\n",
    "\n",
    "* There are three types of meals:\n",
    "    * Breakfast - served during morning (8am - 12pm),\n",
    "    * Lunch - served during afternoon (12:00:01pm - 4pm)\n",
    "    * Dinner - served during evening (4:00:01pm - 8pm)\n",
    "\n",
    "* Each meal has a distinct set of items in the menu (ex: breakfast items can't be served during lunch or dinner and so on).\n",
    "\n",
    "* A useful python package to solve a linear system of equations is numpy.linalg\n",
    "\n",
    "* Delivery fee is calculated using a different method for each branch. The fee depends linearly (but in different ways for each branch) on:\n",
    "    1. weekend or weekday (1 or 0) - as a binary variable\n",
    "    2. time of the day (morning 0, afternoon 1, evening 2) - as a categorical variable\n",
    "    3. distance between branch and customer\n",
    "\n",
    "* **If a customer has loyalty, they get a 50% discount on delivery fee**\n",
    "\n",
    "* The restaurant uses Djikstra algorithm to calculate the shortest distance between customer and restaurant. (explore networkx python package for this or alternatively find a way to implement the algorithm yourself)\n",
    "\n",
    "* We know that the below columns are error-free:\n",
    "    * order_id\n",
    "    * time\n",
    "    * the numeric quantity in order_items\n",
    "\n",
    "-------------------------------------"
   ]
  },
  {
   "cell_type": "markdown",
   "metadata": {},
   "source": [
    "## Enviroment Preparation  <a class=\"anchor\" name=\"libs\"></a>"
   ]
  },
  {
   "cell_type": "markdown",
   "metadata": {},
   "source": [
    "The packages to be used in this assessment are imported in the following. They are used to fulfill the following tasks:\n",
    "\n",
    "* **pandas:** to structure the results into a tabular format, as per the assessment requirements.\n",
    "* **matplotlib:** for visual exploratory data analysis.\n",
    "* **missingno:** to process and visualise missing data."
   ]
  },
  {
   "cell_type": "code",
   "execution_count": 82,
   "metadata": {
    "collapsed": false,
    "jupyter": {
     "outputs_hidden": false
    }
   },
   "outputs": [],
   "source": [
    "import datetime\n",
    "\n",
    "# import libraries to be used in the assignment\n",
    "#Basic scientific python libs\n",
    "import pandas as pd\n",
    "# Visualisation\n",
    "import matplotlib as mpl\n",
    "import matplotlib.pyplot as plt\n",
    "import missingno as msno\n",
    "# Configure visualisations\n",
    "%matplotlib inline\n",
    "# to make things pretty\n",
    "mpl.style.use( 'ggplot' )"
   ]
  },
  {
   "cell_type": "markdown",
   "metadata": {},
   "source": [
    "-------------------------------------"
   ]
  },
  {
   "cell_type": "markdown",
   "metadata": {},
   "source": [
    "## Load and Examine Datasets <a class=\"anchor\" name=\"examine\"></a>"
   ]
  },
  {
   "cell_type": "markdown",
   "metadata": {},
   "source": [
    "<br>Most of the exploratory data analysis will be performed with methods from the `pandas` library.\n",
    "To begin the process, all the csv files will be read into a dataframe:\n"
   ]
  },
  {
   "cell_type": "code",
   "execution_count": 83,
   "metadata": {
    "collapsed": false,
    "jupyter": {
     "outputs_hidden": false
    }
   },
   "outputs": [],
   "source": [
    "#load datasets\n",
    "dirty_data = pd.read_csv(\"data/32980523_dirty_data.csv\")\n",
    "missing_data = pd.read_csv(\"data/32980523_missing_data.csv\")\n",
    "outlier_data = pd.read_csv(\"data/32980523_outlier_data.csv\")"
   ]
  },
  {
   "cell_type": "markdown",
   "metadata": {},
   "source": [
    "The following sections will cover the process of review and amendment of each of the datasets."
   ]
  },
  {
   "cell_type": "markdown",
   "metadata": {},
   "source": [
    "### Dirty Data"
   ]
  },
  {
   "cell_type": "markdown",
   "metadata": {},
   "source": [
    "Firstly, we will use the info() method to review the variably types within the dataset and print\n",
    "the data set size."
   ]
  },
  {
   "cell_type": "code",
   "execution_count": 84,
   "metadata": {
    "collapsed": false,
    "jupyter": {
     "outputs_hidden": false
    }
   },
   "outputs": [
    {
     "name": "stdout",
     "output_type": "stream",
     "text": [
      "---- Dirty Data: data types ----\n",
      "<class 'pandas.core.frame.DataFrame'>\n",
      "RangeIndex: 500 entries, 0 to 499\n",
      "Data columns (total 12 columns):\n",
      " #   Column                   Non-Null Count  Dtype  \n",
      "---  ------                   --------------  -----  \n",
      " 0   order_id                 500 non-null    object \n",
      " 1   date                     500 non-null    object \n",
      " 2   time                     500 non-null    object \n",
      " 3   order_type               500 non-null    object \n",
      " 4   branch_code              500 non-null    object \n",
      " 5   order_items              500 non-null    object \n",
      " 6   order_price              500 non-null    float64\n",
      " 7   customer_lat             500 non-null    float64\n",
      " 8   customer_lon             500 non-null    float64\n",
      " 9   customerHasloyalty?      500 non-null    int64  \n",
      " 10  distance_to_customer_KM  500 non-null    float64\n",
      " 11  delivery_fee             500 non-null    float64\n",
      "dtypes: float64(5), int64(1), object(6)\n",
      "memory usage: 47.0+ KB\n",
      "---- Dirty Data: data frame size ----\n"
     ]
    },
    {
     "data": {
      "text/plain": "(500, 12)"
     },
     "execution_count": 84,
     "metadata": {},
     "output_type": "execute_result"
    }
   ],
   "source": [
    "# review dirty data variable types\n",
    "print(\"---- Dirty Data: data types ----\")\n",
    "dirty_data.info()\n",
    "print(\"---- Dirty Data: data frame size ----\")\n",
    "dirty_data.shape"
   ]
  },
  {
   "cell_type": "markdown",
   "metadata": {},
   "source": [
    "Next, the head and tail methods from pandas will allow a quick overview of the dataframe structure."
   ]
  },
  {
   "cell_type": "code",
   "execution_count": 85,
   "metadata": {
    "collapsed": false,
    "jupyter": {
     "outputs_hidden": false
    }
   },
   "outputs": [
    {
     "data": {
      "text/plain": "    order_id        date      time order_type branch_code  \\\n0  ORDJ06243  2021-11-02  18:08:27     Dinner          TP   \n1  ORDA10907  2021-11-03  18:08:27     Dinner          BK   \n2  ORDA06776  2021-08-14  15:26:11      Lunch          BK   \n3  ORDY05744  2021-10-26  17:48:10     Dinner          TP   \n4  ORDX00833  2021-05-05  12:03:22      Lunch          BK   \n\n                                         order_items  order_price  \\\n0  [('Salmon', 4), ('Pasta', 2), ('Fish&Chips', 1...        308.0   \n1                      [('Salmon', 5), ('Pasta', 5)]        342.5   \n2  [('Fries', 1), ('Salad', 7), ('Chicken', 2), (...        320.4   \n3      [('Salmon', 7), ('Pasta', 10), ('Shrimp', 5)]        832.0   \n4  [('Salad', 2), ('Steak', 10), ('Chicken', 2), ...        892.4   \n\n   customer_lat  customer_lon  customerHasloyalty?  distance_to_customer_KM  \\\n0    -37.806521    144.944874                    0                   10.082   \n1    -37.810712    144.946133                    0                    9.145   \n2    -37.819004    144.954318                    0                    8.676   \n3    -37.817244    144.967764                    0                   11.792   \n4    -37.809557    144.972643                    0                    6.714   \n\n   delivery_fee  \n0     13.802598  \n1     16.150990  \n2     16.680944  \n3     11.549074  \n4     12.512411  ",
      "text/html": "<div>\n<style scoped>\n    .dataframe tbody tr th:only-of-type {\n        vertical-align: middle;\n    }\n\n    .dataframe tbody tr th {\n        vertical-align: top;\n    }\n\n    .dataframe thead th {\n        text-align: right;\n    }\n</style>\n<table border=\"1\" class=\"dataframe\">\n  <thead>\n    <tr style=\"text-align: right;\">\n      <th></th>\n      <th>order_id</th>\n      <th>date</th>\n      <th>time</th>\n      <th>order_type</th>\n      <th>branch_code</th>\n      <th>order_items</th>\n      <th>order_price</th>\n      <th>customer_lat</th>\n      <th>customer_lon</th>\n      <th>customerHasloyalty?</th>\n      <th>distance_to_customer_KM</th>\n      <th>delivery_fee</th>\n    </tr>\n  </thead>\n  <tbody>\n    <tr>\n      <th>0</th>\n      <td>ORDJ06243</td>\n      <td>2021-11-02</td>\n      <td>18:08:27</td>\n      <td>Dinner</td>\n      <td>TP</td>\n      <td>[('Salmon', 4), ('Pasta', 2), ('Fish&amp;Chips', 1...</td>\n      <td>308.0</td>\n      <td>-37.806521</td>\n      <td>144.944874</td>\n      <td>0</td>\n      <td>10.082</td>\n      <td>13.802598</td>\n    </tr>\n    <tr>\n      <th>1</th>\n      <td>ORDA10907</td>\n      <td>2021-11-03</td>\n      <td>18:08:27</td>\n      <td>Dinner</td>\n      <td>BK</td>\n      <td>[('Salmon', 5), ('Pasta', 5)]</td>\n      <td>342.5</td>\n      <td>-37.810712</td>\n      <td>144.946133</td>\n      <td>0</td>\n      <td>9.145</td>\n      <td>16.150990</td>\n    </tr>\n    <tr>\n      <th>2</th>\n      <td>ORDA06776</td>\n      <td>2021-08-14</td>\n      <td>15:26:11</td>\n      <td>Lunch</td>\n      <td>BK</td>\n      <td>[('Fries', 1), ('Salad', 7), ('Chicken', 2), (...</td>\n      <td>320.4</td>\n      <td>-37.819004</td>\n      <td>144.954318</td>\n      <td>0</td>\n      <td>8.676</td>\n      <td>16.680944</td>\n    </tr>\n    <tr>\n      <th>3</th>\n      <td>ORDY05744</td>\n      <td>2021-10-26</td>\n      <td>17:48:10</td>\n      <td>Dinner</td>\n      <td>TP</td>\n      <td>[('Salmon', 7), ('Pasta', 10), ('Shrimp', 5)]</td>\n      <td>832.0</td>\n      <td>-37.817244</td>\n      <td>144.967764</td>\n      <td>0</td>\n      <td>11.792</td>\n      <td>11.549074</td>\n    </tr>\n    <tr>\n      <th>4</th>\n      <td>ORDX00833</td>\n      <td>2021-05-05</td>\n      <td>12:03:22</td>\n      <td>Lunch</td>\n      <td>BK</td>\n      <td>[('Salad', 2), ('Steak', 10), ('Chicken', 2), ...</td>\n      <td>892.4</td>\n      <td>-37.809557</td>\n      <td>144.972643</td>\n      <td>0</td>\n      <td>6.714</td>\n      <td>12.512411</td>\n    </tr>\n  </tbody>\n</table>\n</div>"
     },
     "execution_count": 85,
     "metadata": {},
     "output_type": "execute_result"
    }
   ],
   "source": [
    "#inspect dirty data head\n",
    "dirty_data.head()"
   ]
  },
  {
   "cell_type": "code",
   "execution_count": 86,
   "metadata": {
    "collapsed": false,
    "jupyter": {
     "outputs_hidden": false
    }
   },
   "outputs": [
    {
     "data": {
      "text/plain": "      order_id        date      time order_type branch_code  \\\n495  ORDX04741  2021-03-24  10:42:15  Breakfast          BK   \n496  ORDJ05472  2021-10-03  17:07:36     Dinner          TP   \n497  ORDK01012  2021-06-16  13:24:30      Lunch          BK   \n498  ORDK04997  2021-03-16  10:21:58  Breakfast          BK   \n499  ORDA02222  2021-04-27  11:53:14  Breakfast          BK   \n\n                                           order_items  order_price  \\\n495                    [('Coffee', 9), ('Pancake', 9)]       249.75   \n496   [('Pasta', 4), ('Fish&Chips', 7), ('Shrimp', 2)]       463.00   \n497  [('Burger', 5), ('Chicken', 5), ('Fries', 10),...       600.40   \n498  [('Eggs', 8), ('Coffee', 2), ('Cereal', 3), ('...       283.50   \n499     [('Pancake', 7), ('Coffee', 1), ('Cereal', 8)]       321.25   \n\n     customer_lat  customer_lon  customerHasloyalty?  distance_to_customer_KM  \\\n495    -37.806837    144.951380                    0                    8.581   \n496    -37.807966    144.945429                    0                    9.956   \n497    -37.807797    144.973202                    0                    6.525   \n498    -37.799207    144.961314                    0                    8.333   \n499    -37.803561    144.918101                    0                   11.587   \n\n     delivery_fee  \n495     13.103430  \n496     15.517818  \n497     11.838280  \n498     13.031216  \n499     16.161815  ",
      "text/html": "<div>\n<style scoped>\n    .dataframe tbody tr th:only-of-type {\n        vertical-align: middle;\n    }\n\n    .dataframe tbody tr th {\n        vertical-align: top;\n    }\n\n    .dataframe thead th {\n        text-align: right;\n    }\n</style>\n<table border=\"1\" class=\"dataframe\">\n  <thead>\n    <tr style=\"text-align: right;\">\n      <th></th>\n      <th>order_id</th>\n      <th>date</th>\n      <th>time</th>\n      <th>order_type</th>\n      <th>branch_code</th>\n      <th>order_items</th>\n      <th>order_price</th>\n      <th>customer_lat</th>\n      <th>customer_lon</th>\n      <th>customerHasloyalty?</th>\n      <th>distance_to_customer_KM</th>\n      <th>delivery_fee</th>\n    </tr>\n  </thead>\n  <tbody>\n    <tr>\n      <th>495</th>\n      <td>ORDX04741</td>\n      <td>2021-03-24</td>\n      <td>10:42:15</td>\n      <td>Breakfast</td>\n      <td>BK</td>\n      <td>[('Coffee', 9), ('Pancake', 9)]</td>\n      <td>249.75</td>\n      <td>-37.806837</td>\n      <td>144.951380</td>\n      <td>0</td>\n      <td>8.581</td>\n      <td>13.103430</td>\n    </tr>\n    <tr>\n      <th>496</th>\n      <td>ORDJ05472</td>\n      <td>2021-10-03</td>\n      <td>17:07:36</td>\n      <td>Dinner</td>\n      <td>TP</td>\n      <td>[('Pasta', 4), ('Fish&amp;Chips', 7), ('Shrimp', 2)]</td>\n      <td>463.00</td>\n      <td>-37.807966</td>\n      <td>144.945429</td>\n      <td>0</td>\n      <td>9.956</td>\n      <td>15.517818</td>\n    </tr>\n    <tr>\n      <th>497</th>\n      <td>ORDK01012</td>\n      <td>2021-06-16</td>\n      <td>13:24:30</td>\n      <td>Lunch</td>\n      <td>BK</td>\n      <td>[('Burger', 5), ('Chicken', 5), ('Fries', 10),...</td>\n      <td>600.40</td>\n      <td>-37.807797</td>\n      <td>144.973202</td>\n      <td>0</td>\n      <td>6.525</td>\n      <td>11.838280</td>\n    </tr>\n    <tr>\n      <th>498</th>\n      <td>ORDK04997</td>\n      <td>2021-03-16</td>\n      <td>10:21:58</td>\n      <td>Breakfast</td>\n      <td>BK</td>\n      <td>[('Eggs', 8), ('Coffee', 2), ('Cereal', 3), ('...</td>\n      <td>283.50</td>\n      <td>-37.799207</td>\n      <td>144.961314</td>\n      <td>0</td>\n      <td>8.333</td>\n      <td>13.031216</td>\n    </tr>\n    <tr>\n      <th>499</th>\n      <td>ORDA02222</td>\n      <td>2021-04-27</td>\n      <td>11:53:14</td>\n      <td>Breakfast</td>\n      <td>BK</td>\n      <td>[('Pancake', 7), ('Coffee', 1), ('Cereal', 8)]</td>\n      <td>321.25</td>\n      <td>-37.803561</td>\n      <td>144.918101</td>\n      <td>0</td>\n      <td>11.587</td>\n      <td>16.161815</td>\n    </tr>\n  </tbody>\n</table>\n</div>"
     },
     "execution_count": 86,
     "metadata": {},
     "output_type": "execute_result"
    }
   ],
   "source": [
    "#inspect dirty data head\n",
    "dirty_data.tail()"
   ]
  },
  {
   "cell_type": "code",
   "execution_count": 87,
   "metadata": {
    "collapsed": false,
    "jupyter": {
     "outputs_hidden": false
    }
   },
   "outputs": [
    {
     "data": {
      "text/plain": "       order_price  customer_lat  customer_lon  customerHasloyalty?  \\\ncount   500.000000    500.000000    500.000000           500.000000   \nmean    481.516700    -35.379832    143.138468             0.066000   \nstd     265.064722     19.355386     18.203815             0.248531   \nmin      41.000000    -37.833333    -37.816142             0.000000   \n25%     276.812500    -37.819053    144.951689             0.000000   \n50%     436.600000    -37.812472    144.963557             0.000000   \n75%     656.075000    -37.805754    144.977142             0.000000   \nmax    1432.000000    145.000032    145.017716             1.000000   \n\n       distance_to_customer_KM  delivery_fee  \ncount               500.000000    500.000000  \nmean                  8.613976     13.669932  \nstd                   1.643464      2.392980  \nmin                   3.657000      5.218812  \n25%                   7.630750     12.589348  \n50%                   8.762500     13.921834  \n75%                   9.631000     15.094976  \nmax                  16.698000     21.566636  ",
      "text/html": "<div>\n<style scoped>\n    .dataframe tbody tr th:only-of-type {\n        vertical-align: middle;\n    }\n\n    .dataframe tbody tr th {\n        vertical-align: top;\n    }\n\n    .dataframe thead th {\n        text-align: right;\n    }\n</style>\n<table border=\"1\" class=\"dataframe\">\n  <thead>\n    <tr style=\"text-align: right;\">\n      <th></th>\n      <th>order_price</th>\n      <th>customer_lat</th>\n      <th>customer_lon</th>\n      <th>customerHasloyalty?</th>\n      <th>distance_to_customer_KM</th>\n      <th>delivery_fee</th>\n    </tr>\n  </thead>\n  <tbody>\n    <tr>\n      <th>count</th>\n      <td>500.000000</td>\n      <td>500.000000</td>\n      <td>500.000000</td>\n      <td>500.000000</td>\n      <td>500.000000</td>\n      <td>500.000000</td>\n    </tr>\n    <tr>\n      <th>mean</th>\n      <td>481.516700</td>\n      <td>-35.379832</td>\n      <td>143.138468</td>\n      <td>0.066000</td>\n      <td>8.613976</td>\n      <td>13.669932</td>\n    </tr>\n    <tr>\n      <th>std</th>\n      <td>265.064722</td>\n      <td>19.355386</td>\n      <td>18.203815</td>\n      <td>0.248531</td>\n      <td>1.643464</td>\n      <td>2.392980</td>\n    </tr>\n    <tr>\n      <th>min</th>\n      <td>41.000000</td>\n      <td>-37.833333</td>\n      <td>-37.816142</td>\n      <td>0.000000</td>\n      <td>3.657000</td>\n      <td>5.218812</td>\n    </tr>\n    <tr>\n      <th>25%</th>\n      <td>276.812500</td>\n      <td>-37.819053</td>\n      <td>144.951689</td>\n      <td>0.000000</td>\n      <td>7.630750</td>\n      <td>12.589348</td>\n    </tr>\n    <tr>\n      <th>50%</th>\n      <td>436.600000</td>\n      <td>-37.812472</td>\n      <td>144.963557</td>\n      <td>0.000000</td>\n      <td>8.762500</td>\n      <td>13.921834</td>\n    </tr>\n    <tr>\n      <th>75%</th>\n      <td>656.075000</td>\n      <td>-37.805754</td>\n      <td>144.977142</td>\n      <td>0.000000</td>\n      <td>9.631000</td>\n      <td>15.094976</td>\n    </tr>\n    <tr>\n      <th>max</th>\n      <td>1432.000000</td>\n      <td>145.000032</td>\n      <td>145.017716</td>\n      <td>1.000000</td>\n      <td>16.698000</td>\n      <td>21.566636</td>\n    </tr>\n  </tbody>\n</table>\n</div>"
     },
     "execution_count": 87,
     "metadata": {},
     "output_type": "execute_result"
    }
   ],
   "source": [
    "# summarise numerical variables\n",
    "dirty_data.describe()"
   ]
  },
  {
   "cell_type": "markdown",
   "metadata": {
    "jupyter": {
     "outputs_hidden": false
    }
   },
   "source": [
    "#### Individual Variable Review"
   ]
  },
  {
   "cell_type": "markdown",
   "metadata": {},
   "source": [
    "This section will cover the review of each one of the variables in the `dirty_data` dataframe."
   ]
  },
  {
   "cell_type": "markdown",
   "source": [
    "#### Date"
   ],
   "metadata": {
    "collapsed": false
   }
  },
  {
   "cell_type": "markdown",
   "metadata": {},
   "source": [
    "The following line of code should easily parse the date column into a proper pandas datetime format. However, there's a number of errors that pop up when running it that indicate a deeper review is required on each component of the date:\n",
    "\n",
    "``` python\n",
    "dirty_date = pd.to_datetime(dirty_data['date'], format ='%Y-%m-%d')\n",
    ">>> \"ValueError: time data 2021-30-08 doesn't match format specified\"\n",
    "```\n",
    "We will use some basic regular expressions to extract the days, months and years from the `date` series. All common regular expression methods are available directly from pandas."
   ]
  },
  {
   "cell_type": "code",
   "execution_count": 106,
   "metadata": {},
   "outputs": [],
   "source": [
    "#years\n",
    "years = ([itm[0][0] for itm in \n",
    "  dirty_data['date'].str.findall('(\\d{4})-(\\d{2})-(\\d{2})')\n",
    "  if len(itm)>0])\n",
    "years = pd.Series(years).apply(pd.to_numeric)\n",
    "#months\n",
    "months = ([itm[0][1] for itm in \n",
    "  dirty_data['date'].str.findall('(\\d{4})-(\\d{2})-(\\d{2})')\n",
    "  if len(itm)>0])\n",
    "months = pd.Series(months).apply(pd.to_numeric)\n",
    "#days\n",
    "days = ([itm[0][2] for itm in \n",
    "  dirty_data['date'].str.findall('(\\d{4})-(\\d{2})-(\\d{2})')\n",
    "  if len(itm)>0])\n",
    "days = pd.Series(days).apply(pd.to_numeric)\n",
    "# concatenate series\n",
    "date_concat = pd.concat([years,months,days], axis=1)\n",
    "# assign names\n",
    "date_concat.columns=['year','month','day']"
   ]
  },
  {
   "cell_type": "code",
   "execution_count": 89,
   "metadata": {},
   "outputs": [
    {
     "name": "stdout",
     "output_type": "stream",
     "text": [
      "<class 'pandas.core.frame.DataFrame'>\n",
      "RangeIndex: 498 entries, 0 to 497\n",
      "Data columns (total 3 columns):\n",
      " #   Column  Non-Null Count  Dtype\n",
      "---  ------  --------------  -----\n",
      " 0   year    498 non-null    int64\n",
      " 1   month   498 non-null    int64\n",
      " 2   day     498 non-null    int64\n",
      "dtypes: int64(3)\n",
      "memory usage: 11.8 KB\n"
     ]
    }
   ],
   "source": [
    "# create max min average function\n",
    "date_concat.info()"
   ]
  },
  {
   "cell_type": "code",
   "execution_count": 90,
   "metadata": {},
   "outputs": [
    {
     "data": {
      "text/plain": "         year       month         day\ncount   498.0  498.000000  498.000000\nmean   2021.0    6.670683   15.829317\nstd       0.0    3.825676    8.729156\nmin    2021.0    1.000000    1.000000\n25%    2021.0    4.000000    8.000000\n50%    2021.0    6.000000   16.500000\n75%    2021.0   10.000000   23.000000\nmax    2021.0   30.000000   31.000000",
      "text/html": "<div>\n<style scoped>\n    .dataframe tbody tr th:only-of-type {\n        vertical-align: middle;\n    }\n\n    .dataframe tbody tr th {\n        vertical-align: top;\n    }\n\n    .dataframe thead th {\n        text-align: right;\n    }\n</style>\n<table border=\"1\" class=\"dataframe\">\n  <thead>\n    <tr style=\"text-align: right;\">\n      <th></th>\n      <th>year</th>\n      <th>month</th>\n      <th>day</th>\n    </tr>\n  </thead>\n  <tbody>\n    <tr>\n      <th>count</th>\n      <td>498.0</td>\n      <td>498.000000</td>\n      <td>498.000000</td>\n    </tr>\n    <tr>\n      <th>mean</th>\n      <td>2021.0</td>\n      <td>6.670683</td>\n      <td>15.829317</td>\n    </tr>\n    <tr>\n      <th>std</th>\n      <td>0.0</td>\n      <td>3.825676</td>\n      <td>8.729156</td>\n    </tr>\n    <tr>\n      <th>min</th>\n      <td>2021.0</td>\n      <td>1.000000</td>\n      <td>1.000000</td>\n    </tr>\n    <tr>\n      <th>25%</th>\n      <td>2021.0</td>\n      <td>4.000000</td>\n      <td>8.000000</td>\n    </tr>\n    <tr>\n      <th>50%</th>\n      <td>2021.0</td>\n      <td>6.000000</td>\n      <td>16.500000</td>\n    </tr>\n    <tr>\n      <th>75%</th>\n      <td>2021.0</td>\n      <td>10.000000</td>\n      <td>23.000000</td>\n    </tr>\n    <tr>\n      <th>max</th>\n      <td>2021.0</td>\n      <td>30.000000</td>\n      <td>31.000000</td>\n    </tr>\n  </tbody>\n</table>\n</div>"
     },
     "execution_count": 90,
     "metadata": {},
     "output_type": "execute_result"
    }
   ],
   "source": [
    "date_concat.describe()"
   ]
  },
  {
   "cell_type": "markdown",
   "metadata": {},
   "source": [
    "We can immediately see observe two issues:\n",
    "\n",
    "1. Two rows weren't properly parsed by the regex format, which should be inspected in further\n",
    "detail.\n",
    "2. It appears that some months are higher than the permitted range for a valid date (i.e. larger\n",
    "than 12)."
   ]
  },
  {
   "cell_type": "code",
   "execution_count": 91,
   "metadata": {},
   "outputs": [
    {
     "data": {
      "text/plain": "     year  month  day\n113  2021     30    8\n170  2021     19   10\n263  2021     30    6\n416  2021     22    8",
      "text/html": "<div>\n<style scoped>\n    .dataframe tbody tr th:only-of-type {\n        vertical-align: middle;\n    }\n\n    .dataframe tbody tr th {\n        vertical-align: top;\n    }\n\n    .dataframe thead th {\n        text-align: right;\n    }\n</style>\n<table border=\"1\" class=\"dataframe\">\n  <thead>\n    <tr style=\"text-align: right;\">\n      <th></th>\n      <th>year</th>\n      <th>month</th>\n      <th>day</th>\n    </tr>\n  </thead>\n  <tbody>\n    <tr>\n      <th>113</th>\n      <td>2021</td>\n      <td>30</td>\n      <td>8</td>\n    </tr>\n    <tr>\n      <th>170</th>\n      <td>2021</td>\n      <td>19</td>\n      <td>10</td>\n    </tr>\n    <tr>\n      <th>263</th>\n      <td>2021</td>\n      <td>30</td>\n      <td>6</td>\n    </tr>\n    <tr>\n      <th>416</th>\n      <td>2021</td>\n      <td>22</td>\n      <td>8</td>\n    </tr>\n  </tbody>\n</table>\n</div>"
     },
     "execution_count": 91,
     "metadata": {},
     "output_type": "execute_result"
    }
   ],
   "source": [
    "#check rows were the month is larger than 12.\n",
    "date_concat[date_concat['month'] > 12]"
   ]
  },
  {
   "cell_type": "code",
   "execution_count": 92,
   "outputs": [
    {
     "name": "stdout",
     "output_type": "stream",
     "text": [
      "index:400, value:Tue Jun  1 00:00:00 2021\n",
      "index:418, value:2021-Aug-03\n"
     ]
    }
   ],
   "source": [
    "index = 0\n",
    "for each in dirty_data['date']:\n",
    "  #check for years outside 2021\n",
    "  if each.split(\"-\")[0] != \"2021\":\n",
    "    print(f\"index:{index}, value:{each}\")\n",
    "  #check for nun-numeric month\n",
    "  elif not each.split(\"-\")[1].isnumeric():\n",
    "    print(f\"index:{index}, value:{each}\")\n",
    "  index += 1"
   ],
   "metadata": {
    "collapsed": false
   }
  },
  {
   "cell_type": "code",
   "execution_count": 93,
   "outputs": [],
   "source": [
    "# changing formats\n",
    "# observation 400\n",
    "dirty_data.at[400,'date'] = \"2021-06-01\"\n",
    "# observation 418\n",
    "dirty_data.at[418,'date'] = \"2021-08-03\""
   ],
   "metadata": {
    "collapsed": false
   }
  },
  {
   "cell_type": "code",
   "execution_count": 94,
   "outputs": [],
   "source": [
    "# re-run date concat\n",
    "#re run date concat\n",
    "years = ([itm[0][0] for itm in\n",
    "          dirty_data['date'].str.findall('(\\d{4})-(\\d{2})-(\\d{2})')\n",
    "          if len(itm)>0])\n",
    "years = pd.Series(years).apply(pd.to_numeric)\n",
    "#months\n",
    "months = ([itm[0][1] for itm in\n",
    "           dirty_data['date'].str.findall('(\\d{4})-(\\d{2})-(\\d{2})')\n",
    "           if len(itm)>0])\n",
    "months = pd.Series(months).apply(pd.to_numeric)\n",
    "#days\n",
    "days = ([itm[0][2] for itm in\n",
    "         dirty_data['date'].str.findall('(\\d{4})-(\\d{2})-(\\d{2})')\n",
    "         if len(itm)>0])\n",
    "days = pd.Series(days).apply(pd.to_numeric)\n",
    "# concatenate series\n",
    "date_concat = pd.concat([years,months,days], axis=1)\n",
    "# assign names\n",
    "date_concat.columns=['year','month','day']"
   ],
   "metadata": {
    "collapsed": false
   }
  },
  {
   "cell_type": "code",
   "execution_count": 95,
   "outputs": [
    {
     "name": "stdout",
     "output_type": "stream",
     "text": [
      "<class 'pandas.core.frame.DataFrame'>\n",
      "RangeIndex: 500 entries, 0 to 499\n",
      "Data columns (total 3 columns):\n",
      " #   Column  Non-Null Count  Dtype\n",
      "---  ------  --------------  -----\n",
      " 0   year    500 non-null    int64\n",
      " 1   month   500 non-null    int64\n",
      " 2   day     500 non-null    int64\n",
      "dtypes: int64(3)\n",
      "memory usage: 11.8 KB\n"
     ]
    }
   ],
   "source": [
    "date_concat.info()"
   ],
   "metadata": {
    "collapsed": false
   }
  },
  {
   "cell_type": "code",
   "execution_count": 96,
   "outputs": [
    {
     "data": {
      "text/plain": "     year  month  day\n113  2021     30    8\n170  2021     19   10\n263  2021     30    6\n417  2021     22    8",
      "text/html": "<div>\n<style scoped>\n    .dataframe tbody tr th:only-of-type {\n        vertical-align: middle;\n    }\n\n    .dataframe tbody tr th {\n        vertical-align: top;\n    }\n\n    .dataframe thead th {\n        text-align: right;\n    }\n</style>\n<table border=\"1\" class=\"dataframe\">\n  <thead>\n    <tr style=\"text-align: right;\">\n      <th></th>\n      <th>year</th>\n      <th>month</th>\n      <th>day</th>\n    </tr>\n  </thead>\n  <tbody>\n    <tr>\n      <th>113</th>\n      <td>2021</td>\n      <td>30</td>\n      <td>8</td>\n    </tr>\n    <tr>\n      <th>170</th>\n      <td>2021</td>\n      <td>19</td>\n      <td>10</td>\n    </tr>\n    <tr>\n      <th>263</th>\n      <td>2021</td>\n      <td>30</td>\n      <td>6</td>\n    </tr>\n    <tr>\n      <th>417</th>\n      <td>2021</td>\n      <td>22</td>\n      <td>8</td>\n    </tr>\n  </tbody>\n</table>\n</div>"
     },
     "execution_count": 96,
     "metadata": {},
     "output_type": "execute_result"
    }
   ],
   "source": [
    "#check rows were the month is larger than 12.\n",
    "date_concat[date_concat['month'] > 12]"
   ],
   "metadata": {
    "collapsed": false
   }
  },
  {
   "cell_type": "markdown",
   "source": [
    "We will impute the incorrect months with proper months:"
   ],
   "metadata": {
    "collapsed": false
   }
  },
  {
   "cell_type": "code",
   "execution_count": 97,
   "outputs": [
    {
     "data": {
      "text/plain": "0    6\nName: month, dtype: int64"
     },
     "execution_count": 97,
     "metadata": {},
     "output_type": "execute_result"
    }
   ],
   "source": [
    "# most common month\n",
    "date_concat['month'].mode()"
   ],
   "metadata": {
    "collapsed": false
   }
  },
  {
   "cell_type": "code",
   "execution_count": 98,
   "outputs": [],
   "source": [
    "# correct months\n",
    "import numpy as np\n",
    "date_concat['month'] = np.where(date_concat['month'] > 12, 6, date_concat['month'])\n"
   ],
   "metadata": {
    "collapsed": false
   }
  },
  {
   "cell_type": "code",
   "execution_count": 100,
   "outputs": [],
   "source": [
    "# add leading zeroes\n",
    "date_concat['month'] = date_concat['month'].apply(lambda x: '{0:0>2}'.format(x))"
   ],
   "metadata": {
    "collapsed": false
   }
  },
  {
   "cell_type": "code",
   "execution_count": 102,
   "outputs": [],
   "source": [
    "date_concat['day'] = date_concat['day'].apply(lambda x: '{0:0>2}'.format(x))"
   ],
   "metadata": {
    "collapsed": false
   }
  },
  {
   "cell_type": "code",
   "execution_count": 103,
   "outputs": [],
   "source": [
    "# put all months together and\n",
    "dirty_data['date'] = date_concat['year'].astype(str) + \"-\"+ date_concat['month'].astype(str) + \\\n",
    "                     \"-\" + date_concat['day'].astype(str)\n"
   ],
   "metadata": {
    "collapsed": false
   }
  },
  {
   "cell_type": "code",
   "execution_count": 104,
   "outputs": [
    {
     "data": {
      "text/plain": "    order_id        date      time order_type branch_code  \\\n0  ORDJ06243  2021-11-02  18:08:27     Dinner          TP   \n1  ORDA10907  2021-11-03  18:08:27     Dinner          BK   \n2  ORDA06776  2021-08-14  15:26:11      Lunch          BK   \n3  ORDY05744  2021-10-26  17:48:10     Dinner          TP   \n4  ORDX00833  2021-05-05  12:03:22      Lunch          BK   \n\n                                         order_items  order_price  \\\n0  [('Salmon', 4), ('Pasta', 2), ('Fish&Chips', 1...        308.0   \n1                      [('Salmon', 5), ('Pasta', 5)]        342.5   \n2  [('Fries', 1), ('Salad', 7), ('Chicken', 2), (...        320.4   \n3      [('Salmon', 7), ('Pasta', 10), ('Shrimp', 5)]        832.0   \n4  [('Salad', 2), ('Steak', 10), ('Chicken', 2), ...        892.4   \n\n   customer_lat  customer_lon  customerHasloyalty?  distance_to_customer_KM  \\\n0    -37.806521    144.944874                    0                   10.082   \n1    -37.810712    144.946133                    0                    9.145   \n2    -37.819004    144.954318                    0                    8.676   \n3    -37.817244    144.967764                    0                   11.792   \n4    -37.809557    144.972643                    0                    6.714   \n\n   delivery_fee  \n0     13.802598  \n1     16.150990  \n2     16.680944  \n3     11.549074  \n4     12.512411  ",
      "text/html": "<div>\n<style scoped>\n    .dataframe tbody tr th:only-of-type {\n        vertical-align: middle;\n    }\n\n    .dataframe tbody tr th {\n        vertical-align: top;\n    }\n\n    .dataframe thead th {\n        text-align: right;\n    }\n</style>\n<table border=\"1\" class=\"dataframe\">\n  <thead>\n    <tr style=\"text-align: right;\">\n      <th></th>\n      <th>order_id</th>\n      <th>date</th>\n      <th>time</th>\n      <th>order_type</th>\n      <th>branch_code</th>\n      <th>order_items</th>\n      <th>order_price</th>\n      <th>customer_lat</th>\n      <th>customer_lon</th>\n      <th>customerHasloyalty?</th>\n      <th>distance_to_customer_KM</th>\n      <th>delivery_fee</th>\n    </tr>\n  </thead>\n  <tbody>\n    <tr>\n      <th>0</th>\n      <td>ORDJ06243</td>\n      <td>2021-11-02</td>\n      <td>18:08:27</td>\n      <td>Dinner</td>\n      <td>TP</td>\n      <td>[('Salmon', 4), ('Pasta', 2), ('Fish&amp;Chips', 1...</td>\n      <td>308.0</td>\n      <td>-37.806521</td>\n      <td>144.944874</td>\n      <td>0</td>\n      <td>10.082</td>\n      <td>13.802598</td>\n    </tr>\n    <tr>\n      <th>1</th>\n      <td>ORDA10907</td>\n      <td>2021-11-03</td>\n      <td>18:08:27</td>\n      <td>Dinner</td>\n      <td>BK</td>\n      <td>[('Salmon', 5), ('Pasta', 5)]</td>\n      <td>342.5</td>\n      <td>-37.810712</td>\n      <td>144.946133</td>\n      <td>0</td>\n      <td>9.145</td>\n      <td>16.150990</td>\n    </tr>\n    <tr>\n      <th>2</th>\n      <td>ORDA06776</td>\n      <td>2021-08-14</td>\n      <td>15:26:11</td>\n      <td>Lunch</td>\n      <td>BK</td>\n      <td>[('Fries', 1), ('Salad', 7), ('Chicken', 2), (...</td>\n      <td>320.4</td>\n      <td>-37.819004</td>\n      <td>144.954318</td>\n      <td>0</td>\n      <td>8.676</td>\n      <td>16.680944</td>\n    </tr>\n    <tr>\n      <th>3</th>\n      <td>ORDY05744</td>\n      <td>2021-10-26</td>\n      <td>17:48:10</td>\n      <td>Dinner</td>\n      <td>TP</td>\n      <td>[('Salmon', 7), ('Pasta', 10), ('Shrimp', 5)]</td>\n      <td>832.0</td>\n      <td>-37.817244</td>\n      <td>144.967764</td>\n      <td>0</td>\n      <td>11.792</td>\n      <td>11.549074</td>\n    </tr>\n    <tr>\n      <th>4</th>\n      <td>ORDX00833</td>\n      <td>2021-05-05</td>\n      <td>12:03:22</td>\n      <td>Lunch</td>\n      <td>BK</td>\n      <td>[('Salad', 2), ('Steak', 10), ('Chicken', 2), ...</td>\n      <td>892.4</td>\n      <td>-37.809557</td>\n      <td>144.972643</td>\n      <td>0</td>\n      <td>6.714</td>\n      <td>12.512411</td>\n    </tr>\n  </tbody>\n</table>\n</div>"
     },
     "execution_count": 104,
     "metadata": {},
     "output_type": "execute_result"
    }
   ],
   "source": [
    "dirty_data.head()"
   ],
   "metadata": {
    "collapsed": false
   }
  },
  {
   "cell_type": "markdown",
   "metadata": {},
   "source": [
    "#### Observations"
   ]
  },
  {
   "cell_type": "markdown",
   "metadata": {},
   "source": [
    "The following observations can be made about the `dirty_data` data frame:\n",
    "\n",
    "* There are 500 observations in total, each corresponding to a delivery order.\n",
    "* The date and time variables need to be formatted into a proper variable.\n"
   ]
  },
  {
   "cell_type": "markdown",
   "metadata": {},
   "source": [
    "### Missing Data"
   ]
  },
  {
   "cell_type": "code",
   "execution_count": 16,
   "metadata": {},
   "outputs": [
    {
     "name": "stdout",
     "output_type": "stream",
     "text": [
      "---- Dirty Data: data types ----\n",
      "<class 'pandas.core.frame.DataFrame'>\n",
      "RangeIndex: 500 entries, 0 to 499\n",
      "Data columns (total 12 columns):\n",
      " #   Column                   Non-Null Count  Dtype  \n",
      "---  ------                   --------------  -----  \n",
      " 0   order_id                 500 non-null    object \n",
      " 1   date                     500 non-null    object \n",
      " 2   time                     500 non-null    object \n",
      " 3   order_type               500 non-null    object \n",
      " 4   branch_code              500 non-null    object \n",
      " 5   order_items              500 non-null    object \n",
      " 6   order_price              500 non-null    float64\n",
      " 7   customer_lat             500 non-null    float64\n",
      " 8   customer_lon             500 non-null    float64\n",
      " 9   customerHasloyalty?      500 non-null    int64  \n",
      " 10  distance_to_customer_KM  500 non-null    float64\n",
      " 11  delivery_fee             500 non-null    float64\n",
      "dtypes: float64(5), int64(1), object(6)\n",
      "memory usage: 47.0+ KB\n",
      "---- Dirty Data: data frame size ----\n"
     ]
    },
    {
     "data": {
      "text/plain": "(500, 12)"
     },
     "execution_count": 16,
     "metadata": {},
     "output_type": "execute_result"
    }
   ],
   "source": [
    "# review dirty data variable types\n",
    "print(\"---- Dirty Data: data types ----\")\n",
    "dirty_data.info()\n",
    "print(\"---- Dirty Data: data frame size ----\")\n",
    "dirty_data.shape"
   ]
  },
  {
   "cell_type": "code",
   "execution_count": 17,
   "metadata": {},
   "outputs": [
    {
     "data": {
      "text/plain": "    order_id        date      time order_type branch_code  \\\n0  ORDJ06243  2021-11-02  18:08:27     Dinner          TP   \n1  ORDA10907  2021-11-03  18:08:27     Dinner          BK   \n2  ORDA06776  2021-08-14  15:26:11      Lunch          BK   \n3  ORDY05744  2021-10-26  17:48:10     Dinner          TP   \n4  ORDX00833  2021-05-05  12:03:22      Lunch          BK   \n\n                                         order_items  order_price  \\\n0  [('Salmon', 4), ('Pasta', 2), ('Fish&Chips', 1...        308.0   \n1                      [('Salmon', 5), ('Pasta', 5)]        342.5   \n2  [('Fries', 1), ('Salad', 7), ('Chicken', 2), (...        320.4   \n3      [('Salmon', 7), ('Pasta', 10), ('Shrimp', 5)]        832.0   \n4  [('Salad', 2), ('Steak', 10), ('Chicken', 2), ...        892.4   \n\n   customer_lat  customer_lon  customerHasloyalty?  distance_to_customer_KM  \\\n0    -37.806521    144.944874                    0                   10.082   \n1    -37.810712    144.946133                    0                    9.145   \n2    -37.819004    144.954318                    0                    8.676   \n3    -37.817244    144.967764                    0                   11.792   \n4    -37.809557    144.972643                    0                    6.714   \n\n   delivery_fee  \n0     13.802598  \n1     16.150990  \n2     16.680944  \n3     11.549074  \n4     12.512411  ",
      "text/html": "<div>\n<style scoped>\n    .dataframe tbody tr th:only-of-type {\n        vertical-align: middle;\n    }\n\n    .dataframe tbody tr th {\n        vertical-align: top;\n    }\n\n    .dataframe thead th {\n        text-align: right;\n    }\n</style>\n<table border=\"1\" class=\"dataframe\">\n  <thead>\n    <tr style=\"text-align: right;\">\n      <th></th>\n      <th>order_id</th>\n      <th>date</th>\n      <th>time</th>\n      <th>order_type</th>\n      <th>branch_code</th>\n      <th>order_items</th>\n      <th>order_price</th>\n      <th>customer_lat</th>\n      <th>customer_lon</th>\n      <th>customerHasloyalty?</th>\n      <th>distance_to_customer_KM</th>\n      <th>delivery_fee</th>\n    </tr>\n  </thead>\n  <tbody>\n    <tr>\n      <th>0</th>\n      <td>ORDJ06243</td>\n      <td>2021-11-02</td>\n      <td>18:08:27</td>\n      <td>Dinner</td>\n      <td>TP</td>\n      <td>[('Salmon', 4), ('Pasta', 2), ('Fish&amp;Chips', 1...</td>\n      <td>308.0</td>\n      <td>-37.806521</td>\n      <td>144.944874</td>\n      <td>0</td>\n      <td>10.082</td>\n      <td>13.802598</td>\n    </tr>\n    <tr>\n      <th>1</th>\n      <td>ORDA10907</td>\n      <td>2021-11-03</td>\n      <td>18:08:27</td>\n      <td>Dinner</td>\n      <td>BK</td>\n      <td>[('Salmon', 5), ('Pasta', 5)]</td>\n      <td>342.5</td>\n      <td>-37.810712</td>\n      <td>144.946133</td>\n      <td>0</td>\n      <td>9.145</td>\n      <td>16.150990</td>\n    </tr>\n    <tr>\n      <th>2</th>\n      <td>ORDA06776</td>\n      <td>2021-08-14</td>\n      <td>15:26:11</td>\n      <td>Lunch</td>\n      <td>BK</td>\n      <td>[('Fries', 1), ('Salad', 7), ('Chicken', 2), (...</td>\n      <td>320.4</td>\n      <td>-37.819004</td>\n      <td>144.954318</td>\n      <td>0</td>\n      <td>8.676</td>\n      <td>16.680944</td>\n    </tr>\n    <tr>\n      <th>3</th>\n      <td>ORDY05744</td>\n      <td>2021-10-26</td>\n      <td>17:48:10</td>\n      <td>Dinner</td>\n      <td>TP</td>\n      <td>[('Salmon', 7), ('Pasta', 10), ('Shrimp', 5)]</td>\n      <td>832.0</td>\n      <td>-37.817244</td>\n      <td>144.967764</td>\n      <td>0</td>\n      <td>11.792</td>\n      <td>11.549074</td>\n    </tr>\n    <tr>\n      <th>4</th>\n      <td>ORDX00833</td>\n      <td>2021-05-05</td>\n      <td>12:03:22</td>\n      <td>Lunch</td>\n      <td>BK</td>\n      <td>[('Salad', 2), ('Steak', 10), ('Chicken', 2), ...</td>\n      <td>892.4</td>\n      <td>-37.809557</td>\n      <td>144.972643</td>\n      <td>0</td>\n      <td>6.714</td>\n      <td>12.512411</td>\n    </tr>\n  </tbody>\n</table>\n</div>"
     },
     "execution_count": 17,
     "metadata": {},
     "output_type": "execute_result"
    }
   ],
   "source": [
    "#inspect dirty data head\n",
    "dirty_data.head()"
   ]
  },
  {
   "cell_type": "code",
   "execution_count": 18,
   "metadata": {},
   "outputs": [
    {
     "data": {
      "text/plain": "      order_id        date      time order_type branch_code  \\\n495  ORDX04741  2021-03-24  10:42:15  Breakfast          BK   \n496  ORDJ05472  2021-10-03  17:07:36     Dinner          TP   \n497  ORDK01012  2021-06-16  13:24:30      Lunch          BK   \n498  ORDK04997  2021-03-16  10:21:58  Breakfast          BK   \n499  ORDA02222  2021-04-27  11:53:14  Breakfast          BK   \n\n                                           order_items  order_price  \\\n495                    [('Coffee', 9), ('Pancake', 9)]       249.75   \n496   [('Pasta', 4), ('Fish&Chips', 7), ('Shrimp', 2)]       463.00   \n497  [('Burger', 5), ('Chicken', 5), ('Fries', 10),...       600.40   \n498  [('Eggs', 8), ('Coffee', 2), ('Cereal', 3), ('...       283.50   \n499     [('Pancake', 7), ('Coffee', 1), ('Cereal', 8)]       321.25   \n\n     customer_lat  customer_lon  customerHasloyalty?  distance_to_customer_KM  \\\n495    -37.806837    144.951380                    0                    8.581   \n496    -37.807966    144.945429                    0                    9.956   \n497    -37.807797    144.973202                    0                    6.525   \n498    -37.799207    144.961314                    0                    8.333   \n499    -37.803561    144.918101                    0                   11.587   \n\n     delivery_fee  \n495     13.103430  \n496     15.517818  \n497     11.838280  \n498     13.031216  \n499     16.161815  ",
      "text/html": "<div>\n<style scoped>\n    .dataframe tbody tr th:only-of-type {\n        vertical-align: middle;\n    }\n\n    .dataframe tbody tr th {\n        vertical-align: top;\n    }\n\n    .dataframe thead th {\n        text-align: right;\n    }\n</style>\n<table border=\"1\" class=\"dataframe\">\n  <thead>\n    <tr style=\"text-align: right;\">\n      <th></th>\n      <th>order_id</th>\n      <th>date</th>\n      <th>time</th>\n      <th>order_type</th>\n      <th>branch_code</th>\n      <th>order_items</th>\n      <th>order_price</th>\n      <th>customer_lat</th>\n      <th>customer_lon</th>\n      <th>customerHasloyalty?</th>\n      <th>distance_to_customer_KM</th>\n      <th>delivery_fee</th>\n    </tr>\n  </thead>\n  <tbody>\n    <tr>\n      <th>495</th>\n      <td>ORDX04741</td>\n      <td>2021-03-24</td>\n      <td>10:42:15</td>\n      <td>Breakfast</td>\n      <td>BK</td>\n      <td>[('Coffee', 9), ('Pancake', 9)]</td>\n      <td>249.75</td>\n      <td>-37.806837</td>\n      <td>144.951380</td>\n      <td>0</td>\n      <td>8.581</td>\n      <td>13.103430</td>\n    </tr>\n    <tr>\n      <th>496</th>\n      <td>ORDJ05472</td>\n      <td>2021-10-03</td>\n      <td>17:07:36</td>\n      <td>Dinner</td>\n      <td>TP</td>\n      <td>[('Pasta', 4), ('Fish&amp;Chips', 7), ('Shrimp', 2)]</td>\n      <td>463.00</td>\n      <td>-37.807966</td>\n      <td>144.945429</td>\n      <td>0</td>\n      <td>9.956</td>\n      <td>15.517818</td>\n    </tr>\n    <tr>\n      <th>497</th>\n      <td>ORDK01012</td>\n      <td>2021-06-16</td>\n      <td>13:24:30</td>\n      <td>Lunch</td>\n      <td>BK</td>\n      <td>[('Burger', 5), ('Chicken', 5), ('Fries', 10),...</td>\n      <td>600.40</td>\n      <td>-37.807797</td>\n      <td>144.973202</td>\n      <td>0</td>\n      <td>6.525</td>\n      <td>11.838280</td>\n    </tr>\n    <tr>\n      <th>498</th>\n      <td>ORDK04997</td>\n      <td>2021-03-16</td>\n      <td>10:21:58</td>\n      <td>Breakfast</td>\n      <td>BK</td>\n      <td>[('Eggs', 8), ('Coffee', 2), ('Cereal', 3), ('...</td>\n      <td>283.50</td>\n      <td>-37.799207</td>\n      <td>144.961314</td>\n      <td>0</td>\n      <td>8.333</td>\n      <td>13.031216</td>\n    </tr>\n    <tr>\n      <th>499</th>\n      <td>ORDA02222</td>\n      <td>2021-04-27</td>\n      <td>11:53:14</td>\n      <td>Breakfast</td>\n      <td>BK</td>\n      <td>[('Pancake', 7), ('Coffee', 1), ('Cereal', 8)]</td>\n      <td>321.25</td>\n      <td>-37.803561</td>\n      <td>144.918101</td>\n      <td>0</td>\n      <td>11.587</td>\n      <td>16.161815</td>\n    </tr>\n  </tbody>\n</table>\n</div>"
     },
     "execution_count": 18,
     "metadata": {},
     "output_type": "execute_result"
    }
   ],
   "source": [
    "#inspect dirty data head\n",
    "dirty_data.tail()"
   ]
  },
  {
   "cell_type": "code",
   "execution_count": 19,
   "metadata": {
    "collapsed": false,
    "jupyter": {
     "outputs_hidden": false
    }
   },
   "outputs": [
    {
     "data": {
      "text/plain": "       order_price  customer_lat  customer_lon  customerHasloyalty?  \\\ncount   500.000000    500.000000    500.000000           500.000000   \nmean    481.516700    -35.379832    143.138468             0.066000   \nstd     265.064722     19.355386     18.203815             0.248531   \nmin      41.000000    -37.833333    -37.816142             0.000000   \n25%     276.812500    -37.819053    144.951689             0.000000   \n50%     436.600000    -37.812472    144.963557             0.000000   \n75%     656.075000    -37.805754    144.977142             0.000000   \nmax    1432.000000    145.000032    145.017716             1.000000   \n\n       distance_to_customer_KM  delivery_fee  \ncount               500.000000    500.000000  \nmean                  8.613976     13.669932  \nstd                   1.643464      2.392980  \nmin                   3.657000      5.218812  \n25%                   7.630750     12.589348  \n50%                   8.762500     13.921834  \n75%                   9.631000     15.094976  \nmax                  16.698000     21.566636  ",
      "text/html": "<div>\n<style scoped>\n    .dataframe tbody tr th:only-of-type {\n        vertical-align: middle;\n    }\n\n    .dataframe tbody tr th {\n        vertical-align: top;\n    }\n\n    .dataframe thead th {\n        text-align: right;\n    }\n</style>\n<table border=\"1\" class=\"dataframe\">\n  <thead>\n    <tr style=\"text-align: right;\">\n      <th></th>\n      <th>order_price</th>\n      <th>customer_lat</th>\n      <th>customer_lon</th>\n      <th>customerHasloyalty?</th>\n      <th>distance_to_customer_KM</th>\n      <th>delivery_fee</th>\n    </tr>\n  </thead>\n  <tbody>\n    <tr>\n      <th>count</th>\n      <td>500.000000</td>\n      <td>500.000000</td>\n      <td>500.000000</td>\n      <td>500.000000</td>\n      <td>500.000000</td>\n      <td>500.000000</td>\n    </tr>\n    <tr>\n      <th>mean</th>\n      <td>481.516700</td>\n      <td>-35.379832</td>\n      <td>143.138468</td>\n      <td>0.066000</td>\n      <td>8.613976</td>\n      <td>13.669932</td>\n    </tr>\n    <tr>\n      <th>std</th>\n      <td>265.064722</td>\n      <td>19.355386</td>\n      <td>18.203815</td>\n      <td>0.248531</td>\n      <td>1.643464</td>\n      <td>2.392980</td>\n    </tr>\n    <tr>\n      <th>min</th>\n      <td>41.000000</td>\n      <td>-37.833333</td>\n      <td>-37.816142</td>\n      <td>0.000000</td>\n      <td>3.657000</td>\n      <td>5.218812</td>\n    </tr>\n    <tr>\n      <th>25%</th>\n      <td>276.812500</td>\n      <td>-37.819053</td>\n      <td>144.951689</td>\n      <td>0.000000</td>\n      <td>7.630750</td>\n      <td>12.589348</td>\n    </tr>\n    <tr>\n      <th>50%</th>\n      <td>436.600000</td>\n      <td>-37.812472</td>\n      <td>144.963557</td>\n      <td>0.000000</td>\n      <td>8.762500</td>\n      <td>13.921834</td>\n    </tr>\n    <tr>\n      <th>75%</th>\n      <td>656.075000</td>\n      <td>-37.805754</td>\n      <td>144.977142</td>\n      <td>0.000000</td>\n      <td>9.631000</td>\n      <td>15.094976</td>\n    </tr>\n    <tr>\n      <th>max</th>\n      <td>1432.000000</td>\n      <td>145.000032</td>\n      <td>145.017716</td>\n      <td>1.000000</td>\n      <td>16.698000</td>\n      <td>21.566636</td>\n    </tr>\n  </tbody>\n</table>\n</div>"
     },
     "execution_count": 19,
     "metadata": {},
     "output_type": "execute_result"
    }
   ],
   "source": [
    "# summarise numerical variables\n",
    "dirty_data.describe()"
   ]
  },
  {
   "cell_type": "code",
   "execution_count": 19,
   "metadata": {},
   "outputs": [],
   "source": []
  },
  {
   "cell_type": "markdown",
   "metadata": {},
   "source": [
    "The following observations can be made about the `dirty_data` data frame:\n",
    "\n",
    "* There are 500 observations in total, each corresponding to a delivery order.\n",
    "* The date and time variables need to be formatted into a proper variable.\n"
   ]
  },
  {
   "cell_type": "code",
   "execution_count": 20,
   "metadata": {
    "collapsed": false,
    "jupyter": {
     "outputs_hidden": false
    }
   },
   "outputs": [
    {
     "data": {
      "text/plain": "       order_price  customer_lat  customer_lon  customerHasloyalty?  \\\ncount   500.000000    500.000000    500.000000           500.000000   \nmean    478.684000    -37.812103    144.967062             0.054000   \nstd     272.722121      0.007481      0.021305             0.226244   \nmin      33.250000    -37.828542    144.916772             0.000000   \n25%     272.750000    -37.818302    144.952119             0.000000   \n50%     417.500000    -37.812203    144.964018             0.000000   \n75%     665.000000    -37.805941    144.981600             0.000000   \nmax    1335.500000    -37.796450    145.018370             1.000000   \n\n       distance_to_customer_KM  delivery_fee  \ncount               500.000000    400.000000  \nmean                  8.693266     13.811205  \nstd                   1.663536      2.413113  \nmin                   3.478000      5.793977  \n25%                   7.734000     12.732104  \n50%                   8.704500     13.808147  \n75%                   9.747500     15.173717  \nmax                  16.645000     22.281960  ",
      "text/html": "<div>\n<style scoped>\n    .dataframe tbody tr th:only-of-type {\n        vertical-align: middle;\n    }\n\n    .dataframe tbody tr th {\n        vertical-align: top;\n    }\n\n    .dataframe thead th {\n        text-align: right;\n    }\n</style>\n<table border=\"1\" class=\"dataframe\">\n  <thead>\n    <tr style=\"text-align: right;\">\n      <th></th>\n      <th>order_price</th>\n      <th>customer_lat</th>\n      <th>customer_lon</th>\n      <th>customerHasloyalty?</th>\n      <th>distance_to_customer_KM</th>\n      <th>delivery_fee</th>\n    </tr>\n  </thead>\n  <tbody>\n    <tr>\n      <th>count</th>\n      <td>500.000000</td>\n      <td>500.000000</td>\n      <td>500.000000</td>\n      <td>500.000000</td>\n      <td>500.000000</td>\n      <td>400.000000</td>\n    </tr>\n    <tr>\n      <th>mean</th>\n      <td>478.684000</td>\n      <td>-37.812103</td>\n      <td>144.967062</td>\n      <td>0.054000</td>\n      <td>8.693266</td>\n      <td>13.811205</td>\n    </tr>\n    <tr>\n      <th>std</th>\n      <td>272.722121</td>\n      <td>0.007481</td>\n      <td>0.021305</td>\n      <td>0.226244</td>\n      <td>1.663536</td>\n      <td>2.413113</td>\n    </tr>\n    <tr>\n      <th>min</th>\n      <td>33.250000</td>\n      <td>-37.828542</td>\n      <td>144.916772</td>\n      <td>0.000000</td>\n      <td>3.478000</td>\n      <td>5.793977</td>\n    </tr>\n    <tr>\n      <th>25%</th>\n      <td>272.750000</td>\n      <td>-37.818302</td>\n      <td>144.952119</td>\n      <td>0.000000</td>\n      <td>7.734000</td>\n      <td>12.732104</td>\n    </tr>\n    <tr>\n      <th>50%</th>\n      <td>417.500000</td>\n      <td>-37.812203</td>\n      <td>144.964018</td>\n      <td>0.000000</td>\n      <td>8.704500</td>\n      <td>13.808147</td>\n    </tr>\n    <tr>\n      <th>75%</th>\n      <td>665.000000</td>\n      <td>-37.805941</td>\n      <td>144.981600</td>\n      <td>0.000000</td>\n      <td>9.747500</td>\n      <td>15.173717</td>\n    </tr>\n    <tr>\n      <th>max</th>\n      <td>1335.500000</td>\n      <td>-37.796450</td>\n      <td>145.018370</td>\n      <td>1.000000</td>\n      <td>16.645000</td>\n      <td>22.281960</td>\n    </tr>\n  </tbody>\n</table>\n</div>"
     },
     "execution_count": 20,
     "metadata": {},
     "output_type": "execute_result"
    }
   ],
   "source": [
    "missing_data.describe()"
   ]
  },
  {
   "cell_type": "code",
   "execution_count": 21,
   "metadata": {
    "collapsed": false,
    "jupyter": {
     "outputs_hidden": false
    }
   },
   "outputs": [
    {
     "data": {
      "text/plain": "       order_price  customer_lat  customer_lon  customerHasloyalty?  \\\ncount   500.000000    500.000000    500.000000           500.000000   \nmean    498.573400    -37.812952    144.967694             0.052000   \nstd     264.370055      0.007630      0.021310             0.222249   \nmin      36.500000    -37.833333    144.921857             0.000000   \n25%     287.000000    -37.819211    144.952230             0.000000   \n50%     464.900000    -37.813074    144.964640             0.000000   \n75%     677.975000    -37.806776    144.982712             0.000000   \nmax    1493.000000    -37.798083    145.019590             1.000000   \n\n       distance_to_customer_KM  delivery_fee  \ncount               500.000000    500.000000  \nmean                  8.758112     13.690094  \nstd                   1.651498      3.138408  \nmin                   3.605000      4.189152  \n25%                   7.798500     12.429743  \n50%                   8.864500     13.807846  \n75%                   9.720000     15.268315  \nmax                  16.676000     28.822662  ",
      "text/html": "<div>\n<style scoped>\n    .dataframe tbody tr th:only-of-type {\n        vertical-align: middle;\n    }\n\n    .dataframe tbody tr th {\n        vertical-align: top;\n    }\n\n    .dataframe thead th {\n        text-align: right;\n    }\n</style>\n<table border=\"1\" class=\"dataframe\">\n  <thead>\n    <tr style=\"text-align: right;\">\n      <th></th>\n      <th>order_price</th>\n      <th>customer_lat</th>\n      <th>customer_lon</th>\n      <th>customerHasloyalty?</th>\n      <th>distance_to_customer_KM</th>\n      <th>delivery_fee</th>\n    </tr>\n  </thead>\n  <tbody>\n    <tr>\n      <th>count</th>\n      <td>500.000000</td>\n      <td>500.000000</td>\n      <td>500.000000</td>\n      <td>500.000000</td>\n      <td>500.000000</td>\n      <td>500.000000</td>\n    </tr>\n    <tr>\n      <th>mean</th>\n      <td>498.573400</td>\n      <td>-37.812952</td>\n      <td>144.967694</td>\n      <td>0.052000</td>\n      <td>8.758112</td>\n      <td>13.690094</td>\n    </tr>\n    <tr>\n      <th>std</th>\n      <td>264.370055</td>\n      <td>0.007630</td>\n      <td>0.021310</td>\n      <td>0.222249</td>\n      <td>1.651498</td>\n      <td>3.138408</td>\n    </tr>\n    <tr>\n      <th>min</th>\n      <td>36.500000</td>\n      <td>-37.833333</td>\n      <td>144.921857</td>\n      <td>0.000000</td>\n      <td>3.605000</td>\n      <td>4.189152</td>\n    </tr>\n    <tr>\n      <th>25%</th>\n      <td>287.000000</td>\n      <td>-37.819211</td>\n      <td>144.952230</td>\n      <td>0.000000</td>\n      <td>7.798500</td>\n      <td>12.429743</td>\n    </tr>\n    <tr>\n      <th>50%</th>\n      <td>464.900000</td>\n      <td>-37.813074</td>\n      <td>144.964640</td>\n      <td>0.000000</td>\n      <td>8.864500</td>\n      <td>13.807846</td>\n    </tr>\n    <tr>\n      <th>75%</th>\n      <td>677.975000</td>\n      <td>-37.806776</td>\n      <td>144.982712</td>\n      <td>0.000000</td>\n      <td>9.720000</td>\n      <td>15.268315</td>\n    </tr>\n    <tr>\n      <th>max</th>\n      <td>1493.000000</td>\n      <td>-37.798083</td>\n      <td>145.019590</td>\n      <td>1.000000</td>\n      <td>16.676000</td>\n      <td>28.822662</td>\n    </tr>\n  </tbody>\n</table>\n</div>"
     },
     "execution_count": 21,
     "metadata": {},
     "output_type": "execute_result"
    }
   ],
   "source": [
    "outlier_data.describe()"
   ]
  },
  {
   "cell_type": "markdown",
   "metadata": {},
   "source": [
    "It can be insightful to review some information about the number of files (confirming there are no files missing) and the naming convention."
   ]
  },
  {
   "cell_type": "code",
   "execution_count": 22,
   "metadata": {
    "collapsed": false,
    "jupyter": {
     "outputs_hidden": false
    }
   },
   "outputs": [
    {
     "data": {
      "text/plain": "order_id                     0\ndate                         0\ntime                         0\norder_type                   0\nbranch_code                 50\norder_items                  0\norder_price                  0\ncustomer_lat                 0\ncustomer_lon                 0\ncustomerHasloyalty?          0\ndistance_to_customer_KM      0\ndelivery_fee               100\ndtype: int64"
     },
     "execution_count": 22,
     "metadata": {},
     "output_type": "execute_result"
    }
   ],
   "source": [
    "missing_data.isna().sum()"
   ]
  },
  {
   "cell_type": "code",
   "execution_count": 23,
   "metadata": {
    "collapsed": false,
    "jupyter": {
     "outputs_hidden": false
    }
   },
   "outputs": [
    {
     "data": {
      "text/plain": "order_id                     0\ndate                         0\ntime                         0\norder_type                   0\nbranch_code                 50\norder_items                  0\norder_price                  0\ncustomer_lat                 0\ncustomer_lon                 0\ncustomerHasloyalty?          0\ndistance_to_customer_KM      0\ndelivery_fee               100\ndtype: int64"
     },
     "execution_count": 23,
     "metadata": {},
     "output_type": "execute_result"
    }
   ],
   "source": [
    "missing_data.isnull().sum()"
   ]
  },
  {
   "cell_type": "code",
   "execution_count": 24,
   "metadata": {
    "collapsed": false,
    "jupyter": {
     "outputs_hidden": false
    }
   },
   "outputs": [
    {
     "name": "stdout",
     "output_type": "stream",
     "text": [
      "<class 'pandas.core.frame.DataFrame'>\n",
      "RangeIndex: 500 entries, 0 to 499\n",
      "Data columns (total 12 columns):\n",
      " #   Column                   Non-Null Count  Dtype  \n",
      "---  ------                   --------------  -----  \n",
      " 0   order_id                 500 non-null    object \n",
      " 1   date                     500 non-null    object \n",
      " 2   time                     500 non-null    object \n",
      " 3   order_type               500 non-null    object \n",
      " 4   branch_code              450 non-null    object \n",
      " 5   order_items              500 non-null    object \n",
      " 6   order_price              500 non-null    float64\n",
      " 7   customer_lat             500 non-null    float64\n",
      " 8   customer_lon             500 non-null    float64\n",
      " 9   customerHasloyalty?      500 non-null    int64  \n",
      " 10  distance_to_customer_KM  500 non-null    float64\n",
      " 11  delivery_fee             400 non-null    float64\n",
      "dtypes: float64(5), int64(1), object(6)\n",
      "memory usage: 47.0+ KB\n"
     ]
    }
   ],
   "source": [
    "missing_data.info()"
   ]
  },
  {
   "cell_type": "code",
   "execution_count": null,
   "metadata": {
    "collapsed": false,
    "jupyter": {
     "outputs_hidden": false
    }
   },
   "outputs": [],
   "source": []
  },
  {
   "cell_type": "code",
   "execution_count": null,
   "metadata": {
    "collapsed": false,
    "jupyter": {
     "outputs_hidden": false
    }
   },
   "outputs": [],
   "source": []
  },
  {
   "cell_type": "code",
   "execution_count": 14,
   "metadata": {
    "collapsed": false,
    "jupyter": {
     "outputs_hidden": false
    }
   },
   "outputs": [],
   "source": []
  },
  {
   "cell_type": "markdown",
   "metadata": {
    "id": "20RDw_JDiqLF"
   },
   "source": [
    "-------------------------------------"
   ]
  },
  {
   "cell_type": "markdown",
   "metadata": {
    "id": "cO8vwKqkiqLF"
   },
   "source": [
    "## Summary <a class=\"anchor\" name=\"summary\"></a>"
   ]
  },
  {
   "cell_type": "markdown",
   "metadata": {
    "id": "4QdX7ozQiqLF"
   },
   "source": [
    "In conclussion, this excercise has covered all the necessary steps required to process semi-structured files into a unified dataframe that is adequate for analysis.\n",
    "<br>\n",
    "The key steps of the process undoubtedly lie on understanding the structure of the information to be structured. In this case, the data was formatted in HTML and hence it wasn't too difficult to design regular expressions that could extract the right type of information.\n",
    "<br>\n",
    "With the right regular expression design, the data was extracted using simple loops to store the data into a format that is efficient to parse (in this case, a list). Lastly, the pandas library was extremely helpful in structuring the data in a tabular format that can then be examined."
   ]
  },
  {
   "cell_type": "markdown",
   "metadata": {
    "id": "TnASfTmniqLF"
   },
   "source": [
    "-------------------------------------"
   ]
  },
  {
   "cell_type": "markdown",
   "metadata": {
    "id": "Li7bchX9iqLF"
   },
   "source": [
    "## References <a class=\"anchor\" name=\"Ref\"></a>\n"
   ]
  },
  {
   "cell_type": "markdown",
   "metadata": {
    "id": "TkWuWC3NiqLF"
   },
   "source": [
    "\n",
    "\n",
    "[1]<a class=\"anchor\" name=\"ref-2\"></a> Why do I need to add DOTALL to python regular expression to match new line in raw string, https://stackoverflow.com/questions/22610247, Accessed 30/08/2022.\n",
    "\n",
    "....\n"
   ]
  },
  {
   "cell_type": "markdown",
   "metadata": {
    "id": "dVyuz4LciqLG"
   },
   "source": [
    "--------------------------------------------------------------------------------------------------------------------------"
   ]
  }
 ],
 "metadata": {
  "colab": {
   "name": "task1_xxxxxxx.ipynb",
   "provenance": []
  },
  "kernelspec": {
   "display_name": "Python 3 (ipykernel)",
   "language": "python",
   "name": "python3"
  },
  "language_info": {
   "codemirror_mode": {
    "name": "ipython",
    "version": 3
   },
   "file_extension": ".py",
   "mimetype": "text/x-python",
   "name": "python",
   "nbconvert_exporter": "python",
   "pygments_lexer": "ipython3",
   "version": "3.9.12"
  },
  "toc-autonumbering": true,
  "toc-showtags": false
 },
 "nbformat": 4,
 "nbformat_minor": 4
}
