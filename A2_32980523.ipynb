{
 "cells": [
  {
   "cell_type": "markdown",
   "metadata": {},
   "source": [
    "# FIT5196 Assessment 2\n",
    "\n",
    "Student Name: Juan Pablo Grimaldi\n",
    "Student ID: 32980523\n",
    "\n",
    "Date: 31 August 2022\n",
    "\n",
    "\n",
    "Environment: Python 3.9\n",
    "\n",
    "Libraries used:\n",
    "* os (for interacting with the operating system, included in Python 3.xxx package) \n",
    "* re (for regular expression, installed and imported) \n",
    "* pandas (for data manipulation)"
   ]
  },
  {
   "cell_type": "markdown",
   "metadata": {},
   "source": [
    "-------------------------------------"
   ]
  },
  {
   "cell_type": "markdown",
   "metadata": {},
   "source": [
    "# Table of Contents\n",
    "\n",
    "\n",
    "[1. Introduction](#Intro) <br>\n",
    "[2. Importing Libraries](#libs) <br>\n",
    "[3. Examining Review Files](#examine) <br>\n",
    "[4. Loading and Parsing Files](#load) <br>\n",
    "$\\;\\;\\;\\;$[4.1. Defining Regular Expressions](#Reg_Exp) <br>\n",
    "$\\;\\;\\;\\;$[4.2. Extract Information](#Read) <br>\n",
    "$\\;\\;\\;\\;$[4.3. Structure results and data export](#structure) <br>\n",
    "$\\;\\;\\;\\;$[4.4. Debugging](#debugging) <br>\n",
    "[5. Writing Output to CSV File](#write) <br>\n",
    "$\\;\\;\\;\\;$[5.1. Verification - using the sample files](#test) <br>\n",
    "[6. Summary](#summary) <br>\n",
    "[7. References](#Ref) <br>"
   ]
  },
  {
   "cell_type": "markdown",
   "metadata": {},
   "source": [
    "-------------------------------------"
   ]
  },
  {
   "cell_type": "markdown",
   "metadata": {},
   "source": [
    "## Introduction  <a class=\"anchor\" name=\"Intro\"></a>"
   ]
  },
  {
   "cell_type": "markdown",
   "metadata": {},
   "source": [
    "In the real world, it's unlikely to have the good fortune of working with perfectly clean data.\n",
    "Most often than not, data scientists will run into data sets that require some attention before\n",
    "the analysis can even begin. For example, it's common in domains like Finance to observe outliers\n",
    " within stock returns that would create a biased set of estimates when creating the models.\n",
    "\n",
    "George Box famously said:\n",
    "\n",
    "> “All models are wrong, but some are useful.”\n",
    "\n",
    "This reveals that data cleaning is indeed a key part of the process of data analysis, and\n",
    "this assessment will cover common issues and solutions of working with data."
   ]
  },
  {
   "cell_type": "markdown",
   "metadata": {},
   "source": [
    "### Assessment Specifications"
   ]
  },
  {
   "cell_type": "markdown",
   "metadata": {},
   "source": [
    "For this project, we will use and examine three data sets where each one of them contains a\n",
    "problem to be resolved:\n",
    "\n",
    "* `32980523_dirty_data.csv`: detect and fix errors.\n",
    "* `32980523_outlier_data.csv`: detect and remove outlier rows (to be found w.r.t delivery_fee\n",
    "attribute).\n",
    "* `32980523_missing_data.csv`: impute the missing values.\n",
    "\n",
    "In addition, there are three auxiliary files to be used during parts of the data cleaning process: `branches.csv`,`edges.csv`,`nodes.csv`.\n",
    "<br>\n",
    "The dataset contains Food Delivery data from a restaurant in Melbourne, Australia. The restaurant has three branches around CBD area. All three branches share the same menu but they have different management so they operate differently.\n",
    "<br>\n",
    "Below are the variables contained in the data sets:\n",
    "<br>\n",
    "* `order_id`: A unique id for each order\n",
    "* `date`: The date the order was made, given in YYYY-MM-DD format\n",
    "* `time`: The time the order was made, given in hh:mm:ss format\n",
    "* `order_type`: A categorical attribute representing the different types of orders namely: Breakfast, Lunch or Dinner\n",
    "* `branch_code`: A categorical attribute representing the branch code in which the order was made. Branch information is given in the branches.csv file.\n",
    "* `order_items`: A list of tuples representing the order items: first element of the tuple is the\n",
    "item ordered, and the second element is the quantity ordered for that item.\n",
    "* `order_price`: A float value representing the order total price.\n",
    "* `customer_lat`: Latitude of the customer coming from the nodes.csv file.\n",
    "* `customer_lon`: Longitude of the customer coming from the nodes.csv file.\n",
    "* `customerHasloyalty?`: A logical variable denoting whether the customer has a loyalty card with\n",
    "the restaurant (1 if the customer has loyalty and 0 otherwise).\n",
    "* `distance_to_customer_KM`: A float representing the shortest distance, in kilometers, between the branch and the customer nodes with respect to the nodes.csv and the edges.csv files.\n",
    "* `delivery_fee`: A float representing the delivery fee of the order.\n"
   ]
  },
  {
   "cell_type": "markdown",
   "metadata": {},
   "source": [
    "### Additional Information\n",
    "\n",
    "The following helpful details are also provided in the brief:\n",
    "\n",
    "* There are three types of meals:\n",
    "    * Breakfast - served during morning (8am - 12pm),\n",
    "    * Lunch - served during afternoon (12:00:01pm - 4pm)\n",
    "    * Dinner - served during evening (4:00:01pm - 8pm)\n",
    "\n",
    "* Each meal has a distinct set of items in the menu (ex: breakfast items can't be served during lunch or dinner and so on).\n",
    "\n",
    "* A useful python package to solve a linear system of equations is numpy.linalg\n",
    "\n",
    "* Delivery fee is calculated using a different method for each branch. The fee depends linearly (but in different ways for each branch) on:\n",
    "    1. weekend or weekday (1 or 0) - as a binary variable\n",
    "    2. time of the day (morning 0, afternoon 1, evening 2) - as a categorical variable\n",
    "    3. distance between branch and customer\n",
    "\n",
    "* **If a customer has loyalty, they get a 50% discount on delivery fee**\n",
    "\n",
    "* The restaurant uses Djikstra algorithm to calculate the shortest distance between customer and restaurant. (explore networkx python package for this or alternatively find a way to implement the algorithm yourself)\n",
    "\n",
    "* We know that the below columns are error-free:\n",
    "    * order_id\n",
    "    * time\n",
    "    * the numeric quantity in order_items\n",
    "\n",
    "-------------------------------------"
   ]
  },
  {
   "cell_type": "markdown",
   "metadata": {},
   "source": [
    "## Enviroment Preparation  <a class=\"anchor\" name=\"libs\"></a>"
   ]
  },
  {
   "cell_type": "markdown",
   "metadata": {},
   "source": [
    "The packages to be used in this assessment are imported in the following. They are used to fulfill the following tasks:\n",
    "\n",
    "* **pandas:** to structure the results into a tabular format, as per the assessment requirements.\n",
    "* **matplotlib:** for visual exploratory data analysis.\n",
    "* **missingno:** to process and visualise missing data."
   ]
  },
  {
   "cell_type": "code",
   "execution_count": 273,
   "metadata": {
    "collapsed": false,
    "jupyter": {
     "outputs_hidden": false
    }
   },
   "outputs": [],
   "source": [
    "import datetime\n",
    "\n",
    "# import libraries to be used in the assignment\n",
    "#Basic scientific python libs\n",
    "import pandas as pd\n",
    "# Visualisation\n",
    "import matplotlib as mpl\n",
    "import matplotlib.pyplot as plt\n",
    "import missingno as msno\n",
    "import numpy as np\n",
    "# Configure visualisations\n",
    "%matplotlib inline\n",
    "# to make things pretty\n",
    "mpl.style.use( 'ggplot' )"
   ]
  },
  {
   "cell_type": "markdown",
   "metadata": {},
   "source": [
    "-------------------------------------"
   ]
  },
  {
   "cell_type": "markdown",
   "metadata": {},
   "source": [
    "## Load and Examine Datasets <a class=\"anchor\" name=\"examine\"></a>"
   ]
  },
  {
   "cell_type": "markdown",
   "metadata": {},
   "source": [
    "<br>Most of the exploratory data analysis will be performed with methods from the `pandas` library.\n",
    "To begin the process, all the csv files will be read into a dataframe:\n"
   ]
  },
  {
   "cell_type": "code",
   "execution_count": 274,
   "metadata": {
    "collapsed": false,
    "jupyter": {
     "outputs_hidden": false
    }
   },
   "outputs": [],
   "source": [
    "#load datasets\n",
    "dirty_data = pd.read_csv(\"data/32980523_dirty_data.csv\")\n",
    "missing_data = pd.read_csv(\"data/32980523_missing_data.csv\")\n",
    "outlier_data = pd.read_csv(\"data/32980523_outlier_data.csv\")"
   ]
  },
  {
   "cell_type": "markdown",
   "metadata": {},
   "source": [
    "The following sections will cover the process of review and amendment of each of the datasets."
   ]
  },
  {
   "cell_type": "markdown",
   "metadata": {},
   "source": [
    "### Dirty Data"
   ]
  },
  {
   "cell_type": "markdown",
   "metadata": {},
   "source": [
    "Firstly, we will use the info() method to review the variably types within the dataset and print\n",
    "the data set size."
   ]
  },
  {
   "cell_type": "code",
   "execution_count": 275,
   "metadata": {
    "collapsed": false,
    "jupyter": {
     "outputs_hidden": false
    }
   },
   "outputs": [
    {
     "name": "stdout",
     "output_type": "stream",
     "text": [
      "---- Dirty Data: data types ----\n",
      "<class 'pandas.core.frame.DataFrame'>\n",
      "RangeIndex: 500 entries, 0 to 499\n",
      "Data columns (total 12 columns):\n",
      " #   Column                   Non-Null Count  Dtype  \n",
      "---  ------                   --------------  -----  \n",
      " 0   order_id                 500 non-null    object \n",
      " 1   date                     500 non-null    object \n",
      " 2   time                     500 non-null    object \n",
      " 3   order_type               500 non-null    object \n",
      " 4   branch_code              500 non-null    object \n",
      " 5   order_items              500 non-null    object \n",
      " 6   order_price              500 non-null    float64\n",
      " 7   customer_lat             500 non-null    float64\n",
      " 8   customer_lon             500 non-null    float64\n",
      " 9   customerHasloyalty?      500 non-null    int64  \n",
      " 10  distance_to_customer_KM  500 non-null    float64\n",
      " 11  delivery_fee             500 non-null    float64\n",
      "dtypes: float64(5), int64(1), object(6)\n",
      "memory usage: 47.0+ KB\n",
      "---- Dirty Data: data frame size ----\n"
     ]
    },
    {
     "data": {
      "text/plain": [
       "(500, 12)"
      ]
     },
     "execution_count": 275,
     "metadata": {},
     "output_type": "execute_result"
    }
   ],
   "source": [
    "# review dirty data variable types\n",
    "print(\"---- Dirty Data: data types ----\")\n",
    "dirty_data.info()\n",
    "print(\"---- Dirty Data: data frame size ----\")\n",
    "dirty_data.shape"
   ]
  },
  {
   "cell_type": "markdown",
   "metadata": {},
   "source": [
    "Next, the head and tail methods from pandas will allow a quick overview of the dataframe structure."
   ]
  },
  {
   "cell_type": "code",
   "execution_count": 276,
   "metadata": {
    "collapsed": false,
    "jupyter": {
     "outputs_hidden": false
    }
   },
   "outputs": [
    {
     "data": {
      "text/html": [
       "<div>\n",
       "<style scoped>\n",
       "    .dataframe tbody tr th:only-of-type {\n",
       "        vertical-align: middle;\n",
       "    }\n",
       "\n",
       "    .dataframe tbody tr th {\n",
       "        vertical-align: top;\n",
       "    }\n",
       "\n",
       "    .dataframe thead th {\n",
       "        text-align: right;\n",
       "    }\n",
       "</style>\n",
       "<table border=\"1\" class=\"dataframe\">\n",
       "  <thead>\n",
       "    <tr style=\"text-align: right;\">\n",
       "      <th></th>\n",
       "      <th>order_id</th>\n",
       "      <th>date</th>\n",
       "      <th>time</th>\n",
       "      <th>order_type</th>\n",
       "      <th>branch_code</th>\n",
       "      <th>order_items</th>\n",
       "      <th>order_price</th>\n",
       "      <th>customer_lat</th>\n",
       "      <th>customer_lon</th>\n",
       "      <th>customerHasloyalty?</th>\n",
       "      <th>distance_to_customer_KM</th>\n",
       "      <th>delivery_fee</th>\n",
       "    </tr>\n",
       "  </thead>\n",
       "  <tbody>\n",
       "    <tr>\n",
       "      <th>0</th>\n",
       "      <td>ORDJ06243</td>\n",
       "      <td>2021-11-02</td>\n",
       "      <td>18:08:27</td>\n",
       "      <td>Dinner</td>\n",
       "      <td>TP</td>\n",
       "      <td>[('Salmon', 4), ('Pasta', 2), ('Fish&amp;Chips', 1...</td>\n",
       "      <td>308.0</td>\n",
       "      <td>-37.806521</td>\n",
       "      <td>144.944874</td>\n",
       "      <td>0</td>\n",
       "      <td>10.082</td>\n",
       "      <td>13.802598</td>\n",
       "    </tr>\n",
       "    <tr>\n",
       "      <th>1</th>\n",
       "      <td>ORDA10907</td>\n",
       "      <td>2021-11-03</td>\n",
       "      <td>18:08:27</td>\n",
       "      <td>Dinner</td>\n",
       "      <td>BK</td>\n",
       "      <td>[('Salmon', 5), ('Pasta', 5)]</td>\n",
       "      <td>342.5</td>\n",
       "      <td>-37.810712</td>\n",
       "      <td>144.946133</td>\n",
       "      <td>0</td>\n",
       "      <td>9.145</td>\n",
       "      <td>16.150990</td>\n",
       "    </tr>\n",
       "    <tr>\n",
       "      <th>2</th>\n",
       "      <td>ORDA06776</td>\n",
       "      <td>2021-08-14</td>\n",
       "      <td>15:26:11</td>\n",
       "      <td>Lunch</td>\n",
       "      <td>BK</td>\n",
       "      <td>[('Fries', 1), ('Salad', 7), ('Chicken', 2), (...</td>\n",
       "      <td>320.4</td>\n",
       "      <td>-37.819004</td>\n",
       "      <td>144.954318</td>\n",
       "      <td>0</td>\n",
       "      <td>8.676</td>\n",
       "      <td>16.680944</td>\n",
       "    </tr>\n",
       "    <tr>\n",
       "      <th>3</th>\n",
       "      <td>ORDY05744</td>\n",
       "      <td>2021-10-26</td>\n",
       "      <td>17:48:10</td>\n",
       "      <td>Dinner</td>\n",
       "      <td>TP</td>\n",
       "      <td>[('Salmon', 7), ('Pasta', 10), ('Shrimp', 5)]</td>\n",
       "      <td>832.0</td>\n",
       "      <td>-37.817244</td>\n",
       "      <td>144.967764</td>\n",
       "      <td>0</td>\n",
       "      <td>11.792</td>\n",
       "      <td>11.549074</td>\n",
       "    </tr>\n",
       "    <tr>\n",
       "      <th>4</th>\n",
       "      <td>ORDX00833</td>\n",
       "      <td>2021-05-05</td>\n",
       "      <td>12:03:22</td>\n",
       "      <td>Lunch</td>\n",
       "      <td>BK</td>\n",
       "      <td>[('Salad', 2), ('Steak', 10), ('Chicken', 2), ...</td>\n",
       "      <td>892.4</td>\n",
       "      <td>-37.809557</td>\n",
       "      <td>144.972643</td>\n",
       "      <td>0</td>\n",
       "      <td>6.714</td>\n",
       "      <td>12.512411</td>\n",
       "    </tr>\n",
       "  </tbody>\n",
       "</table>\n",
       "</div>"
      ],
      "text/plain": [
       "    order_id        date      time order_type branch_code  \\\n",
       "0  ORDJ06243  2021-11-02  18:08:27     Dinner          TP   \n",
       "1  ORDA10907  2021-11-03  18:08:27     Dinner          BK   \n",
       "2  ORDA06776  2021-08-14  15:26:11      Lunch          BK   \n",
       "3  ORDY05744  2021-10-26  17:48:10     Dinner          TP   \n",
       "4  ORDX00833  2021-05-05  12:03:22      Lunch          BK   \n",
       "\n",
       "                                         order_items  order_price  \\\n",
       "0  [('Salmon', 4), ('Pasta', 2), ('Fish&Chips', 1...        308.0   \n",
       "1                      [('Salmon', 5), ('Pasta', 5)]        342.5   \n",
       "2  [('Fries', 1), ('Salad', 7), ('Chicken', 2), (...        320.4   \n",
       "3      [('Salmon', 7), ('Pasta', 10), ('Shrimp', 5)]        832.0   \n",
       "4  [('Salad', 2), ('Steak', 10), ('Chicken', 2), ...        892.4   \n",
       "\n",
       "   customer_lat  customer_lon  customerHasloyalty?  distance_to_customer_KM  \\\n",
       "0    -37.806521    144.944874                    0                   10.082   \n",
       "1    -37.810712    144.946133                    0                    9.145   \n",
       "2    -37.819004    144.954318                    0                    8.676   \n",
       "3    -37.817244    144.967764                    0                   11.792   \n",
       "4    -37.809557    144.972643                    0                    6.714   \n",
       "\n",
       "   delivery_fee  \n",
       "0     13.802598  \n",
       "1     16.150990  \n",
       "2     16.680944  \n",
       "3     11.549074  \n",
       "4     12.512411  "
      ]
     },
     "execution_count": 276,
     "metadata": {},
     "output_type": "execute_result"
    }
   ],
   "source": [
    "#inspect dirty data head\n",
    "dirty_data.head()"
   ]
  },
  {
   "cell_type": "code",
   "execution_count": 277,
   "metadata": {
    "collapsed": false,
    "jupyter": {
     "outputs_hidden": false
    }
   },
   "outputs": [
    {
     "data": {
      "text/html": [
       "<div>\n",
       "<style scoped>\n",
       "    .dataframe tbody tr th:only-of-type {\n",
       "        vertical-align: middle;\n",
       "    }\n",
       "\n",
       "    .dataframe tbody tr th {\n",
       "        vertical-align: top;\n",
       "    }\n",
       "\n",
       "    .dataframe thead th {\n",
       "        text-align: right;\n",
       "    }\n",
       "</style>\n",
       "<table border=\"1\" class=\"dataframe\">\n",
       "  <thead>\n",
       "    <tr style=\"text-align: right;\">\n",
       "      <th></th>\n",
       "      <th>order_id</th>\n",
       "      <th>date</th>\n",
       "      <th>time</th>\n",
       "      <th>order_type</th>\n",
       "      <th>branch_code</th>\n",
       "      <th>order_items</th>\n",
       "      <th>order_price</th>\n",
       "      <th>customer_lat</th>\n",
       "      <th>customer_lon</th>\n",
       "      <th>customerHasloyalty?</th>\n",
       "      <th>distance_to_customer_KM</th>\n",
       "      <th>delivery_fee</th>\n",
       "    </tr>\n",
       "  </thead>\n",
       "  <tbody>\n",
       "    <tr>\n",
       "      <th>495</th>\n",
       "      <td>ORDX04741</td>\n",
       "      <td>2021-03-24</td>\n",
       "      <td>10:42:15</td>\n",
       "      <td>Breakfast</td>\n",
       "      <td>BK</td>\n",
       "      <td>[('Coffee', 9), ('Pancake', 9)]</td>\n",
       "      <td>249.75</td>\n",
       "      <td>-37.806837</td>\n",
       "      <td>144.951380</td>\n",
       "      <td>0</td>\n",
       "      <td>8.581</td>\n",
       "      <td>13.103430</td>\n",
       "    </tr>\n",
       "    <tr>\n",
       "      <th>496</th>\n",
       "      <td>ORDJ05472</td>\n",
       "      <td>2021-10-03</td>\n",
       "      <td>17:07:36</td>\n",
       "      <td>Dinner</td>\n",
       "      <td>TP</td>\n",
       "      <td>[('Pasta', 4), ('Fish&amp;Chips', 7), ('Shrimp', 2)]</td>\n",
       "      <td>463.00</td>\n",
       "      <td>-37.807966</td>\n",
       "      <td>144.945429</td>\n",
       "      <td>0</td>\n",
       "      <td>9.956</td>\n",
       "      <td>15.517818</td>\n",
       "    </tr>\n",
       "    <tr>\n",
       "      <th>497</th>\n",
       "      <td>ORDK01012</td>\n",
       "      <td>2021-06-16</td>\n",
       "      <td>13:24:30</td>\n",
       "      <td>Lunch</td>\n",
       "      <td>BK</td>\n",
       "      <td>[('Burger', 5), ('Chicken', 5), ('Fries', 10),...</td>\n",
       "      <td>600.40</td>\n",
       "      <td>-37.807797</td>\n",
       "      <td>144.973202</td>\n",
       "      <td>0</td>\n",
       "      <td>6.525</td>\n",
       "      <td>11.838280</td>\n",
       "    </tr>\n",
       "    <tr>\n",
       "      <th>498</th>\n",
       "      <td>ORDK04997</td>\n",
       "      <td>2021-03-16</td>\n",
       "      <td>10:21:58</td>\n",
       "      <td>Breakfast</td>\n",
       "      <td>BK</td>\n",
       "      <td>[('Eggs', 8), ('Coffee', 2), ('Cereal', 3), ('...</td>\n",
       "      <td>283.50</td>\n",
       "      <td>-37.799207</td>\n",
       "      <td>144.961314</td>\n",
       "      <td>0</td>\n",
       "      <td>8.333</td>\n",
       "      <td>13.031216</td>\n",
       "    </tr>\n",
       "    <tr>\n",
       "      <th>499</th>\n",
       "      <td>ORDA02222</td>\n",
       "      <td>2021-04-27</td>\n",
       "      <td>11:53:14</td>\n",
       "      <td>Breakfast</td>\n",
       "      <td>BK</td>\n",
       "      <td>[('Pancake', 7), ('Coffee', 1), ('Cereal', 8)]</td>\n",
       "      <td>321.25</td>\n",
       "      <td>-37.803561</td>\n",
       "      <td>144.918101</td>\n",
       "      <td>0</td>\n",
       "      <td>11.587</td>\n",
       "      <td>16.161815</td>\n",
       "    </tr>\n",
       "  </tbody>\n",
       "</table>\n",
       "</div>"
      ],
      "text/plain": [
       "      order_id        date      time order_type branch_code  \\\n",
       "495  ORDX04741  2021-03-24  10:42:15  Breakfast          BK   \n",
       "496  ORDJ05472  2021-10-03  17:07:36     Dinner          TP   \n",
       "497  ORDK01012  2021-06-16  13:24:30      Lunch          BK   \n",
       "498  ORDK04997  2021-03-16  10:21:58  Breakfast          BK   \n",
       "499  ORDA02222  2021-04-27  11:53:14  Breakfast          BK   \n",
       "\n",
       "                                           order_items  order_price  \\\n",
       "495                    [('Coffee', 9), ('Pancake', 9)]       249.75   \n",
       "496   [('Pasta', 4), ('Fish&Chips', 7), ('Shrimp', 2)]       463.00   \n",
       "497  [('Burger', 5), ('Chicken', 5), ('Fries', 10),...       600.40   \n",
       "498  [('Eggs', 8), ('Coffee', 2), ('Cereal', 3), ('...       283.50   \n",
       "499     [('Pancake', 7), ('Coffee', 1), ('Cereal', 8)]       321.25   \n",
       "\n",
       "     customer_lat  customer_lon  customerHasloyalty?  distance_to_customer_KM  \\\n",
       "495    -37.806837    144.951380                    0                    8.581   \n",
       "496    -37.807966    144.945429                    0                    9.956   \n",
       "497    -37.807797    144.973202                    0                    6.525   \n",
       "498    -37.799207    144.961314                    0                    8.333   \n",
       "499    -37.803561    144.918101                    0                   11.587   \n",
       "\n",
       "     delivery_fee  \n",
       "495     13.103430  \n",
       "496     15.517818  \n",
       "497     11.838280  \n",
       "498     13.031216  \n",
       "499     16.161815  "
      ]
     },
     "execution_count": 277,
     "metadata": {},
     "output_type": "execute_result"
    }
   ],
   "source": [
    "#inspect dirty data head\n",
    "dirty_data.tail()"
   ]
  },
  {
   "cell_type": "code",
   "execution_count": 278,
   "metadata": {
    "collapsed": false,
    "jupyter": {
     "outputs_hidden": false
    }
   },
   "outputs": [
    {
     "data": {
      "text/html": [
       "<div>\n",
       "<style scoped>\n",
       "    .dataframe tbody tr th:only-of-type {\n",
       "        vertical-align: middle;\n",
       "    }\n",
       "\n",
       "    .dataframe tbody tr th {\n",
       "        vertical-align: top;\n",
       "    }\n",
       "\n",
       "    .dataframe thead th {\n",
       "        text-align: right;\n",
       "    }\n",
       "</style>\n",
       "<table border=\"1\" class=\"dataframe\">\n",
       "  <thead>\n",
       "    <tr style=\"text-align: right;\">\n",
       "      <th></th>\n",
       "      <th>order_price</th>\n",
       "      <th>customer_lat</th>\n",
       "      <th>customer_lon</th>\n",
       "      <th>customerHasloyalty?</th>\n",
       "      <th>distance_to_customer_KM</th>\n",
       "      <th>delivery_fee</th>\n",
       "    </tr>\n",
       "  </thead>\n",
       "  <tbody>\n",
       "    <tr>\n",
       "      <th>count</th>\n",
       "      <td>500.000000</td>\n",
       "      <td>500.000000</td>\n",
       "      <td>500.000000</td>\n",
       "      <td>500.000000</td>\n",
       "      <td>500.000000</td>\n",
       "      <td>500.000000</td>\n",
       "    </tr>\n",
       "    <tr>\n",
       "      <th>mean</th>\n",
       "      <td>481.516700</td>\n",
       "      <td>-35.379832</td>\n",
       "      <td>143.138468</td>\n",
       "      <td>0.066000</td>\n",
       "      <td>8.613976</td>\n",
       "      <td>13.669932</td>\n",
       "    </tr>\n",
       "    <tr>\n",
       "      <th>std</th>\n",
       "      <td>265.064722</td>\n",
       "      <td>19.355386</td>\n",
       "      <td>18.203815</td>\n",
       "      <td>0.248531</td>\n",
       "      <td>1.643464</td>\n",
       "      <td>2.392980</td>\n",
       "    </tr>\n",
       "    <tr>\n",
       "      <th>min</th>\n",
       "      <td>41.000000</td>\n",
       "      <td>-37.833333</td>\n",
       "      <td>-37.816142</td>\n",
       "      <td>0.000000</td>\n",
       "      <td>3.657000</td>\n",
       "      <td>5.218812</td>\n",
       "    </tr>\n",
       "    <tr>\n",
       "      <th>25%</th>\n",
       "      <td>276.812500</td>\n",
       "      <td>-37.819053</td>\n",
       "      <td>144.951689</td>\n",
       "      <td>0.000000</td>\n",
       "      <td>7.630750</td>\n",
       "      <td>12.589348</td>\n",
       "    </tr>\n",
       "    <tr>\n",
       "      <th>50%</th>\n",
       "      <td>436.600000</td>\n",
       "      <td>-37.812472</td>\n",
       "      <td>144.963557</td>\n",
       "      <td>0.000000</td>\n",
       "      <td>8.762500</td>\n",
       "      <td>13.921834</td>\n",
       "    </tr>\n",
       "    <tr>\n",
       "      <th>75%</th>\n",
       "      <td>656.075000</td>\n",
       "      <td>-37.805754</td>\n",
       "      <td>144.977142</td>\n",
       "      <td>0.000000</td>\n",
       "      <td>9.631000</td>\n",
       "      <td>15.094976</td>\n",
       "    </tr>\n",
       "    <tr>\n",
       "      <th>max</th>\n",
       "      <td>1432.000000</td>\n",
       "      <td>145.000032</td>\n",
       "      <td>145.017716</td>\n",
       "      <td>1.000000</td>\n",
       "      <td>16.698000</td>\n",
       "      <td>21.566636</td>\n",
       "    </tr>\n",
       "  </tbody>\n",
       "</table>\n",
       "</div>"
      ],
      "text/plain": [
       "       order_price  customer_lat  customer_lon  customerHasloyalty?  \\\n",
       "count   500.000000    500.000000    500.000000           500.000000   \n",
       "mean    481.516700    -35.379832    143.138468             0.066000   \n",
       "std     265.064722     19.355386     18.203815             0.248531   \n",
       "min      41.000000    -37.833333    -37.816142             0.000000   \n",
       "25%     276.812500    -37.819053    144.951689             0.000000   \n",
       "50%     436.600000    -37.812472    144.963557             0.000000   \n",
       "75%     656.075000    -37.805754    144.977142             0.000000   \n",
       "max    1432.000000    145.000032    145.017716             1.000000   \n",
       "\n",
       "       distance_to_customer_KM  delivery_fee  \n",
       "count               500.000000    500.000000  \n",
       "mean                  8.613976     13.669932  \n",
       "std                   1.643464      2.392980  \n",
       "min                   3.657000      5.218812  \n",
       "25%                   7.630750     12.589348  \n",
       "50%                   8.762500     13.921834  \n",
       "75%                   9.631000     15.094976  \n",
       "max                  16.698000     21.566636  "
      ]
     },
     "execution_count": 278,
     "metadata": {},
     "output_type": "execute_result"
    }
   ],
   "source": [
    "# summarise numerical variables\n",
    "dirty_data.describe()"
   ]
  },
  {
   "cell_type": "markdown",
   "metadata": {
    "jupyter": {
     "outputs_hidden": false
    }
   },
   "source": [
    "#### Individual Variable Review"
   ]
  },
  {
   "cell_type": "markdown",
   "metadata": {},
   "source": [
    "This section will cover the review of each one of the variables in the `dirty_data` dataframe."
   ]
  },
  {
   "cell_type": "markdown",
   "metadata": {},
   "source": [
    "#### Date"
   ]
  },
  {
   "cell_type": "markdown",
   "metadata": {},
   "source": [
    "The following line of code should easily parse the date column into a proper pandas datetime format. However, there's a number of errors that pop up when running it that indicate a deeper review is required on each component of the date:\n",
    "\n",
    "``` python\n",
    "dirty_date = pd.to_datetime(dirty_data['date'], format ='%Y-%m-%d')\n",
    ">>> \"ValueError: time data 2021-30-08 doesn't match format specified\"\n",
    "```\n",
    "We will use some basic regular expressions to extract the days, months and years from the `date` series. All common regular expression methods are available directly from pandas."
   ]
  },
  {
   "cell_type": "code",
   "execution_count": 279,
   "metadata": {},
   "outputs": [],
   "source": [
    "#years\n",
    "years = ([itm[0][0] for itm in \n",
    "  dirty_data['date'].str.findall('(\\d{4})-(\\d{2})-(\\d{2})')\n",
    "  if len(itm)>0])\n",
    "years = pd.Series(years).apply(pd.to_numeric)\n",
    "#months\n",
    "months = ([itm[0][1] for itm in \n",
    "  dirty_data['date'].str.findall('(\\d{4})-(\\d{2})-(\\d{2})')\n",
    "  if len(itm)>0])\n",
    "months = pd.Series(months).apply(pd.to_numeric)\n",
    "#days\n",
    "days = ([itm[0][2] for itm in \n",
    "  dirty_data['date'].str.findall('(\\d{4})-(\\d{2})-(\\d{2})')\n",
    "  if len(itm)>0])\n",
    "days = pd.Series(days).apply(pd.to_numeric)\n",
    "# concatenate series\n",
    "date_concat = pd.concat([years,months,days], axis=1)\n",
    "# assign names\n",
    "date_concat.columns=['year','month','day']"
   ]
  },
  {
   "cell_type": "code",
   "execution_count": 280,
   "metadata": {},
   "outputs": [
    {
     "name": "stdout",
     "output_type": "stream",
     "text": [
      "<class 'pandas.core.frame.DataFrame'>\n",
      "RangeIndex: 498 entries, 0 to 497\n",
      "Data columns (total 3 columns):\n",
      " #   Column  Non-Null Count  Dtype\n",
      "---  ------  --------------  -----\n",
      " 0   year    498 non-null    int64\n",
      " 1   month   498 non-null    int64\n",
      " 2   day     498 non-null    int64\n",
      "dtypes: int64(3)\n",
      "memory usage: 11.8 KB\n"
     ]
    }
   ],
   "source": [
    "# create max min average function\n",
    "date_concat.info()"
   ]
  },
  {
   "cell_type": "code",
   "execution_count": 281,
   "metadata": {},
   "outputs": [
    {
     "data": {
      "text/html": [
       "<div>\n",
       "<style scoped>\n",
       "    .dataframe tbody tr th:only-of-type {\n",
       "        vertical-align: middle;\n",
       "    }\n",
       "\n",
       "    .dataframe tbody tr th {\n",
       "        vertical-align: top;\n",
       "    }\n",
       "\n",
       "    .dataframe thead th {\n",
       "        text-align: right;\n",
       "    }\n",
       "</style>\n",
       "<table border=\"1\" class=\"dataframe\">\n",
       "  <thead>\n",
       "    <tr style=\"text-align: right;\">\n",
       "      <th></th>\n",
       "      <th>year</th>\n",
       "      <th>month</th>\n",
       "      <th>day</th>\n",
       "    </tr>\n",
       "  </thead>\n",
       "  <tbody>\n",
       "    <tr>\n",
       "      <th>count</th>\n",
       "      <td>498.0</td>\n",
       "      <td>498.000000</td>\n",
       "      <td>498.000000</td>\n",
       "    </tr>\n",
       "    <tr>\n",
       "      <th>mean</th>\n",
       "      <td>2021.0</td>\n",
       "      <td>6.670683</td>\n",
       "      <td>15.829317</td>\n",
       "    </tr>\n",
       "    <tr>\n",
       "      <th>std</th>\n",
       "      <td>0.0</td>\n",
       "      <td>3.825676</td>\n",
       "      <td>8.729156</td>\n",
       "    </tr>\n",
       "    <tr>\n",
       "      <th>min</th>\n",
       "      <td>2021.0</td>\n",
       "      <td>1.000000</td>\n",
       "      <td>1.000000</td>\n",
       "    </tr>\n",
       "    <tr>\n",
       "      <th>25%</th>\n",
       "      <td>2021.0</td>\n",
       "      <td>4.000000</td>\n",
       "      <td>8.000000</td>\n",
       "    </tr>\n",
       "    <tr>\n",
       "      <th>50%</th>\n",
       "      <td>2021.0</td>\n",
       "      <td>6.000000</td>\n",
       "      <td>16.500000</td>\n",
       "    </tr>\n",
       "    <tr>\n",
       "      <th>75%</th>\n",
       "      <td>2021.0</td>\n",
       "      <td>10.000000</td>\n",
       "      <td>23.000000</td>\n",
       "    </tr>\n",
       "    <tr>\n",
       "      <th>max</th>\n",
       "      <td>2021.0</td>\n",
       "      <td>30.000000</td>\n",
       "      <td>31.000000</td>\n",
       "    </tr>\n",
       "  </tbody>\n",
       "</table>\n",
       "</div>"
      ],
      "text/plain": [
       "         year       month         day\n",
       "count   498.0  498.000000  498.000000\n",
       "mean   2021.0    6.670683   15.829317\n",
       "std       0.0    3.825676    8.729156\n",
       "min    2021.0    1.000000    1.000000\n",
       "25%    2021.0    4.000000    8.000000\n",
       "50%    2021.0    6.000000   16.500000\n",
       "75%    2021.0   10.000000   23.000000\n",
       "max    2021.0   30.000000   31.000000"
      ]
     },
     "execution_count": 281,
     "metadata": {},
     "output_type": "execute_result"
    }
   ],
   "source": [
    "date_concat.describe()"
   ]
  },
  {
   "cell_type": "markdown",
   "metadata": {},
   "source": [
    "We can immediately see observe two issues:\n",
    "\n",
    "1. Two rows weren't properly parsed by the regex format, which should be inspected in further\n",
    "detail.\n",
    "2. It appears that some months are higher than the permitted range for a valid date (i.e. larger\n",
    "than 12)."
   ]
  },
  {
   "cell_type": "code",
   "execution_count": 282,
   "metadata": {},
   "outputs": [
    {
     "data": {
      "text/html": [
       "<div>\n",
       "<style scoped>\n",
       "    .dataframe tbody tr th:only-of-type {\n",
       "        vertical-align: middle;\n",
       "    }\n",
       "\n",
       "    .dataframe tbody tr th {\n",
       "        vertical-align: top;\n",
       "    }\n",
       "\n",
       "    .dataframe thead th {\n",
       "        text-align: right;\n",
       "    }\n",
       "</style>\n",
       "<table border=\"1\" class=\"dataframe\">\n",
       "  <thead>\n",
       "    <tr style=\"text-align: right;\">\n",
       "      <th></th>\n",
       "      <th>year</th>\n",
       "      <th>month</th>\n",
       "      <th>day</th>\n",
       "    </tr>\n",
       "  </thead>\n",
       "  <tbody>\n",
       "    <tr>\n",
       "      <th>113</th>\n",
       "      <td>2021</td>\n",
       "      <td>30</td>\n",
       "      <td>8</td>\n",
       "    </tr>\n",
       "    <tr>\n",
       "      <th>170</th>\n",
       "      <td>2021</td>\n",
       "      <td>19</td>\n",
       "      <td>10</td>\n",
       "    </tr>\n",
       "    <tr>\n",
       "      <th>263</th>\n",
       "      <td>2021</td>\n",
       "      <td>30</td>\n",
       "      <td>6</td>\n",
       "    </tr>\n",
       "    <tr>\n",
       "      <th>416</th>\n",
       "      <td>2021</td>\n",
       "      <td>22</td>\n",
       "      <td>8</td>\n",
       "    </tr>\n",
       "  </tbody>\n",
       "</table>\n",
       "</div>"
      ],
      "text/plain": [
       "     year  month  day\n",
       "113  2021     30    8\n",
       "170  2021     19   10\n",
       "263  2021     30    6\n",
       "416  2021     22    8"
      ]
     },
     "execution_count": 282,
     "metadata": {},
     "output_type": "execute_result"
    }
   ],
   "source": [
    "#check rows were the month is larger than 12.\n",
    "date_concat[date_concat['month'] > 12]"
   ]
  },
  {
   "cell_type": "code",
   "execution_count": 283,
   "metadata": {
    "collapsed": false,
    "jupyter": {
     "outputs_hidden": false
    }
   },
   "outputs": [
    {
     "name": "stdout",
     "output_type": "stream",
     "text": [
      "index:400, value:Tue Jun  1 00:00:00 2021\n",
      "index:418, value:2021-Aug-03\n"
     ]
    }
   ],
   "source": [
    "index = 0\n",
    "for each in dirty_data['date']:\n",
    "  #check for years outside 2021\n",
    "  if each.split(\"-\")[0] != \"2021\":\n",
    "    print(f\"index:{index}, value:{each}\")\n",
    "  #check for nun-numeric month\n",
    "  elif not each.split(\"-\")[1].isnumeric():\n",
    "    print(f\"index:{index}, value:{each}\")\n",
    "  index += 1"
   ]
  },
  {
   "cell_type": "code",
   "execution_count": 284,
   "metadata": {
    "collapsed": false,
    "jupyter": {
     "outputs_hidden": false
    }
   },
   "outputs": [],
   "source": [
    "# changing formats\n",
    "# observation 400\n",
    "dirty_data.at[400,'date'] = \"2021-06-01\"\n",
    "# observation 418\n",
    "dirty_data.at[418,'date'] = \"2021-08-03\""
   ]
  },
  {
   "cell_type": "code",
   "execution_count": 285,
   "metadata": {
    "collapsed": false,
    "jupyter": {
     "outputs_hidden": false
    }
   },
   "outputs": [],
   "source": [
    "# re-run date concat\n",
    "#re run date concat\n",
    "years = ([itm[0][0] for itm in\n",
    "          dirty_data['date'].str.findall('(\\d{4})-(\\d{2})-(\\d{2})')\n",
    "          if len(itm)>0])\n",
    "years = pd.Series(years).apply(pd.to_numeric)\n",
    "#months\n",
    "months = ([itm[0][1] for itm in\n",
    "           dirty_data['date'].str.findall('(\\d{4})-(\\d{2})-(\\d{2})')\n",
    "           if len(itm)>0])\n",
    "months = pd.Series(months).apply(pd.to_numeric)\n",
    "#days\n",
    "days = ([itm[0][2] for itm in\n",
    "         dirty_data['date'].str.findall('(\\d{4})-(\\d{2})-(\\d{2})')\n",
    "         if len(itm)>0])\n",
    "days = pd.Series(days).apply(pd.to_numeric)\n",
    "# concatenate series\n",
    "date_concat = pd.concat([years,months,days], axis=1)\n",
    "# assign names\n",
    "date_concat.columns=['year','month','day']"
   ]
  },
  {
   "cell_type": "code",
   "execution_count": 286,
   "metadata": {
    "collapsed": false,
    "jupyter": {
     "outputs_hidden": false
    }
   },
   "outputs": [
    {
     "name": "stdout",
     "output_type": "stream",
     "text": [
      "<class 'pandas.core.frame.DataFrame'>\n",
      "RangeIndex: 500 entries, 0 to 499\n",
      "Data columns (total 3 columns):\n",
      " #   Column  Non-Null Count  Dtype\n",
      "---  ------  --------------  -----\n",
      " 0   year    500 non-null    int64\n",
      " 1   month   500 non-null    int64\n",
      " 2   day     500 non-null    int64\n",
      "dtypes: int64(3)\n",
      "memory usage: 11.8 KB\n"
     ]
    }
   ],
   "source": [
    "date_concat.info()"
   ]
  },
  {
   "cell_type": "code",
   "execution_count": 287,
   "metadata": {
    "collapsed": false,
    "jupyter": {
     "outputs_hidden": false
    }
   },
   "outputs": [
    {
     "data": {
      "text/html": [
       "<div>\n",
       "<style scoped>\n",
       "    .dataframe tbody tr th:only-of-type {\n",
       "        vertical-align: middle;\n",
       "    }\n",
       "\n",
       "    .dataframe tbody tr th {\n",
       "        vertical-align: top;\n",
       "    }\n",
       "\n",
       "    .dataframe thead th {\n",
       "        text-align: right;\n",
       "    }\n",
       "</style>\n",
       "<table border=\"1\" class=\"dataframe\">\n",
       "  <thead>\n",
       "    <tr style=\"text-align: right;\">\n",
       "      <th></th>\n",
       "      <th>year</th>\n",
       "      <th>month</th>\n",
       "      <th>day</th>\n",
       "    </tr>\n",
       "  </thead>\n",
       "  <tbody>\n",
       "    <tr>\n",
       "      <th>113</th>\n",
       "      <td>2021</td>\n",
       "      <td>30</td>\n",
       "      <td>8</td>\n",
       "    </tr>\n",
       "    <tr>\n",
       "      <th>170</th>\n",
       "      <td>2021</td>\n",
       "      <td>19</td>\n",
       "      <td>10</td>\n",
       "    </tr>\n",
       "    <tr>\n",
       "      <th>263</th>\n",
       "      <td>2021</td>\n",
       "      <td>30</td>\n",
       "      <td>6</td>\n",
       "    </tr>\n",
       "    <tr>\n",
       "      <th>417</th>\n",
       "      <td>2021</td>\n",
       "      <td>22</td>\n",
       "      <td>8</td>\n",
       "    </tr>\n",
       "  </tbody>\n",
       "</table>\n",
       "</div>"
      ],
      "text/plain": [
       "     year  month  day\n",
       "113  2021     30    8\n",
       "170  2021     19   10\n",
       "263  2021     30    6\n",
       "417  2021     22    8"
      ]
     },
     "execution_count": 287,
     "metadata": {},
     "output_type": "execute_result"
    }
   ],
   "source": [
    "#check rows were the month is larger than 12.\n",
    "date_concat[date_concat['month'] > 12]"
   ]
  },
  {
   "cell_type": "markdown",
   "metadata": {},
   "source": [
    "We will impute the incorrect months with proper months:"
   ]
  },
  {
   "cell_type": "code",
   "execution_count": 288,
   "metadata": {
    "collapsed": false,
    "jupyter": {
     "outputs_hidden": false
    }
   },
   "outputs": [
    {
     "data": {
      "text/plain": [
       "0    6\n",
       "Name: month, dtype: int64"
      ]
     },
     "execution_count": 288,
     "metadata": {},
     "output_type": "execute_result"
    }
   ],
   "source": [
    "# most common month\n",
    "date_concat['month'].mode()"
   ]
  },
  {
   "cell_type": "code",
   "execution_count": 289,
   "metadata": {
    "collapsed": false,
    "jupyter": {
     "outputs_hidden": false
    }
   },
   "outputs": [],
   "source": [
    "# correct months\n",
    "import numpy as np\n",
    "date_concat['month'] = np.where(date_concat['month'] > 12, 6, date_concat['month'])"
   ]
  },
  {
   "cell_type": "code",
   "execution_count": 290,
   "metadata": {
    "collapsed": false,
    "jupyter": {
     "outputs_hidden": false
    }
   },
   "outputs": [],
   "source": [
    "# add leading zeroes\n",
    "date_concat['month'] = date_concat['month'].apply(lambda x: '{0:0>2}'.format(x))"
   ]
  },
  {
   "cell_type": "code",
   "execution_count": 291,
   "metadata": {
    "collapsed": false,
    "jupyter": {
     "outputs_hidden": false
    }
   },
   "outputs": [],
   "source": [
    "date_concat['day'] = date_concat['day'].apply(lambda x: '{0:0>2}'.format(x))"
   ]
  },
  {
   "cell_type": "code",
   "execution_count": 292,
   "metadata": {
    "collapsed": false,
    "jupyter": {
     "outputs_hidden": false
    }
   },
   "outputs": [],
   "source": [
    "# put all months together and\n",
    "dirty_data['date'] = date_concat['year'].astype(str) + \"-\"+ date_concat['month'].astype(str) + \\\n",
    "                     \"-\" + date_concat['day'].astype(str)\n"
   ]
  },
  {
   "cell_type": "code",
   "execution_count": 293,
   "metadata": {
    "collapsed": false,
    "jupyter": {
     "outputs_hidden": false
    }
   },
   "outputs": [
    {
     "data": {
      "text/html": [
       "<div>\n",
       "<style scoped>\n",
       "    .dataframe tbody tr th:only-of-type {\n",
       "        vertical-align: middle;\n",
       "    }\n",
       "\n",
       "    .dataframe tbody tr th {\n",
       "        vertical-align: top;\n",
       "    }\n",
       "\n",
       "    .dataframe thead th {\n",
       "        text-align: right;\n",
       "    }\n",
       "</style>\n",
       "<table border=\"1\" class=\"dataframe\">\n",
       "  <thead>\n",
       "    <tr style=\"text-align: right;\">\n",
       "      <th></th>\n",
       "      <th>order_id</th>\n",
       "      <th>date</th>\n",
       "      <th>time</th>\n",
       "      <th>order_type</th>\n",
       "      <th>branch_code</th>\n",
       "      <th>order_items</th>\n",
       "      <th>order_price</th>\n",
       "      <th>customer_lat</th>\n",
       "      <th>customer_lon</th>\n",
       "      <th>customerHasloyalty?</th>\n",
       "      <th>distance_to_customer_KM</th>\n",
       "      <th>delivery_fee</th>\n",
       "    </tr>\n",
       "  </thead>\n",
       "  <tbody>\n",
       "    <tr>\n",
       "      <th>0</th>\n",
       "      <td>ORDJ06243</td>\n",
       "      <td>2021-11-02</td>\n",
       "      <td>18:08:27</td>\n",
       "      <td>Dinner</td>\n",
       "      <td>TP</td>\n",
       "      <td>[('Salmon', 4), ('Pasta', 2), ('Fish&amp;Chips', 1...</td>\n",
       "      <td>308.0</td>\n",
       "      <td>-37.806521</td>\n",
       "      <td>144.944874</td>\n",
       "      <td>0</td>\n",
       "      <td>10.082</td>\n",
       "      <td>13.802598</td>\n",
       "    </tr>\n",
       "    <tr>\n",
       "      <th>1</th>\n",
       "      <td>ORDA10907</td>\n",
       "      <td>2021-11-03</td>\n",
       "      <td>18:08:27</td>\n",
       "      <td>Dinner</td>\n",
       "      <td>BK</td>\n",
       "      <td>[('Salmon', 5), ('Pasta', 5)]</td>\n",
       "      <td>342.5</td>\n",
       "      <td>-37.810712</td>\n",
       "      <td>144.946133</td>\n",
       "      <td>0</td>\n",
       "      <td>9.145</td>\n",
       "      <td>16.150990</td>\n",
       "    </tr>\n",
       "    <tr>\n",
       "      <th>2</th>\n",
       "      <td>ORDA06776</td>\n",
       "      <td>2021-08-14</td>\n",
       "      <td>15:26:11</td>\n",
       "      <td>Lunch</td>\n",
       "      <td>BK</td>\n",
       "      <td>[('Fries', 1), ('Salad', 7), ('Chicken', 2), (...</td>\n",
       "      <td>320.4</td>\n",
       "      <td>-37.819004</td>\n",
       "      <td>144.954318</td>\n",
       "      <td>0</td>\n",
       "      <td>8.676</td>\n",
       "      <td>16.680944</td>\n",
       "    </tr>\n",
       "    <tr>\n",
       "      <th>3</th>\n",
       "      <td>ORDY05744</td>\n",
       "      <td>2021-10-26</td>\n",
       "      <td>17:48:10</td>\n",
       "      <td>Dinner</td>\n",
       "      <td>TP</td>\n",
       "      <td>[('Salmon', 7), ('Pasta', 10), ('Shrimp', 5)]</td>\n",
       "      <td>832.0</td>\n",
       "      <td>-37.817244</td>\n",
       "      <td>144.967764</td>\n",
       "      <td>0</td>\n",
       "      <td>11.792</td>\n",
       "      <td>11.549074</td>\n",
       "    </tr>\n",
       "    <tr>\n",
       "      <th>4</th>\n",
       "      <td>ORDX00833</td>\n",
       "      <td>2021-05-05</td>\n",
       "      <td>12:03:22</td>\n",
       "      <td>Lunch</td>\n",
       "      <td>BK</td>\n",
       "      <td>[('Salad', 2), ('Steak', 10), ('Chicken', 2), ...</td>\n",
       "      <td>892.4</td>\n",
       "      <td>-37.809557</td>\n",
       "      <td>144.972643</td>\n",
       "      <td>0</td>\n",
       "      <td>6.714</td>\n",
       "      <td>12.512411</td>\n",
       "    </tr>\n",
       "  </tbody>\n",
       "</table>\n",
       "</div>"
      ],
      "text/plain": [
       "    order_id        date      time order_type branch_code  \\\n",
       "0  ORDJ06243  2021-11-02  18:08:27     Dinner          TP   \n",
       "1  ORDA10907  2021-11-03  18:08:27     Dinner          BK   \n",
       "2  ORDA06776  2021-08-14  15:26:11      Lunch          BK   \n",
       "3  ORDY05744  2021-10-26  17:48:10     Dinner          TP   \n",
       "4  ORDX00833  2021-05-05  12:03:22      Lunch          BK   \n",
       "\n",
       "                                         order_items  order_price  \\\n",
       "0  [('Salmon', 4), ('Pasta', 2), ('Fish&Chips', 1...        308.0   \n",
       "1                      [('Salmon', 5), ('Pasta', 5)]        342.5   \n",
       "2  [('Fries', 1), ('Salad', 7), ('Chicken', 2), (...        320.4   \n",
       "3      [('Salmon', 7), ('Pasta', 10), ('Shrimp', 5)]        832.0   \n",
       "4  [('Salad', 2), ('Steak', 10), ('Chicken', 2), ...        892.4   \n",
       "\n",
       "   customer_lat  customer_lon  customerHasloyalty?  distance_to_customer_KM  \\\n",
       "0    -37.806521    144.944874                    0                   10.082   \n",
       "1    -37.810712    144.946133                    0                    9.145   \n",
       "2    -37.819004    144.954318                    0                    8.676   \n",
       "3    -37.817244    144.967764                    0                   11.792   \n",
       "4    -37.809557    144.972643                    0                    6.714   \n",
       "\n",
       "   delivery_fee  \n",
       "0     13.802598  \n",
       "1     16.150990  \n",
       "2     16.680944  \n",
       "3     11.549074  \n",
       "4     12.512411  "
      ]
     },
     "execution_count": 293,
     "metadata": {},
     "output_type": "execute_result"
    }
   ],
   "source": [
    "dirty_data.head()"
   ]
  },
  {
   "cell_type": "markdown",
   "metadata": {},
   "source": [
    "#### Order Type"
   ]
  },
  {
   "cell_type": "markdown",
   "metadata": {},
   "source": [
    "For order type, it will be important to take the following aspects into consideration:\n",
    "\n",
    "* There are three types of meals:\n",
    "    * Breakfast - served during morning (8am - 12pm),\n",
    "    * Lunch - served during afternoon (12:00:01pm - 4pm)\n",
    "    * Dinner - served during evening (4:00:01pm - 8pm)\n",
    "* Each meal has a distinct set of items in the menu (ex: breakfast items can't be served during lunch or dinner and so on).\n"
   ]
  },
  {
   "cell_type": "code",
   "execution_count": 294,
   "metadata": {},
   "outputs": [
    {
     "data": {
      "text/plain": [
       "array(['Dinner', 'Lunch', 'Breakfast'], dtype=object)"
      ]
     },
     "execution_count": 294,
     "metadata": {},
     "output_type": "execute_result"
    }
   ],
   "source": [
    "# check order types\n",
    "dirty_data['order_type'].unique()"
   ]
  },
  {
   "cell_type": "code",
   "execution_count": 295,
   "metadata": {},
   "outputs": [
    {
     "data": {
      "text/plain": [
       "0      18:08:27\n",
       "1      18:08:27\n",
       "2      15:26:11\n",
       "3      17:48:10\n",
       "4      12:03:22\n",
       "         ...   \n",
       "495    10:42:15\n",
       "496    17:07:36\n",
       "497    13:24:30\n",
       "498    10:21:58\n",
       "499    11:53:14\n",
       "Name: time, Length: 500, dtype: object"
      ]
     },
     "execution_count": 295,
     "metadata": {},
     "output_type": "execute_result"
    }
   ],
   "source": [
    "dirty_data['time']"
   ]
  },
  {
   "cell_type": "code",
   "execution_count": 296,
   "metadata": {},
   "outputs": [],
   "source": [
    "# transform time to timestamp format\n",
    "dirty_data['time'] = pd.to_datetime(dirty_data['time'],format= '%H:%M:%S')"
   ]
  },
  {
   "cell_type": "code",
   "execution_count": 297,
   "metadata": {},
   "outputs": [],
   "source": [
    "# create hour column\n",
    "dirty_data['hour'] = dirty_data['time'].dt.hour\n",
    "dirty_data['minute'] = dirty_data['time'].dt.minute\n",
    "dirty_data['second'] = dirty_data['time'].dt.second"
   ]
  },
  {
   "cell_type": "code",
   "execution_count": 298,
   "metadata": {
    "tags": []
   },
   "outputs": [
    {
     "data": {
      "text/html": [
       "<div>\n",
       "<style scoped>\n",
       "    .dataframe tbody tr th:only-of-type {\n",
       "        vertical-align: middle;\n",
       "    }\n",
       "\n",
       "    .dataframe tbody tr th {\n",
       "        vertical-align: top;\n",
       "    }\n",
       "\n",
       "    .dataframe thead th {\n",
       "        text-align: right;\n",
       "    }\n",
       "</style>\n",
       "<table border=\"1\" class=\"dataframe\">\n",
       "  <thead>\n",
       "    <tr style=\"text-align: right;\">\n",
       "      <th></th>\n",
       "      <th></th>\n",
       "      <th>order_id</th>\n",
       "    </tr>\n",
       "    <tr>\n",
       "      <th>order_type</th>\n",
       "      <th>hour</th>\n",
       "      <th></th>\n",
       "    </tr>\n",
       "  </thead>\n",
       "  <tbody>\n",
       "    <tr>\n",
       "      <th rowspan=\"6\" valign=\"top\">Breakfast</th>\n",
       "      <th>8</th>\n",
       "      <td>44</td>\n",
       "    </tr>\n",
       "    <tr>\n",
       "      <th>9</th>\n",
       "      <td>39</td>\n",
       "    </tr>\n",
       "    <tr>\n",
       "      <th>10</th>\n",
       "      <td>33</td>\n",
       "    </tr>\n",
       "    <tr>\n",
       "      <th>11</th>\n",
       "      <td>29</td>\n",
       "    </tr>\n",
       "    <tr>\n",
       "      <th>12</th>\n",
       "      <td>1</td>\n",
       "    </tr>\n",
       "    <tr>\n",
       "      <th>14</th>\n",
       "      <td>1</td>\n",
       "    </tr>\n",
       "    <tr>\n",
       "      <th rowspan=\"6\" valign=\"top\">Dinner</th>\n",
       "      <th>9</th>\n",
       "      <td>1</td>\n",
       "    </tr>\n",
       "    <tr>\n",
       "      <th>16</th>\n",
       "      <td>36</td>\n",
       "    </tr>\n",
       "    <tr>\n",
       "      <th>17</th>\n",
       "      <td>41</td>\n",
       "    </tr>\n",
       "    <tr>\n",
       "      <th>18</th>\n",
       "      <td>44</td>\n",
       "    </tr>\n",
       "    <tr>\n",
       "      <th>19</th>\n",
       "      <td>34</td>\n",
       "    </tr>\n",
       "    <tr>\n",
       "      <th>20</th>\n",
       "      <td>6</td>\n",
       "    </tr>\n",
       "    <tr>\n",
       "      <th rowspan=\"6\" valign=\"top\">Lunch</th>\n",
       "      <th>8</th>\n",
       "      <td>1</td>\n",
       "    </tr>\n",
       "    <tr>\n",
       "      <th>10</th>\n",
       "      <td>1</td>\n",
       "    </tr>\n",
       "    <tr>\n",
       "      <th>12</th>\n",
       "      <td>50</td>\n",
       "    </tr>\n",
       "    <tr>\n",
       "      <th>13</th>\n",
       "      <td>59</td>\n",
       "    </tr>\n",
       "    <tr>\n",
       "      <th>14</th>\n",
       "      <td>38</td>\n",
       "    </tr>\n",
       "    <tr>\n",
       "      <th>15</th>\n",
       "      <td>42</td>\n",
       "    </tr>\n",
       "  </tbody>\n",
       "</table>\n",
       "</div>"
      ],
      "text/plain": [
       "                 order_id\n",
       "order_type hour          \n",
       "Breakfast  8           44\n",
       "           9           39\n",
       "           10          33\n",
       "           11          29\n",
       "           12           1\n",
       "           14           1\n",
       "Dinner     9            1\n",
       "           16          36\n",
       "           17          41\n",
       "           18          44\n",
       "           19          34\n",
       "           20           6\n",
       "Lunch      8            1\n",
       "           10           1\n",
       "           12          50\n",
       "           13          59\n",
       "           14          38\n",
       "           15          42"
      ]
     },
     "execution_count": 298,
     "metadata": {},
     "output_type": "execute_result"
    }
   ],
   "source": [
    "#create barplot\n",
    "# dirty_data[['hour','minute','second','time','order_type']]\n",
    "\n",
    "dirty_data[['order_type','hour','order_id']].groupby(['order_type','hour']).count()"
   ]
  },
  {
   "cell_type": "code",
   "execution_count": 299,
   "metadata": {},
   "outputs": [
    {
     "data": {
      "text/html": [
       "<div>\n",
       "<style scoped>\n",
       "    .dataframe tbody tr th:only-of-type {\n",
       "        vertical-align: middle;\n",
       "    }\n",
       "\n",
       "    .dataframe tbody tr th {\n",
       "        vertical-align: top;\n",
       "    }\n",
       "\n",
       "    .dataframe thead th {\n",
       "        text-align: right;\n",
       "    }\n",
       "</style>\n",
       "<table border=\"1\" class=\"dataframe\">\n",
       "  <thead>\n",
       "    <tr style=\"text-align: right;\">\n",
       "      <th></th>\n",
       "      <th>order_id</th>\n",
       "      <th>date</th>\n",
       "      <th>time</th>\n",
       "      <th>order_type</th>\n",
       "      <th>branch_code</th>\n",
       "      <th>order_items</th>\n",
       "      <th>order_price</th>\n",
       "      <th>customer_lat</th>\n",
       "      <th>customer_lon</th>\n",
       "      <th>customerHasloyalty?</th>\n",
       "      <th>distance_to_customer_KM</th>\n",
       "      <th>delivery_fee</th>\n",
       "      <th>hour</th>\n",
       "      <th>minute</th>\n",
       "      <th>second</th>\n",
       "    </tr>\n",
       "  </thead>\n",
       "  <tbody>\n",
       "    <tr>\n",
       "      <th>227</th>\n",
       "      <td>ORDJ04089</td>\n",
       "      <td>2021-05-21</td>\n",
       "      <td>1900-01-01 12:33:48</td>\n",
       "      <td>Breakfast</td>\n",
       "      <td>TP</td>\n",
       "      <td>[('Steak', 10), ('Chicken', 6)]</td>\n",
       "      <td>642.0</td>\n",
       "      <td>-37.813249</td>\n",
       "      <td>144.937156</td>\n",
       "      <td>0</td>\n",
       "      <td>10.529</td>\n",
       "      <td>13.214083</td>\n",
       "      <td>12</td>\n",
       "      <td>33</td>\n",
       "      <td>48</td>\n",
       "    </tr>\n",
       "    <tr>\n",
       "      <th>236</th>\n",
       "      <td>ORDJ06516</td>\n",
       "      <td>2021-07-17</td>\n",
       "      <td>1900-01-01 14:25:21</td>\n",
       "      <td>Breakfast</td>\n",
       "      <td>TP</td>\n",
       "      <td>[('Salad', 2), ('Steak', 3), ('Fries', 2)]</td>\n",
       "      <td>193.4</td>\n",
       "      <td>-37.813381</td>\n",
       "      <td>144.973869</td>\n",
       "      <td>0</td>\n",
       "      <td>8.609</td>\n",
       "      <td>13.785865</td>\n",
       "      <td>14</td>\n",
       "      <td>25</td>\n",
       "      <td>21</td>\n",
       "    </tr>\n",
       "  </tbody>\n",
       "</table>\n",
       "</div>"
      ],
      "text/plain": [
       "      order_id        date                time order_type branch_code  \\\n",
       "227  ORDJ04089  2021-05-21 1900-01-01 12:33:48  Breakfast          TP   \n",
       "236  ORDJ06516  2021-07-17 1900-01-01 14:25:21  Breakfast          TP   \n",
       "\n",
       "                                    order_items  order_price  customer_lat  \\\n",
       "227             [('Steak', 10), ('Chicken', 6)]        642.0    -37.813249   \n",
       "236  [('Salad', 2), ('Steak', 3), ('Fries', 2)]        193.4    -37.813381   \n",
       "\n",
       "     customer_lon  customerHasloyalty?  distance_to_customer_KM  delivery_fee  \\\n",
       "227    144.937156                    0                   10.529     13.214083   \n",
       "236    144.973869                    0                    8.609     13.785865   \n",
       "\n",
       "     hour  minute  second  \n",
       "227    12      33      48  \n",
       "236    14      25      21  "
      ]
     },
     "execution_count": 299,
     "metadata": {},
     "output_type": "execute_result"
    }
   ],
   "source": [
    "# check 2 breakfast at 12 and 2\n",
    "dirty_data[((dirty_data.hour == 12) | (dirty_data.hour == 14))  & (dirty_data.order_type ==\n",
    "                                                                 \"Breakfast\")]"
   ]
  },
  {
   "cell_type": "markdown",
   "metadata": {},
   "source": [
    "The fix for these entries will be to swap the order type for Lunch."
   ]
  },
  {
   "cell_type": "code",
   "execution_count": 300,
   "metadata": {
    "collapsed": false,
    "jupyter": {
     "outputs_hidden": false
    }
   },
   "outputs": [
    {
     "data": {
      "text/html": [
       "<div>\n",
       "<style scoped>\n",
       "    .dataframe tbody tr th:only-of-type {\n",
       "        vertical-align: middle;\n",
       "    }\n",
       "\n",
       "    .dataframe tbody tr th {\n",
       "        vertical-align: top;\n",
       "    }\n",
       "\n",
       "    .dataframe thead th {\n",
       "        text-align: right;\n",
       "    }\n",
       "</style>\n",
       "<table border=\"1\" class=\"dataframe\">\n",
       "  <thead>\n",
       "    <tr style=\"text-align: right;\">\n",
       "      <th></th>\n",
       "      <th>order_id</th>\n",
       "      <th>date</th>\n",
       "      <th>time</th>\n",
       "      <th>order_type</th>\n",
       "      <th>branch_code</th>\n",
       "      <th>order_items</th>\n",
       "      <th>order_price</th>\n",
       "      <th>customer_lat</th>\n",
       "      <th>customer_lon</th>\n",
       "      <th>customerHasloyalty?</th>\n",
       "      <th>distance_to_customer_KM</th>\n",
       "      <th>delivery_fee</th>\n",
       "      <th>hour</th>\n",
       "      <th>minute</th>\n",
       "      <th>second</th>\n",
       "    </tr>\n",
       "  </thead>\n",
       "  <tbody>\n",
       "    <tr>\n",
       "      <th>360</th>\n",
       "      <td>ORDK05672</td>\n",
       "      <td>2021-03-05</td>\n",
       "      <td>1900-01-01 10:01:41</td>\n",
       "      <td>Lunch</td>\n",
       "      <td>BK</td>\n",
       "      <td>[('Eggs', 7), ('Cereal', 1), ('Coffee', 3)]</td>\n",
       "      <td>183.5</td>\n",
       "      <td>-37.822528</td>\n",
       "      <td>144.95032</td>\n",
       "      <td>0</td>\n",
       "      <td>9.042</td>\n",
       "      <td>14.153578</td>\n",
       "      <td>10</td>\n",
       "      <td>1</td>\n",
       "      <td>41</td>\n",
       "    </tr>\n",
       "  </tbody>\n",
       "</table>\n",
       "</div>"
      ],
      "text/plain": [
       "      order_id        date                time order_type branch_code  \\\n",
       "360  ORDK05672  2021-03-05 1900-01-01 10:01:41      Lunch          BK   \n",
       "\n",
       "                                     order_items  order_price  customer_lat  \\\n",
       "360  [('Eggs', 7), ('Cereal', 1), ('Coffee', 3)]        183.5    -37.822528   \n",
       "\n",
       "     customer_lon  customerHasloyalty?  distance_to_customer_KM  delivery_fee  \\\n",
       "360     144.95032                    0                    9.042     14.153578   \n",
       "\n",
       "     hour  minute  second  \n",
       "360    10       1      41  "
      ]
     },
     "execution_count": 300,
     "metadata": {},
     "output_type": "execute_result"
    }
   ],
   "source": [
    "# check 1 lunch at 10\n",
    "dirty_data[(dirty_data.hour == 10)  & (dirty_data.order_type == \"Lunch\")]"
   ]
  },
  {
   "cell_type": "markdown",
   "metadata": {},
   "source": [
    "This entry needs to be changed to breakfast."
   ]
  },
  {
   "cell_type": "code",
   "execution_count": 301,
   "metadata": {
    "collapsed": false,
    "jupyter": {
     "outputs_hidden": false
    }
   },
   "outputs": [
    {
     "data": {
      "text/html": [
       "<div>\n",
       "<style scoped>\n",
       "    .dataframe tbody tr th:only-of-type {\n",
       "        vertical-align: middle;\n",
       "    }\n",
       "\n",
       "    .dataframe tbody tr th {\n",
       "        vertical-align: top;\n",
       "    }\n",
       "\n",
       "    .dataframe thead th {\n",
       "        text-align: right;\n",
       "    }\n",
       "</style>\n",
       "<table border=\"1\" class=\"dataframe\">\n",
       "  <thead>\n",
       "    <tr style=\"text-align: right;\">\n",
       "      <th></th>\n",
       "      <th>order_id</th>\n",
       "      <th>date</th>\n",
       "      <th>time</th>\n",
       "      <th>order_type</th>\n",
       "      <th>branch_code</th>\n",
       "      <th>order_items</th>\n",
       "      <th>order_price</th>\n",
       "      <th>customer_lat</th>\n",
       "      <th>customer_lon</th>\n",
       "      <th>customerHasloyalty?</th>\n",
       "      <th>distance_to_customer_KM</th>\n",
       "      <th>delivery_fee</th>\n",
       "      <th>hour</th>\n",
       "      <th>minute</th>\n",
       "      <th>second</th>\n",
       "    </tr>\n",
       "  </thead>\n",
       "  <tbody>\n",
       "    <tr>\n",
       "      <th>303</th>\n",
       "      <td>ORDA09446</td>\n",
       "      <td>2021-01-31</td>\n",
       "      <td>1900-01-01 09:00:50</td>\n",
       "      <td>Dinner</td>\n",
       "      <td>BK</td>\n",
       "      <td>[('Coffee', 10), ('Cereal', 1), ('Pancake', 9)...</td>\n",
       "      <td>380.25</td>\n",
       "      <td>-37.798457</td>\n",
       "      <td>144.979611</td>\n",
       "      <td>0</td>\n",
       "      <td>6.97</td>\n",
       "      <td>14.257849</td>\n",
       "      <td>9</td>\n",
       "      <td>0</td>\n",
       "      <td>50</td>\n",
       "    </tr>\n",
       "  </tbody>\n",
       "</table>\n",
       "</div>"
      ],
      "text/plain": [
       "      order_id        date                time order_type branch_code  \\\n",
       "303  ORDA09446  2021-01-31 1900-01-01 09:00:50     Dinner          BK   \n",
       "\n",
       "                                           order_items  order_price  \\\n",
       "303  [('Coffee', 10), ('Cereal', 1), ('Pancake', 9)...       380.25   \n",
       "\n",
       "     customer_lat  customer_lon  customerHasloyalty?  distance_to_customer_KM  \\\n",
       "303    -37.798457    144.979611                    0                     6.97   \n",
       "\n",
       "     delivery_fee  hour  minute  second  \n",
       "303     14.257849     9       0      50  "
      ]
     },
     "execution_count": 301,
     "metadata": {},
     "output_type": "execute_result"
    }
   ],
   "source": [
    "# check 1 diner at 9\n",
    "dirty_data[(dirty_data.hour == 9)  & (dirty_data.order_type == \"Dinner\")]"
   ]
  },
  {
   "cell_type": "markdown",
   "metadata": {},
   "source": [
    "This entry needs to be changed to Breakfast."
   ]
  },
  {
   "cell_type": "markdown",
   "metadata": {
    "tags": []
   },
   "source": [
    "#### Branch Code"
   ]
  },
  {
   "cell_type": "code",
   "execution_count": 302,
   "metadata": {},
   "outputs": [
    {
     "data": {
      "text/plain": [
       "<AxesSubplot:xlabel='branch_code'>"
      ]
     },
     "execution_count": 302,
     "metadata": {},
     "output_type": "execute_result"
    },
    {
     "data": {
      "image/png": "[encoded data removed]",
      "text/plain": [
       "<Figure size 432x288 with 1 Axes>"
      ]
     },
     "metadata": {},
     "output_type": "display_data"
    }
   ],
   "source": [
    "# fix casing \n",
    "dirty_data[['branch_code','order_type']].groupby('branch_code').count().plot(kind=\"bar\")"
   ]
  },
  {
   "cell_type": "markdown",
   "metadata": {},
   "source": [
    "There seems to be an issue with the casing of branch codes. The fix is straightforward:"
   ]
  },
  {
   "cell_type": "code",
   "execution_count": 303,
   "metadata": {
    "collapsed": false,
    "jupyter": {
     "outputs_hidden": false
    }
   },
   "outputs": [],
   "source": [
    "dirty_data['branch_code'] = dirty_data['branch_code'].str.upper()"
   ]
  },
  {
   "cell_type": "code",
   "execution_count": 304,
   "metadata": {
    "collapsed": false,
    "jupyter": {
     "outputs_hidden": false
    }
   },
   "outputs": [
    {
     "data": {
      "text/plain": [
       "<AxesSubplot:xlabel='branch_code'>"
      ]
     },
     "execution_count": 304,
     "metadata": {},
     "output_type": "execute_result"
    },
    {
     "data": {
      "image/png": "[encoded data removed]",
      "text/plain": [
       "<Figure size 432x288 with 1 Axes>"
      ]
     },
     "metadata": {},
     "output_type": "display_data"
    }
   ],
   "source": [
    "# re-check\n",
    "dirty_data[['branch_code','order_type']].groupby('branch_code').count().plot(kind=\"bar\")"
   ]
  },
  {
   "cell_type": "markdown",
   "metadata": {},
   "source": [
    "#### Order items & Order Price"
   ]
  },
  {
   "cell_type": "code",
   "execution_count": 305,
   "metadata": {},
   "outputs": [],
   "source": [
    "# steps to review\n"
   ]
  },
  {
   "cell_type": "markdown",
   "metadata": {},
   "source": [
    "1. convert variable into list of tuples\n",
    "2. figure out which items belong to which meal\n"
   ]
  },
  {
   "cell_type": "code",
   "execution_count": 306,
   "metadata": {},
   "outputs": [],
   "source": [
    "# order items and order price\n",
    "dirty_data_op = dirty_data[['order_items','order_price']]"
   ]
  },
  {
   "cell_type": "code",
   "execution_count": 307,
   "metadata": {
    "collapsed": false,
    "jupyter": {
     "outputs_hidden": false
    }
   },
   "outputs": [
    {
     "data": {
      "text/html": [
       "<div>\n",
       "<style scoped>\n",
       "    .dataframe tbody tr th:only-of-type {\n",
       "        vertical-align: middle;\n",
       "    }\n",
       "\n",
       "    .dataframe tbody tr th {\n",
       "        vertical-align: top;\n",
       "    }\n",
       "\n",
       "    .dataframe thead th {\n",
       "        text-align: right;\n",
       "    }\n",
       "</style>\n",
       "<table border=\"1\" class=\"dataframe\">\n",
       "  <thead>\n",
       "    <tr style=\"text-align: right;\">\n",
       "      <th></th>\n",
       "      <th>order_items</th>\n",
       "      <th>order_price</th>\n",
       "    </tr>\n",
       "  </thead>\n",
       "  <tbody>\n",
       "    <tr>\n",
       "      <th>0</th>\n",
       "      <td>[('Salmon', 4), ('Pasta', 2), ('Fish&amp;Chips', 1...</td>\n",
       "      <td>308.00</td>\n",
       "    </tr>\n",
       "    <tr>\n",
       "      <th>1</th>\n",
       "      <td>[('Salmon', 5), ('Pasta', 5)]</td>\n",
       "      <td>342.50</td>\n",
       "    </tr>\n",
       "    <tr>\n",
       "      <th>2</th>\n",
       "      <td>[('Fries', 1), ('Salad', 7), ('Chicken', 2), (...</td>\n",
       "      <td>320.40</td>\n",
       "    </tr>\n",
       "    <tr>\n",
       "      <th>3</th>\n",
       "      <td>[('Salmon', 7), ('Pasta', 10), ('Shrimp', 5)]</td>\n",
       "      <td>832.00</td>\n",
       "    </tr>\n",
       "    <tr>\n",
       "      <th>4</th>\n",
       "      <td>[('Salad', 2), ('Steak', 10), ('Chicken', 2), ...</td>\n",
       "      <td>892.40</td>\n",
       "    </tr>\n",
       "    <tr>\n",
       "      <th>...</th>\n",
       "      <td>...</td>\n",
       "      <td>...</td>\n",
       "    </tr>\n",
       "    <tr>\n",
       "      <th>495</th>\n",
       "      <td>[('Coffee', 9), ('Pancake', 9)]</td>\n",
       "      <td>249.75</td>\n",
       "    </tr>\n",
       "    <tr>\n",
       "      <th>496</th>\n",
       "      <td>[('Pasta', 4), ('Fish&amp;Chips', 7), ('Shrimp', 2)]</td>\n",
       "      <td>463.00</td>\n",
       "    </tr>\n",
       "    <tr>\n",
       "      <th>497</th>\n",
       "      <td>[('Burger', 5), ('Chicken', 5), ('Fries', 10),...</td>\n",
       "      <td>600.40</td>\n",
       "    </tr>\n",
       "    <tr>\n",
       "      <th>498</th>\n",
       "      <td>[('Eggs', 8), ('Coffee', 2), ('Cereal', 3), ('...</td>\n",
       "      <td>283.50</td>\n",
       "    </tr>\n",
       "    <tr>\n",
       "      <th>499</th>\n",
       "      <td>[('Pancake', 7), ('Coffee', 1), ('Cereal', 8)]</td>\n",
       "      <td>321.25</td>\n",
       "    </tr>\n",
       "  </tbody>\n",
       "</table>\n",
       "<p>500 rows × 2 columns</p>\n",
       "</div>"
      ],
      "text/plain": [
       "                                           order_items  order_price\n",
       "0    [('Salmon', 4), ('Pasta', 2), ('Fish&Chips', 1...       308.00\n",
       "1                        [('Salmon', 5), ('Pasta', 5)]       342.50\n",
       "2    [('Fries', 1), ('Salad', 7), ('Chicken', 2), (...       320.40\n",
       "3        [('Salmon', 7), ('Pasta', 10), ('Shrimp', 5)]       832.00\n",
       "4    [('Salad', 2), ('Steak', 10), ('Chicken', 2), ...       892.40\n",
       "..                                                 ...          ...\n",
       "495                    [('Coffee', 9), ('Pancake', 9)]       249.75\n",
       "496   [('Pasta', 4), ('Fish&Chips', 7), ('Shrimp', 2)]       463.00\n",
       "497  [('Burger', 5), ('Chicken', 5), ('Fries', 10),...       600.40\n",
       "498  [('Eggs', 8), ('Coffee', 2), ('Cereal', 3), ('...       283.50\n",
       "499     [('Pancake', 7), ('Coffee', 1), ('Cereal', 8)]       321.25\n",
       "\n",
       "[500 rows x 2 columns]"
      ]
     },
     "execution_count": 307,
     "metadata": {},
     "output_type": "execute_result"
    }
   ],
   "source": [
    "import seaborn as sns\n",
    "dirty_data_op"
   ]
  },
  {
   "cell_type": "markdown",
   "metadata": {},
   "source": [
    "One test would be to extract each item price from the order price and quantity"
   ]
  },
  {
   "cell_type": "code",
   "execution_count": 308,
   "metadata": {},
   "outputs": [
    {
     "data": {
      "text/html": [
       "<div>\n",
       "<style scoped>\n",
       "    .dataframe tbody tr th:only-of-type {\n",
       "        vertical-align: middle;\n",
       "    }\n",
       "\n",
       "    .dataframe tbody tr th {\n",
       "        vertical-align: top;\n",
       "    }\n",
       "\n",
       "    .dataframe thead th {\n",
       "        text-align: right;\n",
       "    }\n",
       "</style>\n",
       "<table border=\"1\" class=\"dataframe\">\n",
       "  <thead>\n",
       "    <tr style=\"text-align: right;\">\n",
       "      <th></th>\n",
       "      <th>order_id</th>\n",
       "      <th>date</th>\n",
       "      <th>time</th>\n",
       "      <th>order_type</th>\n",
       "      <th>branch_code</th>\n",
       "      <th>order_items</th>\n",
       "      <th>order_price</th>\n",
       "      <th>customer_lat</th>\n",
       "      <th>customer_lon</th>\n",
       "      <th>customerHasloyalty?</th>\n",
       "      <th>distance_to_customer_KM</th>\n",
       "      <th>delivery_fee</th>\n",
       "      <th>hour</th>\n",
       "      <th>minute</th>\n",
       "      <th>second</th>\n",
       "    </tr>\n",
       "  </thead>\n",
       "  <tbody>\n",
       "    <tr>\n",
       "      <th>9</th>\n",
       "      <td>ORDC01599</td>\n",
       "      <td>2021-03-22</td>\n",
       "      <td>1900-01-01 10:32:06</td>\n",
       "      <td>Breakfast</td>\n",
       "      <td>NS</td>\n",
       "      <td>[('Eggs', 6), ('Pancake', 10), ('Coffee', 4), ...</td>\n",
       "      <td>410.50</td>\n",
       "      <td>-37.807758</td>\n",
       "      <td>144.943627</td>\n",
       "      <td>0</td>\n",
       "      <td>9.186</td>\n",
       "      <td>14.823477</td>\n",
       "      <td>10</td>\n",
       "      <td>32</td>\n",
       "      <td>6</td>\n",
       "    </tr>\n",
       "    <tr>\n",
       "      <th>12</th>\n",
       "      <td>ORDI00267</td>\n",
       "      <td>2021-04-23</td>\n",
       "      <td>1900-01-01 11:43:05</td>\n",
       "      <td>Breakfast</td>\n",
       "      <td>NS</td>\n",
       "      <td>[('Cereal', 10), ('Pancake', 8), ('Coffee', 1)]</td>\n",
       "      <td>383.50</td>\n",
       "      <td>-37.814318</td>\n",
       "      <td>144.949383</td>\n",
       "      <td>0</td>\n",
       "      <td>10.094</td>\n",
       "      <td>14.965101</td>\n",
       "      <td>11</td>\n",
       "      <td>43</td>\n",
       "      <td>5</td>\n",
       "    </tr>\n",
       "    <tr>\n",
       "      <th>14</th>\n",
       "      <td>ORDC00878</td>\n",
       "      <td>2021-02-11</td>\n",
       "      <td>1900-01-01 09:21:07</td>\n",
       "      <td>Breakfast</td>\n",
       "      <td>NS</td>\n",
       "      <td>[('Coffee', 4), ('Cereal', 6), ('Pancake', 9),...</td>\n",
       "      <td>468.25</td>\n",
       "      <td>-37.820711</td>\n",
       "      <td>145.004950</td>\n",
       "      <td>0</td>\n",
       "      <td>10.748</td>\n",
       "      <td>15.569070</td>\n",
       "      <td>9</td>\n",
       "      <td>21</td>\n",
       "      <td>7</td>\n",
       "    </tr>\n",
       "    <tr>\n",
       "      <th>18</th>\n",
       "      <td>ORDX06107</td>\n",
       "      <td>2021-04-28</td>\n",
       "      <td>1900-01-01 11:53:14</td>\n",
       "      <td>Breakfast</td>\n",
       "      <td>BK</td>\n",
       "      <td>[('Eggs', 6), ('Cereal', 10), ('Pancake', 2)]</td>\n",
       "      <td>370.50</td>\n",
       "      <td>-37.805997</td>\n",
       "      <td>144.929506</td>\n",
       "      <td>0</td>\n",
       "      <td>11.067</td>\n",
       "      <td>16.010717</td>\n",
       "      <td>11</td>\n",
       "      <td>53</td>\n",
       "      <td>14</td>\n",
       "    </tr>\n",
       "    <tr>\n",
       "      <th>19</th>\n",
       "      <td>ORDA07292</td>\n",
       "      <td>2021-04-08</td>\n",
       "      <td>1900-01-01 11:12:40</td>\n",
       "      <td>Breakfast</td>\n",
       "      <td>BK</td>\n",
       "      <td>[('Eggs', 2), ('Cereal', 9), ('Coffee', 8), ('...</td>\n",
       "      <td>466.25</td>\n",
       "      <td>-37.822457</td>\n",
       "      <td>144.947848</td>\n",
       "      <td>0</td>\n",
       "      <td>9.255</td>\n",
       "      <td>14.132851</td>\n",
       "      <td>11</td>\n",
       "      <td>12</td>\n",
       "      <td>40</td>\n",
       "    </tr>\n",
       "  </tbody>\n",
       "</table>\n",
       "</div>"
      ],
      "text/plain": [
       "     order_id        date                time order_type branch_code  \\\n",
       "9   ORDC01599  2021-03-22 1900-01-01 10:32:06  Breakfast          NS   \n",
       "12  ORDI00267  2021-04-23 1900-01-01 11:43:05  Breakfast          NS   \n",
       "14  ORDC00878  2021-02-11 1900-01-01 09:21:07  Breakfast          NS   \n",
       "18  ORDX06107  2021-04-28 1900-01-01 11:53:14  Breakfast          BK   \n",
       "19  ORDA07292  2021-04-08 1900-01-01 11:12:40  Breakfast          BK   \n",
       "\n",
       "                                          order_items  order_price  \\\n",
       "9   [('Eggs', 6), ('Pancake', 10), ('Coffee', 4), ...       410.50   \n",
       "12    [('Cereal', 10), ('Pancake', 8), ('Coffee', 1)]       383.50   \n",
       "14  [('Coffee', 4), ('Cereal', 6), ('Pancake', 9),...       468.25   \n",
       "18      [('Eggs', 6), ('Cereal', 10), ('Pancake', 2)]       370.50   \n",
       "19  [('Eggs', 2), ('Cereal', 9), ('Coffee', 8), ('...       466.25   \n",
       "\n",
       "    customer_lat  customer_lon  customerHasloyalty?  distance_to_customer_KM  \\\n",
       "9     -37.807758    144.943627                    0                    9.186   \n",
       "12    -37.814318    144.949383                    0                   10.094   \n",
       "14    -37.820711    145.004950                    0                   10.748   \n",
       "18    -37.805997    144.929506                    0                   11.067   \n",
       "19    -37.822457    144.947848                    0                    9.255   \n",
       "\n",
       "    delivery_fee  hour  minute  second  \n",
       "9      14.823477    10      32       6  \n",
       "12     14.965101    11      43       5  \n",
       "14     15.569070     9      21       7  \n",
       "18     16.010717    11      53      14  \n",
       "19     14.132851    11      12      40  "
      ]
     },
     "execution_count": 308,
     "metadata": {},
     "output_type": "execute_result"
    }
   ],
   "source": [
    "# each row can only have one anomaly!\n",
    "dirty_data[dirty_data[\"order_type\"]==\"Breakfast\"].head()"
   ]
  },
  {
   "cell_type": "code",
   "execution_count": 309,
   "metadata": {},
   "outputs": [],
   "source": [
    "# ! this will likely be the most challenging column to check, as I may need to confirm that all prices are alright with a system of equations."
   ]
  },
  {
   "cell_type": "code",
   "execution_count": 310,
   "metadata": {
    "collapsed": false,
    "jupyter": {
     "outputs_hidden": false
    }
   },
   "outputs": [],
   "source": [
    "# some code"
   ]
  },
  {
   "cell_type": "code",
   "execution_count": 311,
   "metadata": {},
   "outputs": [
    {
     "data": {
      "text/html": [
       "<div>\n",
       "<style scoped>\n",
       "    .dataframe tbody tr th:only-of-type {\n",
       "        vertical-align: middle;\n",
       "    }\n",
       "\n",
       "    .dataframe tbody tr th {\n",
       "        vertical-align: top;\n",
       "    }\n",
       "\n",
       "    .dataframe thead th {\n",
       "        text-align: right;\n",
       "    }\n",
       "</style>\n",
       "<table border=\"1\" class=\"dataframe\">\n",
       "  <thead>\n",
       "    <tr style=\"text-align: right;\">\n",
       "      <th></th>\n",
       "      <th>order_id</th>\n",
       "      <th>date</th>\n",
       "      <th>time</th>\n",
       "      <th>order_type</th>\n",
       "      <th>branch_code</th>\n",
       "      <th>order_items</th>\n",
       "      <th>order_price</th>\n",
       "      <th>customer_lat</th>\n",
       "      <th>customer_lon</th>\n",
       "      <th>customerHasloyalty?</th>\n",
       "      <th>distance_to_customer_KM</th>\n",
       "      <th>delivery_fee</th>\n",
       "      <th>hour</th>\n",
       "      <th>minute</th>\n",
       "      <th>second</th>\n",
       "    </tr>\n",
       "  </thead>\n",
       "  <tbody>\n",
       "    <tr>\n",
       "      <th>0</th>\n",
       "      <td>ORDJ06243</td>\n",
       "      <td>2021-11-02</td>\n",
       "      <td>1900-01-01 18:08:27</td>\n",
       "      <td>Dinner</td>\n",
       "      <td>TP</td>\n",
       "      <td>[('Salmon', 4), ('Pasta', 2), ('Fish&amp;Chips', 1...</td>\n",
       "      <td>308.0</td>\n",
       "      <td>-37.806521</td>\n",
       "      <td>144.944874</td>\n",
       "      <td>0</td>\n",
       "      <td>10.082</td>\n",
       "      <td>13.802598</td>\n",
       "      <td>18</td>\n",
       "      <td>8</td>\n",
       "      <td>27</td>\n",
       "    </tr>\n",
       "    <tr>\n",
       "      <th>1</th>\n",
       "      <td>ORDA10907</td>\n",
       "      <td>2021-11-03</td>\n",
       "      <td>1900-01-01 18:08:27</td>\n",
       "      <td>Dinner</td>\n",
       "      <td>BK</td>\n",
       "      <td>[('Salmon', 5), ('Pasta', 5)]</td>\n",
       "      <td>342.5</td>\n",
       "      <td>-37.810712</td>\n",
       "      <td>144.946133</td>\n",
       "      <td>0</td>\n",
       "      <td>9.145</td>\n",
       "      <td>16.150990</td>\n",
       "      <td>18</td>\n",
       "      <td>8</td>\n",
       "      <td>27</td>\n",
       "    </tr>\n",
       "    <tr>\n",
       "      <th>2</th>\n",
       "      <td>ORDA06776</td>\n",
       "      <td>2021-08-14</td>\n",
       "      <td>1900-01-01 15:26:11</td>\n",
       "      <td>Lunch</td>\n",
       "      <td>BK</td>\n",
       "      <td>[('Fries', 1), ('Salad', 7), ('Chicken', 2), (...</td>\n",
       "      <td>320.4</td>\n",
       "      <td>-37.819004</td>\n",
       "      <td>144.954318</td>\n",
       "      <td>0</td>\n",
       "      <td>8.676</td>\n",
       "      <td>16.680944</td>\n",
       "      <td>15</td>\n",
       "      <td>26</td>\n",
       "      <td>11</td>\n",
       "    </tr>\n",
       "    <tr>\n",
       "      <th>3</th>\n",
       "      <td>ORDY05744</td>\n",
       "      <td>2021-10-26</td>\n",
       "      <td>1900-01-01 17:48:10</td>\n",
       "      <td>Dinner</td>\n",
       "      <td>TP</td>\n",
       "      <td>[('Salmon', 7), ('Pasta', 10), ('Shrimp', 5)]</td>\n",
       "      <td>832.0</td>\n",
       "      <td>-37.817244</td>\n",
       "      <td>144.967764</td>\n",
       "      <td>0</td>\n",
       "      <td>11.792</td>\n",
       "      <td>11.549074</td>\n",
       "      <td>17</td>\n",
       "      <td>48</td>\n",
       "      <td>10</td>\n",
       "    </tr>\n",
       "    <tr>\n",
       "      <th>4</th>\n",
       "      <td>ORDX00833</td>\n",
       "      <td>2021-05-05</td>\n",
       "      <td>1900-01-01 12:03:22</td>\n",
       "      <td>Lunch</td>\n",
       "      <td>BK</td>\n",
       "      <td>[('Salad', 2), ('Steak', 10), ('Chicken', 2), ...</td>\n",
       "      <td>892.4</td>\n",
       "      <td>-37.809557</td>\n",
       "      <td>144.972643</td>\n",
       "      <td>0</td>\n",
       "      <td>6.714</td>\n",
       "      <td>12.512411</td>\n",
       "      <td>12</td>\n",
       "      <td>3</td>\n",
       "      <td>22</td>\n",
       "    </tr>\n",
       "  </tbody>\n",
       "</table>\n",
       "</div>"
      ],
      "text/plain": [
       "    order_id        date                time order_type branch_code  \\\n",
       "0  ORDJ06243  2021-11-02 1900-01-01 18:08:27     Dinner          TP   \n",
       "1  ORDA10907  2021-11-03 1900-01-01 18:08:27     Dinner          BK   \n",
       "2  ORDA06776  2021-08-14 1900-01-01 15:26:11      Lunch          BK   \n",
       "3  ORDY05744  2021-10-26 1900-01-01 17:48:10     Dinner          TP   \n",
       "4  ORDX00833  2021-05-05 1900-01-01 12:03:22      Lunch          BK   \n",
       "\n",
       "                                         order_items  order_price  \\\n",
       "0  [('Salmon', 4), ('Pasta', 2), ('Fish&Chips', 1...        308.0   \n",
       "1                      [('Salmon', 5), ('Pasta', 5)]        342.5   \n",
       "2  [('Fries', 1), ('Salad', 7), ('Chicken', 2), (...        320.4   \n",
       "3      [('Salmon', 7), ('Pasta', 10), ('Shrimp', 5)]        832.0   \n",
       "4  [('Salad', 2), ('Steak', 10), ('Chicken', 2), ...        892.4   \n",
       "\n",
       "   customer_lat  customer_lon  customerHasloyalty?  distance_to_customer_KM  \\\n",
       "0    -37.806521    144.944874                    0                   10.082   \n",
       "1    -37.810712    144.946133                    0                    9.145   \n",
       "2    -37.819004    144.954318                    0                    8.676   \n",
       "3    -37.817244    144.967764                    0                   11.792   \n",
       "4    -37.809557    144.972643                    0                    6.714   \n",
       "\n",
       "   delivery_fee  hour  minute  second  \n",
       "0     13.802598    18       8      27  \n",
       "1     16.150990    18       8      27  \n",
       "2     16.680944    15      26      11  \n",
       "3     11.549074    17      48      10  \n",
       "4     12.512411    12       3      22  "
      ]
     },
     "execution_count": 311,
     "metadata": {},
     "output_type": "execute_result"
    }
   ],
   "source": [
    "dirty_data.head()"
   ]
  },
  {
   "cell_type": "markdown",
   "metadata": {},
   "source": [
    "#### Customer location"
   ]
  },
  {
   "cell_type": "code",
   "execution_count": 312,
   "metadata": {},
   "outputs": [],
   "source": [
    "# lets map!"
   ]
  },
  {
   "cell_type": "code",
   "execution_count": 313,
   "metadata": {},
   "outputs": [],
   "source": [
    "import plotly.express as px"
   ]
  },
  {
   "cell_type": "markdown",
   "metadata": {
    "id": "20RDw_JDiqLF"
   },
   "source": [
    "-------------------------------------"
   ]
  },
  {
   "cell_type": "code",
   "execution_count": 314,
   "metadata": {},
   "outputs": [
    {
     "data": {
      "text/html": [
       "<div>\n",
       "<style scoped>\n",
       "    .dataframe tbody tr th:only-of-type {\n",
       "        vertical-align: middle;\n",
       "    }\n",
       "\n",
       "    .dataframe tbody tr th {\n",
       "        vertical-align: top;\n",
       "    }\n",
       "\n",
       "    .dataframe thead th {\n",
       "        text-align: right;\n",
       "    }\n",
       "</style>\n",
       "<table border=\"1\" class=\"dataframe\">\n",
       "  <thead>\n",
       "    <tr style=\"text-align: right;\">\n",
       "      <th></th>\n",
       "      <th>order_id</th>\n",
       "      <th>date</th>\n",
       "      <th>time</th>\n",
       "      <th>order_type</th>\n",
       "      <th>branch_code</th>\n",
       "      <th>order_items</th>\n",
       "      <th>order_price</th>\n",
       "      <th>customer_lat</th>\n",
       "      <th>customer_lon</th>\n",
       "      <th>customerHasloyalty?</th>\n",
       "      <th>distance_to_customer_KM</th>\n",
       "      <th>delivery_fee</th>\n",
       "      <th>hour</th>\n",
       "      <th>minute</th>\n",
       "      <th>second</th>\n",
       "    </tr>\n",
       "  </thead>\n",
       "  <tbody>\n",
       "    <tr>\n",
       "      <th>0</th>\n",
       "      <td>ORDJ06243</td>\n",
       "      <td>2021-11-02</td>\n",
       "      <td>1900-01-01 18:08:27</td>\n",
       "      <td>Dinner</td>\n",
       "      <td>TP</td>\n",
       "      <td>[('Salmon', 4), ('Pasta', 2), ('Fish&amp;Chips', 1...</td>\n",
       "      <td>308.00</td>\n",
       "      <td>-37.806521</td>\n",
       "      <td>144.944874</td>\n",
       "      <td>0</td>\n",
       "      <td>10.082</td>\n",
       "      <td>13.802598</td>\n",
       "      <td>18</td>\n",
       "      <td>8</td>\n",
       "      <td>27</td>\n",
       "    </tr>\n",
       "    <tr>\n",
       "      <th>1</th>\n",
       "      <td>ORDA10907</td>\n",
       "      <td>2021-11-03</td>\n",
       "      <td>1900-01-01 18:08:27</td>\n",
       "      <td>Dinner</td>\n",
       "      <td>BK</td>\n",
       "      <td>[('Salmon', 5), ('Pasta', 5)]</td>\n",
       "      <td>342.50</td>\n",
       "      <td>-37.810712</td>\n",
       "      <td>144.946133</td>\n",
       "      <td>0</td>\n",
       "      <td>9.145</td>\n",
       "      <td>16.150990</td>\n",
       "      <td>18</td>\n",
       "      <td>8</td>\n",
       "      <td>27</td>\n",
       "    </tr>\n",
       "    <tr>\n",
       "      <th>2</th>\n",
       "      <td>ORDA06776</td>\n",
       "      <td>2021-08-14</td>\n",
       "      <td>1900-01-01 15:26:11</td>\n",
       "      <td>Lunch</td>\n",
       "      <td>BK</td>\n",
       "      <td>[('Fries', 1), ('Salad', 7), ('Chicken', 2), (...</td>\n",
       "      <td>320.40</td>\n",
       "      <td>-37.819004</td>\n",
       "      <td>144.954318</td>\n",
       "      <td>0</td>\n",
       "      <td>8.676</td>\n",
       "      <td>16.680944</td>\n",
       "      <td>15</td>\n",
       "      <td>26</td>\n",
       "      <td>11</td>\n",
       "    </tr>\n",
       "    <tr>\n",
       "      <th>3</th>\n",
       "      <td>ORDY05744</td>\n",
       "      <td>2021-10-26</td>\n",
       "      <td>1900-01-01 17:48:10</td>\n",
       "      <td>Dinner</td>\n",
       "      <td>TP</td>\n",
       "      <td>[('Salmon', 7), ('Pasta', 10), ('Shrimp', 5)]</td>\n",
       "      <td>832.00</td>\n",
       "      <td>-37.817244</td>\n",
       "      <td>144.967764</td>\n",
       "      <td>0</td>\n",
       "      <td>11.792</td>\n",
       "      <td>11.549074</td>\n",
       "      <td>17</td>\n",
       "      <td>48</td>\n",
       "      <td>10</td>\n",
       "    </tr>\n",
       "    <tr>\n",
       "      <th>4</th>\n",
       "      <td>ORDX00833</td>\n",
       "      <td>2021-05-05</td>\n",
       "      <td>1900-01-01 12:03:22</td>\n",
       "      <td>Lunch</td>\n",
       "      <td>BK</td>\n",
       "      <td>[('Salad', 2), ('Steak', 10), ('Chicken', 2), ...</td>\n",
       "      <td>892.40</td>\n",
       "      <td>-37.809557</td>\n",
       "      <td>144.972643</td>\n",
       "      <td>0</td>\n",
       "      <td>6.714</td>\n",
       "      <td>12.512411</td>\n",
       "      <td>12</td>\n",
       "      <td>3</td>\n",
       "      <td>22</td>\n",
       "    </tr>\n",
       "    <tr>\n",
       "      <th>...</th>\n",
       "      <td>...</td>\n",
       "      <td>...</td>\n",
       "      <td>...</td>\n",
       "      <td>...</td>\n",
       "      <td>...</td>\n",
       "      <td>...</td>\n",
       "      <td>...</td>\n",
       "      <td>...</td>\n",
       "      <td>...</td>\n",
       "      <td>...</td>\n",
       "      <td>...</td>\n",
       "      <td>...</td>\n",
       "      <td>...</td>\n",
       "      <td>...</td>\n",
       "      <td>...</td>\n",
       "    </tr>\n",
       "    <tr>\n",
       "      <th>495</th>\n",
       "      <td>ORDX04741</td>\n",
       "      <td>2021-03-24</td>\n",
       "      <td>1900-01-01 10:42:15</td>\n",
       "      <td>Breakfast</td>\n",
       "      <td>BK</td>\n",
       "      <td>[('Coffee', 9), ('Pancake', 9)]</td>\n",
       "      <td>249.75</td>\n",
       "      <td>-37.806837</td>\n",
       "      <td>144.951380</td>\n",
       "      <td>0</td>\n",
       "      <td>8.581</td>\n",
       "      <td>13.103430</td>\n",
       "      <td>10</td>\n",
       "      <td>42</td>\n",
       "      <td>15</td>\n",
       "    </tr>\n",
       "    <tr>\n",
       "      <th>496</th>\n",
       "      <td>ORDJ05472</td>\n",
       "      <td>2021-10-03</td>\n",
       "      <td>1900-01-01 17:07:36</td>\n",
       "      <td>Dinner</td>\n",
       "      <td>TP</td>\n",
       "      <td>[('Pasta', 4), ('Fish&amp;Chips', 7), ('Shrimp', 2)]</td>\n",
       "      <td>463.00</td>\n",
       "      <td>-37.807966</td>\n",
       "      <td>144.945429</td>\n",
       "      <td>0</td>\n",
       "      <td>9.956</td>\n",
       "      <td>15.517818</td>\n",
       "      <td>17</td>\n",
       "      <td>7</td>\n",
       "      <td>36</td>\n",
       "    </tr>\n",
       "    <tr>\n",
       "      <th>497</th>\n",
       "      <td>ORDK01012</td>\n",
       "      <td>2021-06-16</td>\n",
       "      <td>1900-01-01 13:24:30</td>\n",
       "      <td>Lunch</td>\n",
       "      <td>BK</td>\n",
       "      <td>[('Burger', 5), ('Chicken', 5), ('Fries', 10),...</td>\n",
       "      <td>600.40</td>\n",
       "      <td>-37.807797</td>\n",
       "      <td>144.973202</td>\n",
       "      <td>0</td>\n",
       "      <td>6.525</td>\n",
       "      <td>11.838280</td>\n",
       "      <td>13</td>\n",
       "      <td>24</td>\n",
       "      <td>30</td>\n",
       "    </tr>\n",
       "    <tr>\n",
       "      <th>498</th>\n",
       "      <td>ORDK04997</td>\n",
       "      <td>2021-03-16</td>\n",
       "      <td>1900-01-01 10:21:58</td>\n",
       "      <td>Breakfast</td>\n",
       "      <td>BK</td>\n",
       "      <td>[('Eggs', 8), ('Coffee', 2), ('Cereal', 3), ('...</td>\n",
       "      <td>283.50</td>\n",
       "      <td>-37.799207</td>\n",
       "      <td>144.961314</td>\n",
       "      <td>0</td>\n",
       "      <td>8.333</td>\n",
       "      <td>13.031216</td>\n",
       "      <td>10</td>\n",
       "      <td>21</td>\n",
       "      <td>58</td>\n",
       "    </tr>\n",
       "    <tr>\n",
       "      <th>499</th>\n",
       "      <td>ORDA02222</td>\n",
       "      <td>2021-04-27</td>\n",
       "      <td>1900-01-01 11:53:14</td>\n",
       "      <td>Breakfast</td>\n",
       "      <td>BK</td>\n",
       "      <td>[('Pancake', 7), ('Coffee', 1), ('Cereal', 8)]</td>\n",
       "      <td>321.25</td>\n",
       "      <td>-37.803561</td>\n",
       "      <td>144.918101</td>\n",
       "      <td>0</td>\n",
       "      <td>11.587</td>\n",
       "      <td>16.161815</td>\n",
       "      <td>11</td>\n",
       "      <td>53</td>\n",
       "      <td>14</td>\n",
       "    </tr>\n",
       "  </tbody>\n",
       "</table>\n",
       "<p>500 rows × 15 columns</p>\n",
       "</div>"
      ],
      "text/plain": [
       "      order_id        date                time order_type branch_code  \\\n",
       "0    ORDJ06243  2021-11-02 1900-01-01 18:08:27     Dinner          TP   \n",
       "1    ORDA10907  2021-11-03 1900-01-01 18:08:27     Dinner          BK   \n",
       "2    ORDA06776  2021-08-14 1900-01-01 15:26:11      Lunch          BK   \n",
       "3    ORDY05744  2021-10-26 1900-01-01 17:48:10     Dinner          TP   \n",
       "4    ORDX00833  2021-05-05 1900-01-01 12:03:22      Lunch          BK   \n",
       "..         ...         ...                 ...        ...         ...   \n",
       "495  ORDX04741  2021-03-24 1900-01-01 10:42:15  Breakfast          BK   \n",
       "496  ORDJ05472  2021-10-03 1900-01-01 17:07:36     Dinner          TP   \n",
       "497  ORDK01012  2021-06-16 1900-01-01 13:24:30      Lunch          BK   \n",
       "498  ORDK04997  2021-03-16 1900-01-01 10:21:58  Breakfast          BK   \n",
       "499  ORDA02222  2021-04-27 1900-01-01 11:53:14  Breakfast          BK   \n",
       "\n",
       "                                           order_items  order_price  \\\n",
       "0    [('Salmon', 4), ('Pasta', 2), ('Fish&Chips', 1...       308.00   \n",
       "1                        [('Salmon', 5), ('Pasta', 5)]       342.50   \n",
       "2    [('Fries', 1), ('Salad', 7), ('Chicken', 2), (...       320.40   \n",
       "3        [('Salmon', 7), ('Pasta', 10), ('Shrimp', 5)]       832.00   \n",
       "4    [('Salad', 2), ('Steak', 10), ('Chicken', 2), ...       892.40   \n",
       "..                                                 ...          ...   \n",
       "495                    [('Coffee', 9), ('Pancake', 9)]       249.75   \n",
       "496   [('Pasta', 4), ('Fish&Chips', 7), ('Shrimp', 2)]       463.00   \n",
       "497  [('Burger', 5), ('Chicken', 5), ('Fries', 10),...       600.40   \n",
       "498  [('Eggs', 8), ('Coffee', 2), ('Cereal', 3), ('...       283.50   \n",
       "499     [('Pancake', 7), ('Coffee', 1), ('Cereal', 8)]       321.25   \n",
       "\n",
       "     customer_lat  customer_lon  customerHasloyalty?  distance_to_customer_KM  \\\n",
       "0      -37.806521    144.944874                    0                   10.082   \n",
       "1      -37.810712    144.946133                    0                    9.145   \n",
       "2      -37.819004    144.954318                    0                    8.676   \n",
       "3      -37.817244    144.967764                    0                   11.792   \n",
       "4      -37.809557    144.972643                    0                    6.714   \n",
       "..            ...           ...                  ...                      ...   \n",
       "495    -37.806837    144.951380                    0                    8.581   \n",
       "496    -37.807966    144.945429                    0                    9.956   \n",
       "497    -37.807797    144.973202                    0                    6.525   \n",
       "498    -37.799207    144.961314                    0                    8.333   \n",
       "499    -37.803561    144.918101                    0                   11.587   \n",
       "\n",
       "     delivery_fee  hour  minute  second  \n",
       "0       13.802598    18       8      27  \n",
       "1       16.150990    18       8      27  \n",
       "2       16.680944    15      26      11  \n",
       "3       11.549074    17      48      10  \n",
       "4       12.512411    12       3      22  \n",
       "..            ...   ...     ...     ...  \n",
       "495     13.103430    10      42      15  \n",
       "496     15.517818    17       7      36  \n",
       "497     11.838280    13      24      30  \n",
       "498     13.031216    10      21      58  \n",
       "499     16.161815    11      53      14  \n",
       "\n",
       "[500 rows x 15 columns]"
      ]
     },
     "execution_count": 314,
     "metadata": {},
     "output_type": "execute_result"
    }
   ],
   "source": [
    "dirty_data"
   ]
  },
  {
   "cell_type": "code",
   "execution_count": 315,
   "metadata": {},
   "outputs": [
    {
     "data": {
      "application/vnd.plotly.v1+json": {
       "config": {
        "plotlyServerURL": "https://plot.ly"
       },
       "data": [
        {
         "geo": "geo",
         "hovertemplate": "customer_lat=%{lat}<br>customer_lon=%{lon}<extra></extra>",
         "lat": [
          -37.8065207,
          -37.8107116,
          -37.8190036,
          -37.8172438,
          -37.8095573,
          -37.8062553,
          -37.8033438,
          -37.8128193,
          -37.8096126,
          -37.8077584,
          -37.8197601,
          -37.8069877,
          -37.8143184,
          -37.8041843,
          -37.8207113,
          37.805486,
          -37.8063995,
          -37.8079746,
          -37.8059974,
          -37.8224573,
          -37.8141362,
          -37.8234221,
          -37.8251086,
          -37.8199382,
          -37.8132913,
          -37.8065618,
          -37.8061847,
          -37.8212871,
          -37.8005511,
          -37.8023815,
          -37.7939847,
          -37.8169773,
          -37.8043534,
          -37.8123062,
          -37.817899,
          -37.8212237,
          -37.8194673,
          -37.8172239,
          -37.8203203,
          -37.8176003,
          -37.8118782,
          -37.8170456,
          -37.8020879,
          -37.8084971,
          -37.8067673,
          -37.8118289,
          -37.8028948,
          -37.8120161,
          -37.8194519,
          -37.801069,
          -37.8128849,
          -37.81144,
          -37.8165069,
          -37.8010831,
          -37.8175268,
          -37.8187658,
          -37.8178885,
          -37.8177257,
          -37.8182278,
          -37.8166314,
          -37.8007198,
          -37.8160747,
          -37.8019786,
          -37.8226595,
          -37.8186647,
          -37.8154856,
          -37.802826,
          -37.8075344,
          -37.816377,
          -37.7995101,
          -37.8121742,
          -37.8084452,
          -37.7995646,
          -37.8157298,
          -37.813093,
          -37.8018557,
          -37.825575,
          -37.8203127,
          -37.8025562,
          -37.8077636,
          -37.8151706,
          -37.8144187,
          -37.7995769,
          -37.8121117,
          -37.8190685,
          -37.8083022,
          -37.8212466,
          -37.8222313,
          -37.8191851,
          -37.8173557,
          -37.8187858,
          -37.8153198,
          -37.8233693,
          -37.8184922,
          -37.8084849,
          -37.8230592,
          -37.8072638,
          -37.8097476,
          -37.8155841,
          -37.8007248,
          -37.8008447,
          -37.823214,
          -37.8040734,
          -37.8121982,
          -37.811333,
          -37.8150344,
          -37.8204326,
          -37.8068427,
          -37.8231903,
          -37.8000063,
          -37.8112315,
          -37.8092767,
          -37.8150007,
          -37.817408,
          -37.8187211,
          -37.8243947,
          -37.8184922,
          -37.804963,
          -37.805154,
          -37.8015961,
          -37.8153517,
          -37.8215607,
          -37.81863,
          -37.8254649,
          -37.8133132,
          -37.7985085,
          -37.8251949,
          -37.8175697,
          -37.8029182,
          -37.812987,
          -37.8035614,
          -37.8000075,
          -37.8071098,
          -37.8190847,
          -37.8083827,
          -37.815967,
          -37.8177037,
          -37.8043195,
          -37.8223443,
          -37.8047473,
          -37.8190521,
          -37.8049012,
          -37.8121945,
          -37.8028178,
          -37.8261938,
          -37.8153148,
          -37.8042176,
          -37.8070898,
          -37.8160502,
          -37.8129325,
          -37.8134818,
          -37.8133627,
          144.9379825,
          -37.8012793,
          -37.8095512,
          -37.8208845,
          -37.8259216,
          -37.8096741,
          -37.8081377,
          -37.8156668,
          -37.8109478,
          -37.8173377,
          -37.8183685,
          -37.8112877,
          -37.8211811,
          -37.805726,
          -37.8041929,
          -37.8062509,
          -37.8140759,
          -37.822412,
          -37.7989908,
          -37.7990483,
          -37.806874,
          -37.8200114,
          -37.8008381,
          -37.8192852,
          144.9210748,
          -37.8032916,
          -37.806973,
          -37.8116537,
          -37.8253324,
          -37.8170679,
          -37.8041039,
          -37.8143062,
          -37.8040253,
          -37.8020454,
          -37.8210224,
          -37.8007651,
          -37.8134525,
          -37.8034467,
          -37.8037125,
          -37.8094689,
          -37.8236655,
          -37.8159365,
          -37.8006288,
          -37.8009647,
          -37.8076036,
          -37.8210097,
          -37.8193484,
          -37.7992426,
          -37.8195942,
          -37.8002993,
          -37.803592,
          -37.8099054,
          -37.8133795,
          -37.8076385,
          -37.815865,
          -37.8229383,
          -37.8058989,
          -37.8185141,
          -37.8233952,
          -37.8054056,
          37.8218441,
          -37.8147157,
          -37.8126384,
          -37.8083859,
          -37.8142756,
          -37.8032428,
          -37.8155701,
          -37.8056823,
          -37.8116481,
          -37.7997388,
          -37.8071908,
          -37.817823,
          -37.8023426,
          -37.8132932,
          -37.8237752,
          -37.8132486,
          -37.8122486,
          -37.8209796,
          -37.8226649,
          -37.7991013,
          -37.8057632,
          -37.8107465,
          -37.8179695,
          -37.8002284,
          -37.813381,
          -37.8043283,
          -37.8239685,
          -37.8161952,
          -37.8256656,
          -37.799296,
          -37.8083698,
          -37.8138488,
          -37.8071562,
          -37.8255049,
          -37.8078691,
          -37.8216043,
          -37.7991696,
          -37.825771,
          -37.8136622,
          -37.8064263,
          -37.8235408,
          -37.8188376,
          -37.8119708,
          -37.8044794,
          -37.8017178,
          -37.821308,
          -37.8022993,
          -37.8143541,
          -37.7934222,
          -37.8244894,
          -37.8220427,
          -37.8195117,
          -37.8050057,
          -37.8195302,
          -37.800371,
          -37.8009213,
          -37.8202067,
          -37.811914,
          -37.809629,
          -37.8006398,
          -37.8238502,
          -37.8212466,
          -37.8096605,
          -37.8100606,
          -37.8135389,
          -37.8131757,
          -37.8021513,
          -37.8012914,
          -37.8114627,
          -37.817417,
          -37.8244809,
          -37.8251576,
          -37.8066742,
          -37.8034028,
          -37.8205844,
          -37.802079,
          -37.805154,
          -37.8093784,
          -37.7998391,
          -37.8169324,
          -37.8087238,
          -37.8196452,
          -37.8120494,
          -37.8207253,
          -37.8195702,
          -37.8125749,
          -37.8021231,
          -37.8121636,
          -37.8154644,
          -37.8234406,
          -37.8138459,
          -37.7984572,
          -37.8252459,
          -37.8093251,
          -37.8186521,
          -37.8245586,
          -37.8187569,
          -37.8125248,
          -37.8234517,
          -37.8167464,
          -37.823121,
          -37.8024846,
          -37.8216889,
          -37.8049802,
          -37.7963053,
          -37.8193751,
          -37.8247368,
          -37.8040317,
          -37.8217234,
          -37.8254119,
          -37.8226049,
          -37.8169756,
          -37.8039516,
          -37.8129341,
          -37.8216354,
          -37.8036897,
          -37.8095304,
          -37.8209271,
          37.8249135,
          -37.8227277,
          -37.8040024,
          -37.8065073,
          -37.8231336,
          -37.814968,
          -37.8107895,
          -37.8132588,
          -37.8192068,
          -37.8080907,
          -37.8188818,
          -37.7997833,
          -37.8199086,
          -37.8186702,
          -37.8087997,
          -37.8148275,
          -37.8190255,
          -37.8191032,
          -37.833333,
          -37.8065468,
          -37.7976169,
          -37.808314,
          -37.8251753,
          -37.8241367,
          -37.808695,
          -37.8237544,
          -37.8235567,
          -37.8204768,
          -37.8089475,
          -37.8155823,
          -37.8225281,
          -37.8132436,
          -37.8135048,
          -37.8150467,
          -37.8074205,
          -37.803388,
          -37.7968922,
          -37.8230339,
          -37.8012518,
          -37.8021655,
          -37.8176529,
          -37.8236121,
          -37.8207154,
          -37.8176852,
          -37.8116287,
          -37.819322,
          37.8188115,
          -37.8122826,
          -37.8167278,
          -37.8232907,
          -37.8100014,
          -37.8078958,
          -37.8180802,
          -37.8190572,
          -37.8233453,
          -37.8113413,
          -37.8095143,
          -37.8031927,
          -37.818884,
          -37.8198625,
          -37.804508,
          -37.8099121,
          -37.8142263,
          -37.8110908,
          -37.8120981,
          -37.8062744,
          -37.807175,
          -37.8083954,
          -37.8004292,
          -37.82313,
          -37.80444,
          -37.8159777,
          -37.8026551,
          -37.8187161,
          -37.824062,
          -37.8067131,
          -37.8142714,
          -37.820832,
          -37.8010903,
          -37.8064517,
          -37.8119995,
          -37.8145045,
          144.9641774,
          -37.8007984,
          -37.807637,
          -37.8030396,
          -37.804187,
          -37.8054842,
          -37.8231533,
          -37.8054558,
          -37.8157863,
          -37.8146613,
          -37.802809,
          -37.8127963,
          -37.8120238,
          -37.8029941,
          145.0000316,
          -37.8097512,
          -37.8259985,
          -37.8205595,
          -37.8237995,
          -37.8098883,
          -37.8023768,
          -37.8207274,
          -37.814805,
          -37.8083859,
          -37.8149995,
          -37.8070456,
          -37.8095988,
          -37.8143648,
          -37.8130824,
          -37.8036287,
          -37.8113593,
          -37.8116972,
          -37.8061582,
          -37.8218255,
          -37.8036744,
          -37.8246794,
          -37.8200096,
          -37.8244037,
          -37.8107504,
          -37.8119519,
          -37.8241224,
          -37.8064176,
          -37.8149457,
          -37.818853,
          -37.8188112,
          -37.8051471,
          -37.8024638,
          -37.8097211,
          -37.8187871,
          -37.8219372,
          -37.8251688,
          -37.8086463,
          -37.8084683,
          -37.8141757,
          -37.8025734,
          -37.8239236,
          -37.8246605,
          -37.8130453,
          -37.8039087,
          -37.8194959,
          -37.8083294,
          -37.812895,
          144.9523019,
          -37.8178755,
          -37.8222465,
          -37.8186363,
          -37.8035155,
          -37.8121555,
          -37.8233952,
          -37.8199451,
          -37.809828,
          -37.8081991,
          -37.8041882,
          -37.8264748,
          -37.8142998,
          -37.812419,
          -37.8248053,
          -37.8242964,
          -37.8065665,
          -37.8066244,
          -37.8200469,
          -37.8063406,
          -37.8043201,
          -37.8068369,
          -37.8079662,
          -37.8077968,
          -37.7992068,
          -37.8035614
         ],
         "legendgroup": "",
         "lon": [
          144.944874,
          144.9461332,
          144.9543182,
          144.9677642,
          144.972643,
          144.9582936,
          144.971893,
          144.9608495,
          144.9756618,
          144.9436271,
          144.9760725,
          144.9452387,
          144.9493829,
          144.9585476,
          145.0049497,
          144.9522769,
          144.9324447,
          144.9567841,
          144.9295055,
          144.9478483,
          144.9519654,
          144.9571591,
          144.9918508,
          144.961391,
          144.9653492,
          144.9379647,
          144.9865626,
          144.962609,
          144.9685959,
          144.9914616,
          144.9469908,
          144.9768829,
          144.9492338,
          144.9375217,
          144.9502679,
          144.9664677,
          144.9840891,
          144.9340654,
          144.9808828,
          145.0107683,
          144.9389808,
          144.9532158,
          145.00374,
          144.9580406,
          144.9733776,
          144.9459819,
          144.9486112,
          144.9703916,
          144.9530394,
          144.9638735,
          144.9902645,
          144.9374027,
          144.9459417,
          144.9697994,
          144.9685529,
          144.9535246,
          145.0086407,
          144.9518751,
          144.9669542,
          145.0073694,
          144.9623465,
          144.9338083,
          145.0033973,
          144.9555173,
          145.0003489,
          144.935486,
          144.9479941,
          144.9714275,
          145.0088781,
          144.9631204,
          144.9381852,
          144.9761847,
          144.9624872,
          144.9380366,
          144.9514986,
          144.9544312,
          144.9828168,
          144.9655996,
          144.9543122,
          144.9425253,
          144.9845826,
          144.9353546,
          144.9630379,
          144.9382965,
          144.9528387,
          145.0002078,
          145.0150229,
          144.9758609,
          144.9610198,
          144.9675515,
          145.0038714,
          144.9365331,
          144.9700652,
          144.948613,
          144.9993917,
          144.9764141,
          144.9970284,
          144.9931516,
          144.9452766,
          144.9511147,
          145.0031671,
          144.9651841,
          144.9677909,
          145.0003299,
          144.9575123,
          144.9641152,
          145.0097601,
          144.9569939,
          144.9378251,
          144.962762,
          144.967304,
          144.9607237,
          144.952358,
          144.9458239,
          144.9771057,
          144.9553922,
          144.948613,
          144.9787203,
          144.9556375,
          144.9779199,
          144.9911839,
          144.9551428,
          145.0160648,
          144.957204,
          144.9737721,
          144.9800857,
          144.9926087,
          145.0052208,
          144.9281234,
          144.9649265,
          144.9181009,
          144.9371309,
          144.9659965,
          144.963387,
          144.955006,
          144.9636436,
          144.9731096,
          144.9780489,
          144.998488,
          144.9452156,
          144.9525961,
          144.9517174,
          144.9705205,
          144.992404,
          145.0177163,
          144.9634949,
          144.9682766,
          144.9599543,
          144.9723151,
          144.9612107,
          144.9501435,
          144.9416517,
          -37.8068155,
          144.9673138,
          144.9725868,
          144.9548011,
          144.9342038,
          144.9365179,
          144.9762166,
          144.9655559,
          144.9631839,
          144.9602763,
          145.0146615,
          144.9608894,
          144.955306,
          144.9772199,
          144.967362,
          144.9598532,
          144.9396602,
          144.9676185,
          144.9542247,
          144.9324169,
          144.9782069,
          144.9613579,
          144.9724456,
          145.0018656,
          -37.8081852,
          144.9630242,
          145.0055785,
          144.956473,
          144.957069,
          144.96366,
          144.9738665,
          144.9633537,
          144.9528506,
          144.9667811,
          144.9830283,
          144.9585548,
          144.9357542,
          144.9672454,
          144.963473,
          144.9726522,
          144.9821403,
          144.9637489,
          144.9683813,
          144.9566486,
          144.9888635,
          144.9549332,
          144.9614874,
          144.9625463,
          144.9901822,
          144.9438816,
          144.9498747,
          144.9705513,
          144.9647797,
          144.9620212,
          144.9731491,
          144.9810236,
          144.9559991,
          144.9758658,
          145.0122796,
          144.9967164,
          145.0153367,
          144.9400839,
          144.9647772,
          144.9477409,
          144.9631661,
          144.9491271,
          144.9740446,
          144.95375,
          144.9270181,
          144.9611291,
          144.9578618,
          144.9462511,
          144.9436552,
          144.9720099,
          144.9906491,
          144.9371562,
          144.9884905,
          144.9660643,
          144.9828659,
          144.9334861,
          144.9560944,
          144.9673176,
          144.9485795,
          144.9848519,
          144.9738693,
          144.9498942,
          144.9827317,
          144.9287407,
          144.9800894,
          144.9354505,
          144.9450047,
          144.9836191,
          144.9593887,
          144.9289157,
          144.9419796,
          144.9792165,
          144.9712828,
          144.9828691,
          144.9742548,
          144.9556723,
          144.9714298,
          144.9533842,
          145.0152746,
          144.9732073,
          144.9982593,
          144.9542643,
          145.0113069,
          144.9880983,
          144.9471765,
          144.9460969,
          144.9945849,
          144.9526804,
          144.9493563,
          144.9637571,
          144.9638781,
          144.9624712,
          144.9815597,
          144.945762,
          144.9555264,
          144.9576203,
          144.9836936,
          145.0150229,
          144.9923455,
          144.9960027,
          144.9403554,
          144.9739629,
          144.9661984,
          144.9791324,
          144.9729188,
          144.9675646,
          144.9594236,
          144.9497179,
          144.9473078,
          144.9500796,
          144.9484461,
          144.9594714,
          144.9556375,
          144.9729283,
          144.9265225,
          145.0029929,
          144.9555805,
          144.9843211,
          144.970453,
          144.9658515,
          144.9692636,
          144.9511367,
          144.9698599,
          144.9532908,
          144.9402939,
          144.9783548,
          144.9485005,
          144.9796105,
          144.9806127,
          144.9609251,
          144.9681756,
          144.9848092,
          144.9532343,
          144.9534562,
          144.9808864,
          145.0092391,
          144.9763575,
          144.9555644,
          144.9551232,
          144.9482313,
          144.9400168,
          145.0082644,
          144.9691292,
          144.9695353,
          144.972568,
          144.9846648,
          145.0093728,
          144.9665798,
          144.9498422,
          144.9483348,
          144.9551762,
          144.9549765,
          144.9862756,
          144.9475738,
          144.9590174,
          144.9675125,
          144.968017,
          144.9579553,
          144.9703906,
          144.9607785,
          145.0143841,
          144.9626345,
          144.9636187,
          144.9366292,
          144.9531234,
          145.0097787,
          144.9507783,
          144.9664974,
          144.9660998,
          144.9417106,
          144.982186,
          144.9652444,
          144.9914651,
          144.9742115,
          144.9528668,
          144.9761309,
          144.9569422,
          144.9848488,
          144.9480783,
          144.9405293,
          144.9690441,
          144.9771165,
          144.9487102,
          144.9867456,
          144.9503197,
          145.0153617,
          144.9656151,
          144.9601595,
          144.9292428,
          145.0075238,
          145.0095675,
          144.9763884,
          144.9684763,
          144.9289411,
          144.9694112,
          144.9878986,
          144.9792826,
          145.0071353,
          145.0115724,
          144.9629578,
          144.9625514,
          144.9384914,
          145.0089773,
          144.9699533,
          144.9480526,
          144.9768239,
          144.9703929,
          145.0038094,
          144.993547,
          144.9475256,
          144.9638631,
          144.9472978,
          144.9637335,
          144.9530283,
          144.9557728,
          144.9585577,
          144.9630802,
          144.9524931,
          144.9738677,
          144.946887,
          144.9442171,
          144.9549645,
          144.9509388,
          144.9884985,
          144.9431654,
          144.9383006,
          144.9651658,
          144.9840086,
          144.9848639,
          144.9688406,
          144.9591922,
          144.9562063,
          144.99511,
          144.9595625,
          144.9706252,
          144.9919676,
          -37.8161425,
          145.0054278,
          144.9426125,
          144.9631878,
          144.971475,
          144.9735747,
          144.9623636,
          144.9522831,
          144.9582671,
          144.9854064,
          145.004725,
          144.9680145,
          144.9523039,
          144.9579155,
          -37.7999068,
          144.9728269,
          144.9648827,
          144.9839187,
          144.9835104,
          144.9477015,
          144.9794998,
          144.9485635,
          144.9710671,
          144.9477409,
          144.9360903,
          144.9625997,
          144.9755558,
          144.9664884,
          144.9927179,
          144.9921513,
          144.9474612,
          144.9835727,
          144.9516719,
          144.9749359,
          144.9493033,
          144.9923015,
          144.9614025,
          145.0129522,
          144.9458992,
          144.9706032,
          144.9362807,
          144.9324749,
          144.9647656,
          145.0026032,
          144.9533734,
          144.9600534,
          144.9805938,
          144.972937,
          144.9534134,
          144.9520932,
          144.9567901,
          145.0009754,
          144.980231,
          144.9854437,
          144.9722269,
          144.990595,
          144.9694812,
          144.9856635,
          144.9668829,
          144.9848817,
          144.9555699,
          144.9739274,
          -37.7983586,
          144.9563202,
          144.9366965,
          144.9827666,
          144.9498144,
          144.966445,
          145.0122796,
          144.9686021,
          144.9764612,
          144.9686278,
          144.94482,
          144.9516952,
          144.9779444,
          144.9538206,
          144.9470552,
          144.9843242,
          144.9593329,
          144.9416945,
          144.9547662,
          144.9453799,
          144.9421534,
          144.9513796,
          144.9454287,
          144.9732022,
          144.9613139,
          144.9181009
         ],
         "marker": {
          "color": "#636efa",
          "symbol": "circle"
         },
         "mode": "markers",
         "name": "",
         "showlegend": false,
         "type": "scattergeo"
        }
       ],
       "layout": {
        "autosize": true,
        "geo": {
         "center": {},
         "domain": {
          "x": [
           0,
           1
          ],
          "y": [
           0,
           1
          ]
         }
        },
        "legend": {
         "tracegroupgap": 0
        },
        "margin": {
         "t": 60
        },
        "template": {
         "data": {
          "bar": [
           {
            "error_x": {
             "color": "#2a3f5f"
            },
            "error_y": {
             "color": "#2a3f5f"
            },
            "marker": {
             "line": {
              "color": "#E5ECF6",
              "width": 0.5
             },
             "pattern": {
              "fillmode": "overlay",
              "size": 10,
              "solidity": 0.2
             }
            },
            "type": "bar"
           }
          ],
          "barpolar": [
           {
            "marker": {
             "line": {
              "color": "#E5ECF6",
              "width": 0.5
             },
             "pattern": {
              "fillmode": "overlay",
              "size": 10,
              "solidity": 0.2
             }
            },
            "type": "barpolar"
           }
          ],
          "carpet": [
           {
            "aaxis": {
             "endlinecolor": "#2a3f5f",
             "gridcolor": "white",
             "linecolor": "white",
             "minorgridcolor": "white",
             "startlinecolor": "#2a3f5f"
            },
            "baxis": {
             "endlinecolor": "#2a3f5f",
             "gridcolor": "white",
             "linecolor": "white",
             "minorgridcolor": "white",
             "startlinecolor": "#2a3f5f"
            },
            "type": "carpet"
           }
          ],
          "choropleth": [
           {
            "colorbar": {
             "outlinewidth": 0,
             "ticks": ""
            },
            "type": "choropleth"
           }
          ],
          "contour": [
           {
            "colorbar": {
             "outlinewidth": 0,
             "ticks": ""
            },
            "colorscale": [
             [
              0,
              "#0d0887"
             ],
             [
              0.1111111111111111,
              "#46039f"
             ],
             [
              0.2222222222222222,
              "#7201a8"
             ],
             [
              0.3333333333333333,
              "#9c179e"
             ],
             [
              0.4444444444444444,
              "#bd3786"
             ],
             [
              0.5555555555555556,
              "#d8576b"
             ],
             [
              0.6666666666666666,
              "#ed7953"
             ],
             [
              0.7777777777777778,
              "#fb9f3a"
             ],
             [
              0.8888888888888888,
              "#fdca26"
             ],
             [
              1,
              "#f0f921"
             ]
            ],
            "type": "contour"
           }
          ],
          "contourcarpet": [
           {
            "colorbar": {
             "outlinewidth": 0,
             "ticks": ""
            },
            "type": "contourcarpet"
           }
          ],
          "heatmap": [
           {
            "colorbar": {
             "outlinewidth": 0,
             "ticks": ""
            },
            "colorscale": [
             [
              0,
              "#0d0887"
             ],
             [
              0.1111111111111111,
              "#46039f"
             ],
             [
              0.2222222222222222,
              "#7201a8"
             ],
             [
              0.3333333333333333,
              "#9c179e"
             ],
             [
              0.4444444444444444,
              "#bd3786"
             ],
             [
              0.5555555555555556,
              "#d8576b"
             ],
             [
              0.6666666666666666,
              "#ed7953"
             ],
             [
              0.7777777777777778,
              "#fb9f3a"
             ],
             [
              0.8888888888888888,
              "#fdca26"
             ],
             [
              1,
              "#f0f921"
             ]
            ],
            "type": "heatmap"
           }
          ],
          "heatmapgl": [
           {
            "colorbar": {
             "outlinewidth": 0,
             "ticks": ""
            },
            "colorscale": [
             [
              0,
              "#0d0887"
             ],
             [
              0.1111111111111111,
              "#46039f"
             ],
             [
              0.2222222222222222,
              "#7201a8"
             ],
             [
              0.3333333333333333,
              "#9c179e"
             ],
             [
              0.4444444444444444,
              "#bd3786"
             ],
             [
              0.5555555555555556,
              "#d8576b"
             ],
             [
              0.6666666666666666,
              "#ed7953"
             ],
             [
              0.7777777777777778,
              "#fb9f3a"
             ],
             [
              0.8888888888888888,
              "#fdca26"
             ],
             [
              1,
              "#f0f921"
             ]
            ],
            "type": "heatmapgl"
           }
          ],
          "histogram": [
           {
            "marker": {
             "pattern": {
              "fillmode": "overlay",
              "size": 10,
              "solidity": 0.2
             }
            },
            "type": "histogram"
           }
          ],
          "histogram2d": [
           {
            "colorbar": {
             "outlinewidth": 0,
             "ticks": ""
            },
            "colorscale": [
             [
              0,
              "#0d0887"
             ],
             [
              0.1111111111111111,
              "#46039f"
             ],
             [
              0.2222222222222222,
              "#7201a8"
             ],
             [
              0.3333333333333333,
              "#9c179e"
             ],
             [
              0.4444444444444444,
              "#bd3786"
             ],
             [
              0.5555555555555556,
              "#d8576b"
             ],
             [
              0.6666666666666666,
              "#ed7953"
             ],
             [
              0.7777777777777778,
              "#fb9f3a"
             ],
             [
              0.8888888888888888,
              "#fdca26"
             ],
             [
              1,
              "#f0f921"
             ]
            ],
            "type": "histogram2d"
           }
          ],
          "histogram2dcontour": [
           {
            "colorbar": {
             "outlinewidth": 0,
             "ticks": ""
            },
            "colorscale": [
             [
              0,
              "#0d0887"
             ],
             [
              0.1111111111111111,
              "#46039f"
             ],
             [
              0.2222222222222222,
              "#7201a8"
             ],
             [
              0.3333333333333333,
              "#9c179e"
             ],
             [
              0.4444444444444444,
              "#bd3786"
             ],
             [
              0.5555555555555556,
              "#d8576b"
             ],
             [
              0.6666666666666666,
              "#ed7953"
             ],
             [
              0.7777777777777778,
              "#fb9f3a"
             ],
             [
              0.8888888888888888,
              "#fdca26"
             ],
             [
              1,
              "#f0f921"
             ]
            ],
            "type": "histogram2dcontour"
           }
          ],
          "mesh3d": [
           {
            "colorbar": {
             "outlinewidth": 0,
             "ticks": ""
            },
            "type": "mesh3d"
           }
          ],
          "parcoords": [
           {
            "line": {
             "colorbar": {
              "outlinewidth": 0,
              "ticks": ""
             }
            },
            "type": "parcoords"
           }
          ],
          "pie": [
           {
            "automargin": true,
            "type": "pie"
           }
          ],
          "scatter": [
           {
            "marker": {
             "colorbar": {
              "outlinewidth": 0,
              "ticks": ""
             }
            },
            "type": "scatter"
           }
          ],
          "scatter3d": [
           {
            "line": {
             "colorbar": {
              "outlinewidth": 0,
              "ticks": ""
             }
            },
            "marker": {
             "colorbar": {
              "outlinewidth": 0,
              "ticks": ""
             }
            },
            "type": "scatter3d"
           }
          ],
          "scattercarpet": [
           {
            "marker": {
             "colorbar": {
              "outlinewidth": 0,
              "ticks": ""
             }
            },
            "type": "scattercarpet"
           }
          ],
          "scattergeo": [
           {
            "marker": {
             "colorbar": {
              "outlinewidth": 0,
              "ticks": ""
             }
            },
            "type": "scattergeo"
           }
          ],
          "scattergl": [
           {
            "marker": {
             "colorbar": {
              "outlinewidth": 0,
              "ticks": ""
             }
            },
            "type": "scattergl"
           }
          ],
          "scattermapbox": [
           {
            "marker": {
             "colorbar": {
              "outlinewidth": 0,
              "ticks": ""
             }
            },
            "type": "scattermapbox"
           }
          ],
          "scatterpolar": [
           {
            "marker": {
             "colorbar": {
              "outlinewidth": 0,
              "ticks": ""
             }
            },
            "type": "scatterpolar"
           }
          ],
          "scatterpolargl": [
           {
            "marker": {
             "colorbar": {
              "outlinewidth": 0,
              "ticks": ""
             }
            },
            "type": "scatterpolargl"
           }
          ],
          "scatterternary": [
           {
            "marker": {
             "colorbar": {
              "outlinewidth": 0,
              "ticks": ""
             }
            },
            "type": "scatterternary"
           }
          ],
          "surface": [
           {
            "colorbar": {
             "outlinewidth": 0,
             "ticks": ""
            },
            "colorscale": [
             [
              0,
              "#0d0887"
             ],
             [
              0.1111111111111111,
              "#46039f"
             ],
             [
              0.2222222222222222,
              "#7201a8"
             ],
             [
              0.3333333333333333,
              "#9c179e"
             ],
             [
              0.4444444444444444,
              "#bd3786"
             ],
             [
              0.5555555555555556,
              "#d8576b"
             ],
             [
              0.6666666666666666,
              "#ed7953"
             ],
             [
              0.7777777777777778,
              "#fb9f3a"
             ],
             [
              0.8888888888888888,
              "#fdca26"
             ],
             [
              1,
              "#f0f921"
             ]
            ],
            "type": "surface"
           }
          ],
          "table": [
           {
            "cells": {
             "fill": {
              "color": "#EBF0F8"
             },
             "line": {
              "color": "white"
             }
            },
            "header": {
             "fill": {
              "color": "#C8D4E3"
             },
             "line": {
              "color": "white"
             }
            },
            "type": "table"
           }
          ]
         },
         "layout": {
          "annotationdefaults": {
           "arrowcolor": "#2a3f5f",
           "arrowhead": 0,
           "arrowwidth": 1
          },
          "autotypenumbers": "strict",
          "coloraxis": {
           "colorbar": {
            "outlinewidth": 0,
            "ticks": ""
           }
          },
          "colorscale": {
           "diverging": [
            [
             0,
             "#8e0152"
            ],
            [
             0.1,
             "#c51b7d"
            ],
            [
             0.2,
             "#de77ae"
            ],
            [
             0.3,
             "#f1b6da"
            ],
            [
             0.4,
             "#fde0ef"
            ],
            [
             0.5,
             "#f7f7f7"
            ],
            [
             0.6,
             "#e6f5d0"
            ],
            [
             0.7,
             "#b8e186"
            ],
            [
             0.8,
             "#7fbc41"
            ],
            [
             0.9,
             "#4d9221"
            ],
            [
             1,
             "#276419"
            ]
           ],
           "sequential": [
            [
             0,
             "#0d0887"
            ],
            [
             0.1111111111111111,
             "#46039f"
            ],
            [
             0.2222222222222222,
             "#7201a8"
            ],
            [
             0.3333333333333333,
             "#9c179e"
            ],
            [
             0.4444444444444444,
             "#bd3786"
            ],
            [
             0.5555555555555556,
             "#d8576b"
            ],
            [
             0.6666666666666666,
             "#ed7953"
            ],
            [
             0.7777777777777778,
             "#fb9f3a"
            ],
            [
             0.8888888888888888,
             "#fdca26"
            ],
            [
             1,
             "#f0f921"
            ]
           ],
           "sequentialminus": [
            [
             0,
             "#0d0887"
            ],
            [
             0.1111111111111111,
             "#46039f"
            ],
            [
             0.2222222222222222,
             "#7201a8"
            ],
            [
             0.3333333333333333,
             "#9c179e"
            ],
            [
             0.4444444444444444,
             "#bd3786"
            ],
            [
             0.5555555555555556,
             "#d8576b"
            ],
            [
             0.6666666666666666,
             "#ed7953"
            ],
            [
             0.7777777777777778,
             "#fb9f3a"
            ],
            [
             0.8888888888888888,
             "#fdca26"
            ],
            [
             1,
             "#f0f921"
            ]
           ]
          },
          "colorway": [
           "#636efa",
           "#EF553B",
           "#00cc96",
           "#ab63fa",
           "#FFA15A",
           "#19d3f3",
           "#FF6692",
           "#B6E880",
           "#FF97FF",
           "#FECB52"
          ],
          "font": {
           "color": "#2a3f5f"
          },
          "geo": {
           "bgcolor": "white",
           "lakecolor": "white",
           "landcolor": "#E5ECF6",
           "showlakes": true,
           "showland": true,
           "subunitcolor": "white"
          },
          "hoverlabel": {
           "align": "left"
          },
          "hovermode": "closest",
          "mapbox": {
           "style": "light"
          },
          "paper_bgcolor": "white",
          "plot_bgcolor": "#E5ECF6",
          "polar": {
           "angularaxis": {
            "gridcolor": "white",
            "linecolor": "white",
            "ticks": ""
           },
           "bgcolor": "#E5ECF6",
           "radialaxis": {
            "gridcolor": "white",
            "linecolor": "white",
            "ticks": ""
           }
          },
          "scene": {
           "xaxis": {
            "backgroundcolor": "#E5ECF6",
            "gridcolor": "white",
            "gridwidth": 2,
            "linecolor": "white",
            "showbackground": true,
            "ticks": "",
            "zerolinecolor": "white"
           },
           "yaxis": {
            "backgroundcolor": "#E5ECF6",
            "gridcolor": "white",
            "gridwidth": 2,
            "linecolor": "white",
            "showbackground": true,
            "ticks": "",
            "zerolinecolor": "white"
           },
           "zaxis": {
            "backgroundcolor": "#E5ECF6",
            "gridcolor": "white",
            "gridwidth": 2,
            "linecolor": "white",
            "showbackground": true,
            "ticks": "",
            "zerolinecolor": "white"
           }
          },
          "shapedefaults": {
           "line": {
            "color": "#2a3f5f"
           }
          },
          "ternary": {
           "aaxis": {
            "gridcolor": "white",
            "linecolor": "white",
            "ticks": ""
           },
           "baxis": {
            "gridcolor": "white",
            "linecolor": "white",
            "ticks": ""
           },
           "bgcolor": "#E5ECF6",
           "caxis": {
            "gridcolor": "white",
            "linecolor": "white",
            "ticks": ""
           }
          },
          "title": {
           "x": 0.05
          },
          "xaxis": {
           "automargin": true,
           "gridcolor": "white",
           "linecolor": "white",
           "ticks": "",
           "title": {
            "standoff": 15
           },
           "zerolinecolor": "white",
           "zerolinewidth": 2
          },
          "yaxis": {
           "automargin": true,
           "gridcolor": "white",
           "linecolor": "white",
           "ticks": "",
           "title": {
            "standoff": 15
           },
           "zerolinecolor": "white",
           "zerolinewidth": 2
          }
         }
        }
       }
      },
      "image/png": "[encoded data removed]",
      "text/html": [
       "<div>                            <div id=\"074bc88f-9cad-4414-889e-e78558e91970\" class=\"plotly-graph-div\" style=\"height:525px; width:100%;\"></div>            <script type=\"text/javascript\">                require([\"plotly\"], function(Plotly) {                    window.PLOTLYENV=window.PLOTLYENV || {};                                    if (document.getElementById(\"074bc88f-9cad-4414-889e-e78558e91970\")) {                    Plotly.newPlot(                        \"074bc88f-9cad-4414-889e-e78558e91970\",                        [{\"geo\":\"geo\",\"hovertemplate\":\"customer_lat=%{lat}<br>customer_lon=%{lon}<extra></extra>\",\"lat\":[-37.8065207,-37.8107116,-37.8190036,-37.8172438,-37.8095573,-37.8062553,-37.8033438,-37.8128193,-37.8096126,-37.8077584,-37.8197601,-37.8069877,-37.8143184,-37.8041843,-37.8207113,37.805486,-37.8063995,-37.8079746,-37.8059974,-37.8224573,-37.8141362,-37.8234221,-37.8251086,-37.8199382,-37.8132913,-37.8065618,-37.8061847,-37.8212871,-37.8005511,-37.8023815,-37.7939847,-37.8169773,-37.8043534,-37.8123062,-37.817899,-37.8212237,-37.8194673,-37.8172239,-37.8203203,-37.8176003,-37.8118782,-37.8170456,-37.8020879,-37.8084971,-37.8067673,-37.8118289,-37.8028948,-37.8120161,-37.8194519,-37.801069,-37.8128849,-37.81144,-37.8165069,-37.8010831,-37.8175268,-37.8187658,-37.8178885,-37.8177257,-37.8182278,-37.8166314,-37.8007198,-37.8160747,-37.8019786,-37.8226595,-37.8186647,-37.8154856,-37.802826,-37.8075344,-37.816377,-37.7995101,-37.8121742,-37.8084452,-37.7995646,-37.8157298,-37.813093,-37.8018557,-37.825575,-37.8203127,-37.8025562,-37.8077636,-37.8151706,-37.8144187,-37.7995769,-37.8121117,-37.8190685,-37.8083022,-37.8212466,-37.8222313,-37.8191851,-37.8173557,-37.8187858,-37.8153198,-37.8233693,-37.8184922,-37.8084849,-37.8230592,-37.8072638,-37.8097476,-37.8155841,-37.8007248,-37.8008447,-37.823214,-37.8040734,-37.8121982,-37.811333,-37.8150344,-37.8204326,-37.8068427,-37.8231903,-37.8000063,-37.8112315,-37.8092767,-37.8150007,-37.817408,-37.8187211,-37.8243947,-37.8184922,-37.804963,-37.805154,-37.8015961,-37.8153517,-37.8215607,-37.81863,-37.8254649,-37.8133132,-37.7985085,-37.8251949,-37.8175697,-37.8029182,-37.812987,-37.8035614,-37.8000075,-37.8071098,-37.8190847,-37.8083827,-37.815967,-37.8177037,-37.8043195,-37.8223443,-37.8047473,-37.8190521,-37.8049012,-37.8121945,-37.8028178,-37.8261938,-37.8153148,-37.8042176,-37.8070898,-37.8160502,-37.8129325,-37.8134818,-37.8133627,144.9379825,-37.8012793,-37.8095512,-37.8208845,-37.8259216,-37.8096741,-37.8081377,-37.8156668,-37.8109478,-37.8173377,-37.8183685,-37.8112877,-37.8211811,-37.805726,-37.8041929,-37.8062509,-37.8140759,-37.822412,-37.7989908,-37.7990483,-37.806874,-37.8200114,-37.8008381,-37.8192852,144.9210748,-37.8032916,-37.806973,-37.8116537,-37.8253324,-37.8170679,-37.8041039,-37.8143062,-37.8040253,-37.8020454,-37.8210224,-37.8007651,-37.8134525,-37.8034467,-37.8037125,-37.8094689,-37.8236655,-37.8159365,-37.8006288,-37.8009647,-37.8076036,-37.8210097,-37.8193484,-37.7992426,-37.8195942,-37.8002993,-37.803592,-37.8099054,-37.8133795,-37.8076385,-37.815865,-37.8229383,-37.8058989,-37.8185141,-37.8233952,-37.8054056,37.8218441,-37.8147157,-37.8126384,-37.8083859,-37.8142756,-37.8032428,-37.8155701,-37.8056823,-37.8116481,-37.7997388,-37.8071908,-37.817823,-37.8023426,-37.8132932,-37.8237752,-37.8132486,-37.8122486,-37.8209796,-37.8226649,-37.7991013,-37.8057632,-37.8107465,-37.8179695,-37.8002284,-37.813381,-37.8043283,-37.8239685,-37.8161952,-37.8256656,-37.799296,-37.8083698,-37.8138488,-37.8071562,-37.8255049,-37.8078691,-37.8216043,-37.7991696,-37.825771,-37.8136622,-37.8064263,-37.8235408,-37.8188376,-37.8119708,-37.8044794,-37.8017178,-37.821308,-37.8022993,-37.8143541,-37.7934222,-37.8244894,-37.8220427,-37.8195117,-37.8050057,-37.8195302,-37.800371,-37.8009213,-37.8202067,-37.811914,-37.809629,-37.8006398,-37.8238502,-37.8212466,-37.8096605,-37.8100606,-37.8135389,-37.8131757,-37.8021513,-37.8012914,-37.8114627,-37.817417,-37.8244809,-37.8251576,-37.8066742,-37.8034028,-37.8205844,-37.802079,-37.805154,-37.8093784,-37.7998391,-37.8169324,-37.8087238,-37.8196452,-37.8120494,-37.8207253,-37.8195702,-37.8125749,-37.8021231,-37.8121636,-37.8154644,-37.8234406,-37.8138459,-37.7984572,-37.8252459,-37.8093251,-37.8186521,-37.8245586,-37.8187569,-37.8125248,-37.8234517,-37.8167464,-37.823121,-37.8024846,-37.8216889,-37.8049802,-37.7963053,-37.8193751,-37.8247368,-37.8040317,-37.8217234,-37.8254119,-37.8226049,-37.8169756,-37.8039516,-37.8129341,-37.8216354,-37.8036897,-37.8095304,-37.8209271,37.8249135,-37.8227277,-37.8040024,-37.8065073,-37.8231336,-37.814968,-37.8107895,-37.8132588,-37.8192068,-37.8080907,-37.8188818,-37.7997833,-37.8199086,-37.8186702,-37.8087997,-37.8148275,-37.8190255,-37.8191032,-37.833333,-37.8065468,-37.7976169,-37.808314,-37.8251753,-37.8241367,-37.808695,-37.8237544,-37.8235567,-37.8204768,-37.8089475,-37.8155823,-37.8225281,-37.8132436,-37.8135048,-37.8150467,-37.8074205,-37.803388,-37.7968922,-37.8230339,-37.8012518,-37.8021655,-37.8176529,-37.8236121,-37.8207154,-37.8176852,-37.8116287,-37.819322,37.8188115,-37.8122826,-37.8167278,-37.8232907,-37.8100014,-37.8078958,-37.8180802,-37.8190572,-37.8233453,-37.8113413,-37.8095143,-37.8031927,-37.818884,-37.8198625,-37.804508,-37.8099121,-37.8142263,-37.8110908,-37.8120981,-37.8062744,-37.807175,-37.8083954,-37.8004292,-37.82313,-37.80444,-37.8159777,-37.8026551,-37.8187161,-37.824062,-37.8067131,-37.8142714,-37.820832,-37.8010903,-37.8064517,-37.8119995,-37.8145045,144.9641774,-37.8007984,-37.807637,-37.8030396,-37.804187,-37.8054842,-37.8231533,-37.8054558,-37.8157863,-37.8146613,-37.802809,-37.8127963,-37.8120238,-37.8029941,145.0000316,-37.8097512,-37.8259985,-37.8205595,-37.8237995,-37.8098883,-37.8023768,-37.8207274,-37.814805,-37.8083859,-37.8149995,-37.8070456,-37.8095988,-37.8143648,-37.8130824,-37.8036287,-37.8113593,-37.8116972,-37.8061582,-37.8218255,-37.8036744,-37.8246794,-37.8200096,-37.8244037,-37.8107504,-37.8119519,-37.8241224,-37.8064176,-37.8149457,-37.818853,-37.8188112,-37.8051471,-37.8024638,-37.8097211,-37.8187871,-37.8219372,-37.8251688,-37.8086463,-37.8084683,-37.8141757,-37.8025734,-37.8239236,-37.8246605,-37.8130453,-37.8039087,-37.8194959,-37.8083294,-37.812895,144.9523019,-37.8178755,-37.8222465,-37.8186363,-37.8035155,-37.8121555,-37.8233952,-37.8199451,-37.809828,-37.8081991,-37.8041882,-37.8264748,-37.8142998,-37.812419,-37.8248053,-37.8242964,-37.8065665,-37.8066244,-37.8200469,-37.8063406,-37.8043201,-37.8068369,-37.8079662,-37.8077968,-37.7992068,-37.8035614],\"legendgroup\":\"\",\"lon\":[144.944874,144.9461332,144.9543182,144.9677642,144.972643,144.9582936,144.971893,144.9608495,144.9756618,144.9436271,144.9760725,144.9452387,144.9493829,144.9585476,145.0049497,144.9522769,144.9324447,144.9567841,144.9295055,144.9478483,144.9519654,144.9571591,144.9918508,144.961391,144.9653492,144.9379647,144.9865626,144.962609,144.9685959,144.9914616,144.9469908,144.9768829,144.9492338,144.9375217,144.9502679,144.9664677,144.9840891,144.9340654,144.9808828,145.0107683,144.9389808,144.9532158,145.00374,144.9580406,144.9733776,144.9459819,144.9486112,144.9703916,144.9530394,144.9638735,144.9902645,144.9374027,144.9459417,144.9697994,144.9685529,144.9535246,145.0086407,144.9518751,144.9669542,145.0073694,144.9623465,144.9338083,145.0033973,144.9555173,145.0003489,144.935486,144.9479941,144.9714275,145.0088781,144.9631204,144.9381852,144.9761847,144.9624872,144.9380366,144.9514986,144.9544312,144.9828168,144.9655996,144.9543122,144.9425253,144.9845826,144.9353546,144.9630379,144.9382965,144.9528387,145.0002078,145.0150229,144.9758609,144.9610198,144.9675515,145.0038714,144.9365331,144.9700652,144.948613,144.9993917,144.9764141,144.9970284,144.9931516,144.9452766,144.9511147,145.0031671,144.9651841,144.9677909,145.0003299,144.9575123,144.9641152,145.0097601,144.9569939,144.9378251,144.962762,144.967304,144.9607237,144.952358,144.9458239,144.9771057,144.9553922,144.948613,144.9787203,144.9556375,144.9779199,144.9911839,144.9551428,145.0160648,144.957204,144.9737721,144.9800857,144.9926087,145.0052208,144.9281234,144.9649265,144.9181009,144.9371309,144.9659965,144.963387,144.955006,144.9636436,144.9731096,144.9780489,144.998488,144.9452156,144.9525961,144.9517174,144.9705205,144.992404,145.0177163,144.9634949,144.9682766,144.9599543,144.9723151,144.9612107,144.9501435,144.9416517,-37.8068155,144.9673138,144.9725868,144.9548011,144.9342038,144.9365179,144.9762166,144.9655559,144.9631839,144.9602763,145.0146615,144.9608894,144.955306,144.9772199,144.967362,144.9598532,144.9396602,144.9676185,144.9542247,144.9324169,144.9782069,144.9613579,144.9724456,145.0018656,-37.8081852,144.9630242,145.0055785,144.956473,144.957069,144.96366,144.9738665,144.9633537,144.9528506,144.9667811,144.9830283,144.9585548,144.9357542,144.9672454,144.963473,144.9726522,144.9821403,144.9637489,144.9683813,144.9566486,144.9888635,144.9549332,144.9614874,144.9625463,144.9901822,144.9438816,144.9498747,144.9705513,144.9647797,144.9620212,144.9731491,144.9810236,144.9559991,144.9758658,145.0122796,144.9967164,145.0153367,144.9400839,144.9647772,144.9477409,144.9631661,144.9491271,144.9740446,144.95375,144.9270181,144.9611291,144.9578618,144.9462511,144.9436552,144.9720099,144.9906491,144.9371562,144.9884905,144.9660643,144.9828659,144.9334861,144.9560944,144.9673176,144.9485795,144.9848519,144.9738693,144.9498942,144.9827317,144.9287407,144.9800894,144.9354505,144.9450047,144.9836191,144.9593887,144.9289157,144.9419796,144.9792165,144.9712828,144.9828691,144.9742548,144.9556723,144.9714298,144.9533842,145.0152746,144.9732073,144.9982593,144.9542643,145.0113069,144.9880983,144.9471765,144.9460969,144.9945849,144.9526804,144.9493563,144.9637571,144.9638781,144.9624712,144.9815597,144.945762,144.9555264,144.9576203,144.9836936,145.0150229,144.9923455,144.9960027,144.9403554,144.9739629,144.9661984,144.9791324,144.9729188,144.9675646,144.9594236,144.9497179,144.9473078,144.9500796,144.9484461,144.9594714,144.9556375,144.9729283,144.9265225,145.0029929,144.9555805,144.9843211,144.970453,144.9658515,144.9692636,144.9511367,144.9698599,144.9532908,144.9402939,144.9783548,144.9485005,144.9796105,144.9806127,144.9609251,144.9681756,144.9848092,144.9532343,144.9534562,144.9808864,145.0092391,144.9763575,144.9555644,144.9551232,144.9482313,144.9400168,145.0082644,144.9691292,144.9695353,144.972568,144.9846648,145.0093728,144.9665798,144.9498422,144.9483348,144.9551762,144.9549765,144.9862756,144.9475738,144.9590174,144.9675125,144.968017,144.9579553,144.9703906,144.9607785,145.0143841,144.9626345,144.9636187,144.9366292,144.9531234,145.0097787,144.9507783,144.9664974,144.9660998,144.9417106,144.982186,144.9652444,144.9914651,144.9742115,144.9528668,144.9761309,144.9569422,144.9848488,144.9480783,144.9405293,144.9690441,144.9771165,144.9487102,144.9867456,144.9503197,145.0153617,144.9656151,144.9601595,144.9292428,145.0075238,145.0095675,144.9763884,144.9684763,144.9289411,144.9694112,144.9878986,144.9792826,145.0071353,145.0115724,144.9629578,144.9625514,144.9384914,145.0089773,144.9699533,144.9480526,144.9768239,144.9703929,145.0038094,144.993547,144.9475256,144.9638631,144.9472978,144.9637335,144.9530283,144.9557728,144.9585577,144.9630802,144.9524931,144.9738677,144.946887,144.9442171,144.9549645,144.9509388,144.9884985,144.9431654,144.9383006,144.9651658,144.9840086,144.9848639,144.9688406,144.9591922,144.9562063,144.99511,144.9595625,144.9706252,144.9919676,-37.8161425,145.0054278,144.9426125,144.9631878,144.971475,144.9735747,144.9623636,144.9522831,144.9582671,144.9854064,145.004725,144.9680145,144.9523039,144.9579155,-37.7999068,144.9728269,144.9648827,144.9839187,144.9835104,144.9477015,144.9794998,144.9485635,144.9710671,144.9477409,144.9360903,144.9625997,144.9755558,144.9664884,144.9927179,144.9921513,144.9474612,144.9835727,144.9516719,144.9749359,144.9493033,144.9923015,144.9614025,145.0129522,144.9458992,144.9706032,144.9362807,144.9324749,144.9647656,145.0026032,144.9533734,144.9600534,144.9805938,144.972937,144.9534134,144.9520932,144.9567901,145.0009754,144.980231,144.9854437,144.9722269,144.990595,144.9694812,144.9856635,144.9668829,144.9848817,144.9555699,144.9739274,-37.7983586,144.9563202,144.9366965,144.9827666,144.9498144,144.966445,145.0122796,144.9686021,144.9764612,144.9686278,144.94482,144.9516952,144.9779444,144.9538206,144.9470552,144.9843242,144.9593329,144.9416945,144.9547662,144.9453799,144.9421534,144.9513796,144.9454287,144.9732022,144.9613139,144.9181009],\"marker\":{\"color\":\"#636efa\",\"symbol\":\"circle\"},\"mode\":\"markers\",\"name\":\"\",\"showlegend\":false,\"type\":\"scattergeo\"}],                        {\"template\":{\"data\":{\"bar\":[{\"error_x\":{\"color\":\"#2a3f5f\"},\"error_y\":{\"color\":\"#2a3f5f\"},\"marker\":{\"line\":{\"color\":\"#E5ECF6\",\"width\":0.5},\"pattern\":{\"fillmode\":\"overlay\",\"size\":10,\"solidity\":0.2}},\"type\":\"bar\"}],\"barpolar\":[{\"marker\":{\"line\":{\"color\":\"#E5ECF6\",\"width\":0.5},\"pattern\":{\"fillmode\":\"overlay\",\"size\":10,\"solidity\":0.2}},\"type\":\"barpolar\"}],\"carpet\":[{\"aaxis\":{\"endlinecolor\":\"#2a3f5f\",\"gridcolor\":\"white\",\"linecolor\":\"white\",\"minorgridcolor\":\"white\",\"startlinecolor\":\"#2a3f5f\"},\"baxis\":{\"endlinecolor\":\"#2a3f5f\",\"gridcolor\":\"white\",\"linecolor\":\"white\",\"minorgridcolor\":\"white\",\"startlinecolor\":\"#2a3f5f\"},\"type\":\"carpet\"}],\"choropleth\":[{\"colorbar\":{\"outlinewidth\":0,\"ticks\":\"\"},\"type\":\"choropleth\"}],\"contour\":[{\"colorbar\":{\"outlinewidth\":0,\"ticks\":\"\"},\"colorscale\":[[0.0,\"#0d0887\"],[0.1111111111111111,\"#46039f\"],[0.2222222222222222,\"#7201a8\"],[0.3333333333333333,\"#9c179e\"],[0.4444444444444444,\"#bd3786\"],[0.5555555555555556,\"#d8576b\"],[0.6666666666666666,\"#ed7953\"],[0.7777777777777778,\"#fb9f3a\"],[0.8888888888888888,\"#fdca26\"],[1.0,\"#f0f921\"]],\"type\":\"contour\"}],\"contourcarpet\":[{\"colorbar\":{\"outlinewidth\":0,\"ticks\":\"\"},\"type\":\"contourcarpet\"}],\"heatmap\":[{\"colorbar\":{\"outlinewidth\":0,\"ticks\":\"\"},\"colorscale\":[[0.0,\"#0d0887\"],[0.1111111111111111,\"#46039f\"],[0.2222222222222222,\"#7201a8\"],[0.3333333333333333,\"#9c179e\"],[0.4444444444444444,\"#bd3786\"],[0.5555555555555556,\"#d8576b\"],[0.6666666666666666,\"#ed7953\"],[0.7777777777777778,\"#fb9f3a\"],[0.8888888888888888,\"#fdca26\"],[1.0,\"#f0f921\"]],\"type\":\"heatmap\"}],\"heatmapgl\":[{\"colorbar\":{\"outlinewidth\":0,\"ticks\":\"\"},\"colorscale\":[[0.0,\"#0d0887\"],[0.1111111111111111,\"#46039f\"],[0.2222222222222222,\"#7201a8\"],[0.3333333333333333,\"#9c179e\"],[0.4444444444444444,\"#bd3786\"],[0.5555555555555556,\"#d8576b\"],[0.6666666666666666,\"#ed7953\"],[0.7777777777777778,\"#fb9f3a\"],[0.8888888888888888,\"#fdca26\"],[1.0,\"#f0f921\"]],\"type\":\"heatmapgl\"}],\"histogram\":[{\"marker\":{\"pattern\":{\"fillmode\":\"overlay\",\"size\":10,\"solidity\":0.2}},\"type\":\"histogram\"}],\"histogram2d\":[{\"colorbar\":{\"outlinewidth\":0,\"ticks\":\"\"},\"colorscale\":[[0.0,\"#0d0887\"],[0.1111111111111111,\"#46039f\"],[0.2222222222222222,\"#7201a8\"],[0.3333333333333333,\"#9c179e\"],[0.4444444444444444,\"#bd3786\"],[0.5555555555555556,\"#d8576b\"],[0.6666666666666666,\"#ed7953\"],[0.7777777777777778,\"#fb9f3a\"],[0.8888888888888888,\"#fdca26\"],[1.0,\"#f0f921\"]],\"type\":\"histogram2d\"}],\"histogram2dcontour\":[{\"colorbar\":{\"outlinewidth\":0,\"ticks\":\"\"},\"colorscale\":[[0.0,\"#0d0887\"],[0.1111111111111111,\"#46039f\"],[0.2222222222222222,\"#7201a8\"],[0.3333333333333333,\"#9c179e\"],[0.4444444444444444,\"#bd3786\"],[0.5555555555555556,\"#d8576b\"],[0.6666666666666666,\"#ed7953\"],[0.7777777777777778,\"#fb9f3a\"],[0.8888888888888888,\"#fdca26\"],[1.0,\"#f0f921\"]],\"type\":\"histogram2dcontour\"}],\"mesh3d\":[{\"colorbar\":{\"outlinewidth\":0,\"ticks\":\"\"},\"type\":\"mesh3d\"}],\"parcoords\":[{\"line\":{\"colorbar\":{\"outlinewidth\":0,\"ticks\":\"\"}},\"type\":\"parcoords\"}],\"pie\":[{\"automargin\":true,\"type\":\"pie\"}],\"scatter\":[{\"marker\":{\"colorbar\":{\"outlinewidth\":0,\"ticks\":\"\"}},\"type\":\"scatter\"}],\"scatter3d\":[{\"line\":{\"colorbar\":{\"outlinewidth\":0,\"ticks\":\"\"}},\"marker\":{\"colorbar\":{\"outlinewidth\":0,\"ticks\":\"\"}},\"type\":\"scatter3d\"}],\"scattercarpet\":[{\"marker\":{\"colorbar\":{\"outlinewidth\":0,\"ticks\":\"\"}},\"type\":\"scattercarpet\"}],\"scattergeo\":[{\"marker\":{\"colorbar\":{\"outlinewidth\":0,\"ticks\":\"\"}},\"type\":\"scattergeo\"}],\"scattergl\":[{\"marker\":{\"colorbar\":{\"outlinewidth\":0,\"ticks\":\"\"}},\"type\":\"scattergl\"}],\"scattermapbox\":[{\"marker\":{\"colorbar\":{\"outlinewidth\":0,\"ticks\":\"\"}},\"type\":\"scattermapbox\"}],\"scatterpolar\":[{\"marker\":{\"colorbar\":{\"outlinewidth\":0,\"ticks\":\"\"}},\"type\":\"scatterpolar\"}],\"scatterpolargl\":[{\"marker\":{\"colorbar\":{\"outlinewidth\":0,\"ticks\":\"\"}},\"type\":\"scatterpolargl\"}],\"scatterternary\":[{\"marker\":{\"colorbar\":{\"outlinewidth\":0,\"ticks\":\"\"}},\"type\":\"scatterternary\"}],\"surface\":[{\"colorbar\":{\"outlinewidth\":0,\"ticks\":\"\"},\"colorscale\":[[0.0,\"#0d0887\"],[0.1111111111111111,\"#46039f\"],[0.2222222222222222,\"#7201a8\"],[0.3333333333333333,\"#9c179e\"],[0.4444444444444444,\"#bd3786\"],[0.5555555555555556,\"#d8576b\"],[0.6666666666666666,\"#ed7953\"],[0.7777777777777778,\"#fb9f3a\"],[0.8888888888888888,\"#fdca26\"],[1.0,\"#f0f921\"]],\"type\":\"surface\"}],\"table\":[{\"cells\":{\"fill\":{\"color\":\"#EBF0F8\"},\"line\":{\"color\":\"white\"}},\"header\":{\"fill\":{\"color\":\"#C8D4E3\"},\"line\":{\"color\":\"white\"}},\"type\":\"table\"}]},\"layout\":{\"annotationdefaults\":{\"arrowcolor\":\"#2a3f5f\",\"arrowhead\":0,\"arrowwidth\":1},\"autotypenumbers\":\"strict\",\"coloraxis\":{\"colorbar\":{\"outlinewidth\":0,\"ticks\":\"\"}},\"colorscale\":{\"diverging\":[[0,\"#8e0152\"],[0.1,\"#c51b7d\"],[0.2,\"#de77ae\"],[0.3,\"#f1b6da\"],[0.4,\"#fde0ef\"],[0.5,\"#f7f7f7\"],[0.6,\"#e6f5d0\"],[0.7,\"#b8e186\"],[0.8,\"#7fbc41\"],[0.9,\"#4d9221\"],[1,\"#276419\"]],\"sequential\":[[0.0,\"#0d0887\"],[0.1111111111111111,\"#46039f\"],[0.2222222222222222,\"#7201a8\"],[0.3333333333333333,\"#9c179e\"],[0.4444444444444444,\"#bd3786\"],[0.5555555555555556,\"#d8576b\"],[0.6666666666666666,\"#ed7953\"],[0.7777777777777778,\"#fb9f3a\"],[0.8888888888888888,\"#fdca26\"],[1.0,\"#f0f921\"]],\"sequentialminus\":[[0.0,\"#0d0887\"],[0.1111111111111111,\"#46039f\"],[0.2222222222222222,\"#7201a8\"],[0.3333333333333333,\"#9c179e\"],[0.4444444444444444,\"#bd3786\"],[0.5555555555555556,\"#d8576b\"],[0.6666666666666666,\"#ed7953\"],[0.7777777777777778,\"#fb9f3a\"],[0.8888888888888888,\"#fdca26\"],[1.0,\"#f0f921\"]]},\"colorway\":[\"#636efa\",\"#EF553B\",\"#00cc96\",\"#ab63fa\",\"#FFA15A\",\"#19d3f3\",\"#FF6692\",\"#B6E880\",\"#FF97FF\",\"#FECB52\"],\"font\":{\"color\":\"#2a3f5f\"},\"geo\":{\"bgcolor\":\"white\",\"lakecolor\":\"white\",\"landcolor\":\"#E5ECF6\",\"showlakes\":true,\"showland\":true,\"subunitcolor\":\"white\"},\"hoverlabel\":{\"align\":\"left\"},\"hovermode\":\"closest\",\"mapbox\":{\"style\":\"light\"},\"paper_bgcolor\":\"white\",\"plot_bgcolor\":\"#E5ECF6\",\"polar\":{\"angularaxis\":{\"gridcolor\":\"white\",\"linecolor\":\"white\",\"ticks\":\"\"},\"bgcolor\":\"#E5ECF6\",\"radialaxis\":{\"gridcolor\":\"white\",\"linecolor\":\"white\",\"ticks\":\"\"}},\"scene\":{\"xaxis\":{\"backgroundcolor\":\"#E5ECF6\",\"gridcolor\":\"white\",\"gridwidth\":2,\"linecolor\":\"white\",\"showbackground\":true,\"ticks\":\"\",\"zerolinecolor\":\"white\"},\"yaxis\":{\"backgroundcolor\":\"#E5ECF6\",\"gridcolor\":\"white\",\"gridwidth\":2,\"linecolor\":\"white\",\"showbackground\":true,\"ticks\":\"\",\"zerolinecolor\":\"white\"},\"zaxis\":{\"backgroundcolor\":\"#E5ECF6\",\"gridcolor\":\"white\",\"gridwidth\":2,\"linecolor\":\"white\",\"showbackground\":true,\"ticks\":\"\",\"zerolinecolor\":\"white\"}},\"shapedefaults\":{\"line\":{\"color\":\"#2a3f5f\"}},\"ternary\":{\"aaxis\":{\"gridcolor\":\"white\",\"linecolor\":\"white\",\"ticks\":\"\"},\"baxis\":{\"gridcolor\":\"white\",\"linecolor\":\"white\",\"ticks\":\"\"},\"bgcolor\":\"#E5ECF6\",\"caxis\":{\"gridcolor\":\"white\",\"linecolor\":\"white\",\"ticks\":\"\"}},\"title\":{\"x\":0.05},\"xaxis\":{\"automargin\":true,\"gridcolor\":\"white\",\"linecolor\":\"white\",\"ticks\":\"\",\"title\":{\"standoff\":15},\"zerolinecolor\":\"white\",\"zerolinewidth\":2},\"yaxis\":{\"automargin\":true,\"gridcolor\":\"white\",\"linecolor\":\"white\",\"ticks\":\"\",\"title\":{\"standoff\":15},\"zerolinecolor\":\"white\",\"zerolinewidth\":2}}},\"geo\":{\"domain\":{\"x\":[0.0,1.0],\"y\":[0.0,1.0]},\"center\":{}},\"legend\":{\"tracegroupgap\":0},\"margin\":{\"t\":60}},                        {\"responsive\": true}                    ).then(function(){\n",
       "                            \n",
       "var gd = document.getElementById('074bc88f-9cad-4414-889e-e78558e91970');\n",
       "var x = new MutationObserver(function (mutations, observer) {{\n",
       "        var display = window.getComputedStyle(gd).display;\n",
       "        if (!display || display === 'none') {{\n",
       "            console.log([gd, 'removed!']);\n",
       "            Plotly.purge(gd);\n",
       "            observer.disconnect();\n",
       "        }}\n",
       "}});\n",
       "\n",
       "// Listen for the removal of the full notebook cells\n",
       "var notebookContainer = gd.closest('#notebook-container');\n",
       "if (notebookContainer) {{\n",
       "    x.observe(notebookContainer, {childList: true});\n",
       "}}\n",
       "\n",
       "// Listen for the clearing of the current output cell\n",
       "var outputEl = gd.closest('.output');\n",
       "if (outputEl) {{\n",
       "    x.observe(outputEl, {childList: true});\n",
       "}}\n",
       "\n",
       "                        })                };                });            </script>        </div>"
      ]
     },
     "metadata": {},
     "output_type": "display_data"
    }
   ],
   "source": [
    "df = dirty_data[['customer_lon','customer_lat','order_price']]\n",
    "fig = px.scatter_geo(df, lon='customer_lon',lat='customer_lat')\n",
    "fig.show()\n",
    "# ! need to zoom in, but there's clearly an error considering all customers are melb based."
   ]
  },
  {
   "cell_type": "code",
   "execution_count": 316,
   "metadata": {},
   "outputs": [],
   "source": [
    "#! need to reverse some of the minus for pluses and pluses for minus\n"
   ]
  },
  {
   "cell_type": "markdown",
   "metadata": {},
   "source": [
    "#### Distance to Customer"
   ]
  },
  {
   "cell_type": "markdown",
   "metadata": {},
   "source": [
    "This variable should hold a relationship within..."
   ]
  },
  {
   "cell_type": "code",
   "execution_count": 317,
   "metadata": {},
   "outputs": [],
   "source": [
    "# use supplementary files\n",
    "nodes = pd.read_csv('supplementary_files/nodes.csv')\n",
    "edges = pd.read_csv('supplementary_files/edges.csv')\n",
    "branches = pd.read_csv('supplementary_files/branches.csv')"
   ]
  },
  {
   "cell_type": "code",
   "execution_count": 318,
   "metadata": {},
   "outputs": [
    {
     "data": {
      "text/html": [
       "<div>\n",
       "<style scoped>\n",
       "    .dataframe tbody tr th:only-of-type {\n",
       "        vertical-align: middle;\n",
       "    }\n",
       "\n",
       "    .dataframe tbody tr th {\n",
       "        vertical-align: top;\n",
       "    }\n",
       "\n",
       "    .dataframe thead th {\n",
       "        text-align: right;\n",
       "    }\n",
       "</style>\n",
       "<table border=\"1\" class=\"dataframe\">\n",
       "  <thead>\n",
       "    <tr style=\"text-align: right;\">\n",
       "      <th></th>\n",
       "      <th>node</th>\n",
       "      <th>lat</th>\n",
       "      <th>lon</th>\n",
       "    </tr>\n",
       "  </thead>\n",
       "  <tbody>\n",
       "    <tr>\n",
       "      <th>0</th>\n",
       "      <td>711327755</td>\n",
       "      <td>-37.807675</td>\n",
       "      <td>144.955873</td>\n",
       "    </tr>\n",
       "    <tr>\n",
       "      <th>1</th>\n",
       "      <td>711327756</td>\n",
       "      <td>-37.807094</td>\n",
       "      <td>144.955978</td>\n",
       "    </tr>\n",
       "    <tr>\n",
       "      <th>2</th>\n",
       "      <td>711327759</td>\n",
       "      <td>-37.807301</td>\n",
       "      <td>144.957817</td>\n",
       "    </tr>\n",
       "    <tr>\n",
       "      <th>3</th>\n",
       "      <td>711327760</td>\n",
       "      <td>-37.807885</td>\n",
       "      <td>144.957719</td>\n",
       "    </tr>\n",
       "    <tr>\n",
       "      <th>4</th>\n",
       "      <td>777781264</td>\n",
       "      <td>-37.805221</td>\n",
       "      <td>144.952173</td>\n",
       "    </tr>\n",
       "    <tr>\n",
       "      <th>...</th>\n",
       "      <td>...</td>\n",
       "      <td>...</td>\n",
       "      <td>...</td>\n",
       "    </tr>\n",
       "    <tr>\n",
       "      <th>17112</th>\n",
       "      <td>767688602</td>\n",
       "      <td>-37.804021</td>\n",
       "      <td>144.969444</td>\n",
       "    </tr>\n",
       "    <tr>\n",
       "      <th>17113</th>\n",
       "      <td>777781181</td>\n",
       "      <td>-37.805238</td>\n",
       "      <td>144.952321</td>\n",
       "    </tr>\n",
       "    <tr>\n",
       "      <th>17114</th>\n",
       "      <td>1449431614</td>\n",
       "      <td>-37.815345</td>\n",
       "      <td>144.974603</td>\n",
       "    </tr>\n",
       "    <tr>\n",
       "      <th>17115</th>\n",
       "      <td>1449431622</td>\n",
       "      <td>-37.815262</td>\n",
       "      <td>144.975149</td>\n",
       "    </tr>\n",
       "    <tr>\n",
       "      <th>17116</th>\n",
       "      <td>1449431623</td>\n",
       "      <td>-37.815215</td>\n",
       "      <td>144.974947</td>\n",
       "    </tr>\n",
       "  </tbody>\n",
       "</table>\n",
       "<p>17117 rows × 3 columns</p>\n",
       "</div>"
      ],
      "text/plain": [
       "             node        lat         lon\n",
       "0       711327755 -37.807675  144.955873\n",
       "1       711327756 -37.807094  144.955978\n",
       "2       711327759 -37.807301  144.957817\n",
       "3       711327760 -37.807885  144.957719\n",
       "4       777781264 -37.805221  144.952173\n",
       "...           ...        ...         ...\n",
       "17112   767688602 -37.804021  144.969444\n",
       "17113   777781181 -37.805238  144.952321\n",
       "17114  1449431614 -37.815345  144.974603\n",
       "17115  1449431622 -37.815262  144.975149\n",
       "17116  1449431623 -37.815215  144.974947\n",
       "\n",
       "[17117 rows x 3 columns]"
      ]
     },
     "execution_count": 318,
     "metadata": {},
     "output_type": "execute_result"
    }
   ],
   "source": [
    "nodes"
   ]
  },
  {
   "cell_type": "code",
   "execution_count": 319,
   "metadata": {},
   "outputs": [
    {
     "data": {
      "text/html": [
       "<div>\n",
       "<style scoped>\n",
       "    .dataframe tbody tr th:only-of-type {\n",
       "        vertical-align: middle;\n",
       "    }\n",
       "\n",
       "    .dataframe tbody tr th {\n",
       "        vertical-align: top;\n",
       "    }\n",
       "\n",
       "    .dataframe thead th {\n",
       "        text-align: right;\n",
       "    }\n",
       "</style>\n",
       "<table border=\"1\" class=\"dataframe\">\n",
       "  <thead>\n",
       "    <tr style=\"text-align: right;\">\n",
       "      <th></th>\n",
       "      <th>Unnamed: 0</th>\n",
       "      <th>u</th>\n",
       "      <th>v</th>\n",
       "      <th>distance(m)</th>\n",
       "      <th>street type</th>\n",
       "      <th>speed(km/h)</th>\n",
       "    </tr>\n",
       "  </thead>\n",
       "  <tbody>\n",
       "    <tr>\n",
       "      <th>0</th>\n",
       "      <td>0</td>\n",
       "      <td>711327755</td>\n",
       "      <td>711332946</td>\n",
       "      <td>58.0</td>\n",
       "      <td>1</td>\n",
       "      <td>15.0</td>\n",
       "    </tr>\n",
       "    <tr>\n",
       "      <th>1</th>\n",
       "      <td>2</td>\n",
       "      <td>711327755</td>\n",
       "      <td>55725841</td>\n",
       "      <td>15.0</td>\n",
       "      <td>2</td>\n",
       "      <td>20.0</td>\n",
       "    </tr>\n",
       "    <tr>\n",
       "      <th>2</th>\n",
       "      <td>3</td>\n",
       "      <td>711327755</td>\n",
       "      <td>711327760</td>\n",
       "      <td>165.0</td>\n",
       "      <td>1</td>\n",
       "      <td>15.0</td>\n",
       "    </tr>\n",
       "    <tr>\n",
       "      <th>3</th>\n",
       "      <td>4</td>\n",
       "      <td>711327756</td>\n",
       "      <td>703557073</td>\n",
       "      <td>4.0</td>\n",
       "      <td>0</td>\n",
       "      <td>10.0</td>\n",
       "    </tr>\n",
       "    <tr>\n",
       "      <th>4</th>\n",
       "      <td>5</td>\n",
       "      <td>711327756</td>\n",
       "      <td>711332946</td>\n",
       "      <td>8.0</td>\n",
       "      <td>1</td>\n",
       "      <td>15.0</td>\n",
       "    </tr>\n",
       "    <tr>\n",
       "      <th>...</th>\n",
       "      <td>...</td>\n",
       "      <td>...</td>\n",
       "      <td>...</td>\n",
       "      <td>...</td>\n",
       "      <td>...</td>\n",
       "      <td>...</td>\n",
       "    </tr>\n",
       "    <tr>\n",
       "      <th>42219</th>\n",
       "      <td>50006</td>\n",
       "      <td>1449431614</td>\n",
       "      <td>1449431244</td>\n",
       "      <td>16.0</td>\n",
       "      <td>2</td>\n",
       "      <td>20.0</td>\n",
       "    </tr>\n",
       "    <tr>\n",
       "      <th>42220</th>\n",
       "      <td>50007</td>\n",
       "      <td>1449431614</td>\n",
       "      <td>1449431574</td>\n",
       "      <td>17.0</td>\n",
       "      <td>2</td>\n",
       "      <td>20.0</td>\n",
       "    </tr>\n",
       "    <tr>\n",
       "      <th>42221</th>\n",
       "      <td>50008</td>\n",
       "      <td>1449431622</td>\n",
       "      <td>60095777</td>\n",
       "      <td>196.0</td>\n",
       "      <td>1</td>\n",
       "      <td>15.0</td>\n",
       "    </tr>\n",
       "    <tr>\n",
       "      <th>42222</th>\n",
       "      <td>50009</td>\n",
       "      <td>1449431623</td>\n",
       "      <td>1449431622</td>\n",
       "      <td>19.0</td>\n",
       "      <td>1</td>\n",
       "      <td>15.0</td>\n",
       "    </tr>\n",
       "    <tr>\n",
       "      <th>42223</th>\n",
       "      <td>50010</td>\n",
       "      <td>1449431623</td>\n",
       "      <td>1449355158</td>\n",
       "      <td>23.0</td>\n",
       "      <td>1</td>\n",
       "      <td>15.0</td>\n",
       "    </tr>\n",
       "  </tbody>\n",
       "</table>\n",
       "<p>42224 rows × 6 columns</p>\n",
       "</div>"
      ],
      "text/plain": [
       "       Unnamed: 0           u           v  distance(m)  street type  \\\n",
       "0               0   711327755   711332946         58.0            1   \n",
       "1               2   711327755    55725841         15.0            2   \n",
       "2               3   711327755   711327760        165.0            1   \n",
       "3               4   711327756   703557073          4.0            0   \n",
       "4               5   711327756   711332946          8.0            1   \n",
       "...           ...         ...         ...          ...          ...   \n",
       "42219       50006  1449431614  1449431244         16.0            2   \n",
       "42220       50007  1449431614  1449431574         17.0            2   \n",
       "42221       50008  1449431622    60095777        196.0            1   \n",
       "42222       50009  1449431623  1449431622         19.0            1   \n",
       "42223       50010  1449431623  1449355158         23.0            1   \n",
       "\n",
       "       speed(km/h)  \n",
       "0             15.0  \n",
       "1             20.0  \n",
       "2             15.0  \n",
       "3             10.0  \n",
       "4             15.0  \n",
       "...            ...  \n",
       "42219         20.0  \n",
       "42220         20.0  \n",
       "42221         15.0  \n",
       "42222         15.0  \n",
       "42223         15.0  \n",
       "\n",
       "[42224 rows x 6 columns]"
      ]
     },
     "execution_count": 319,
     "metadata": {},
     "output_type": "execute_result"
    }
   ],
   "source": [
    "edges"
   ]
  },
  {
   "cell_type": "code",
   "execution_count": 320,
   "metadata": {},
   "outputs": [
    {
     "data": {
      "text/html": [
       "<div>\n",
       "<style scoped>\n",
       "    .dataframe tbody tr th:only-of-type {\n",
       "        vertical-align: middle;\n",
       "    }\n",
       "\n",
       "    .dataframe tbody tr th {\n",
       "        vertical-align: top;\n",
       "    }\n",
       "\n",
       "    .dataframe thead th {\n",
       "        text-align: right;\n",
       "    }\n",
       "</style>\n",
       "<table border=\"1\" class=\"dataframe\">\n",
       "  <thead>\n",
       "    <tr style=\"text-align: right;\">\n",
       "      <th></th>\n",
       "      <th>branch_code</th>\n",
       "      <th>branch_name</th>\n",
       "      <th>branch_lat</th>\n",
       "      <th>branch_lon</th>\n",
       "    </tr>\n",
       "  </thead>\n",
       "  <tbody>\n",
       "    <tr>\n",
       "      <th>0</th>\n",
       "      <td>NS</td>\n",
       "      <td>Nickolson</td>\n",
       "      <td>-37.773803</td>\n",
       "      <td>144.983647</td>\n",
       "    </tr>\n",
       "    <tr>\n",
       "      <th>1</th>\n",
       "      <td>TP</td>\n",
       "      <td>Thompson</td>\n",
       "      <td>-37.861835</td>\n",
       "      <td>144.905716</td>\n",
       "    </tr>\n",
       "    <tr>\n",
       "      <th>2</th>\n",
       "      <td>BK</td>\n",
       "      <td>Bakers</td>\n",
       "      <td>-37.815834</td>\n",
       "      <td>145.046450</td>\n",
       "    </tr>\n",
       "  </tbody>\n",
       "</table>\n",
       "</div>"
      ],
      "text/plain": [
       "  branch_code branch_name  branch_lat  branch_lon\n",
       "0          NS   Nickolson  -37.773803  144.983647\n",
       "1          TP    Thompson  -37.861835  144.905716\n",
       "2          BK      Bakers  -37.815834  145.046450"
      ]
     },
     "execution_count": 320,
     "metadata": {},
     "output_type": "execute_result"
    }
   ],
   "source": [
    "branches"
   ]
  },
  {
   "cell_type": "code",
   "execution_count": 321,
   "metadata": {},
   "outputs": [],
   "source": [
    "# merge nodes to branches, as it doesn't have it"
   ]
  },
  {
   "cell_type": "markdown",
   "metadata": {},
   "source": [
    "#### Customer Loyalty"
   ]
  },
  {
   "cell_type": "code",
   "execution_count": 322,
   "metadata": {},
   "outputs": [],
   "source": [
    "#### some code"
   ]
  },
  {
   "cell_type": "markdown",
   "metadata": {},
   "source": [
    "### Missing Data"
   ]
  },
  {
   "cell_type": "markdown",
   "metadata": {},
   "source": [
    "This section will review the `missing_data` data frame and will analise the integrity of the data based on its missigness.\n",
    "<br>\n",
    "A dataset missingess describes the type of missing information:\n",
    "* Missing at random\n",
    "* Missing completely at random\n",
    "* Missing not at random"
   ]
  },
  {
   "cell_type": "markdown",
   "metadata": {},
   "source": [
    "For this section we will use `pandas` as well as the `missigno` library to review the dataframe's\n",
    " missigness characteristics."
   ]
  },
  {
   "cell_type": "code",
   "execution_count": 323,
   "metadata": {
    "collapsed": false,
    "jupyter": {
     "outputs_hidden": false
    }
   },
   "outputs": [],
   "source": [
    "# note that missing data may be represented as something other than Nan and should be converted\n",
    "# appropriately."
   ]
  },
  {
   "cell_type": "markdown",
   "metadata": {},
   "source": [
    "By using the info method from the `pandas` library we can concisely see the non-null counts for\n",
    "each one of the variables in the dataset. As a result, we can see that `branch_code` as well as\n",
    "`delivery_fee` have null values that require further inspection."
   ]
  },
  {
   "cell_type": "code",
   "execution_count": 324,
   "metadata": {},
   "outputs": [
    {
     "name": "stdout",
     "output_type": "stream",
     "text": [
      "<class 'pandas.core.frame.DataFrame'>\n",
      "RangeIndex: 500 entries, 0 to 499\n",
      "Data columns (total 12 columns):\n",
      " #   Column                   Non-Null Count  Dtype  \n",
      "---  ------                   --------------  -----  \n",
      " 0   order_id                 500 non-null    object \n",
      " 1   date                     500 non-null    object \n",
      " 2   time                     500 non-null    object \n",
      " 3   order_type               500 non-null    object \n",
      " 4   branch_code              450 non-null    object \n",
      " 5   order_items              500 non-null    object \n",
      " 6   order_price              500 non-null    float64\n",
      " 7   customer_lat             500 non-null    float64\n",
      " 8   customer_lon             500 non-null    float64\n",
      " 9   customerHasloyalty?      500 non-null    int64  \n",
      " 10  distance_to_customer_KM  500 non-null    float64\n",
      " 11  delivery_fee             400 non-null    float64\n",
      "dtypes: float64(5), int64(1), object(6)\n",
      "memory usage: 47.0+ KB\n"
     ]
    }
   ],
   "source": [
    "# test\n",
    "missing_data.info()"
   ]
  },
  {
   "cell_type": "markdown",
   "metadata": {},
   "source": [
    "Brief introduction of the dataset."
   ]
  },
  {
   "cell_type": "code",
   "execution_count": 325,
   "metadata": {},
   "outputs": [
    {
     "data": {
      "text/plain": [
       "<AxesSubplot:>"
      ]
     },
     "execution_count": 325,
     "metadata": {},
     "output_type": "execute_result"
    },
    {
     "data": {
      "image/png": "[encoded data removed]",
      "text/plain": [
       "<Figure size 1800x720 with 2 Axes>"
      ]
     },
     "metadata": {},
     "output_type": "display_data"
    }
   ],
   "source": [
    "msno.matrix(df =missing_data)"
   ]
  },
  {
   "cell_type": "markdown",
   "metadata": {},
   "source": [
    "The above charts display potential issues in the `branch_code` and `delivery_fee` fields"
   ]
  },
  {
   "cell_type": "markdown",
   "metadata": {},
   "source": [
    "#### Branch Code"
   ]
  },
  {
   "cell_type": "markdown",
   "metadata": {},
   "source": [
    "In order to find the best possible value to fill in the missing branch codes, we will print the head values of the data frame to find associated variables:"
   ]
  },
  {
   "cell_type": "code",
   "execution_count": 326,
   "metadata": {},
   "outputs": [
    {
     "data": {
      "text/html": [
       "<div>\n",
       "<style scoped>\n",
       "    .dataframe tbody tr th:only-of-type {\n",
       "        vertical-align: middle;\n",
       "    }\n",
       "\n",
       "    .dataframe tbody tr th {\n",
       "        vertical-align: top;\n",
       "    }\n",
       "\n",
       "    .dataframe thead th {\n",
       "        text-align: right;\n",
       "    }\n",
       "</style>\n",
       "<table border=\"1\" class=\"dataframe\">\n",
       "  <thead>\n",
       "    <tr style=\"text-align: right;\">\n",
       "      <th></th>\n",
       "      <th>order_id</th>\n",
       "      <th>date</th>\n",
       "      <th>time</th>\n",
       "      <th>order_type</th>\n",
       "      <th>branch_code</th>\n",
       "      <th>order_items</th>\n",
       "      <th>order_price</th>\n",
       "      <th>customer_lat</th>\n",
       "      <th>customer_lon</th>\n",
       "      <th>customerHasloyalty?</th>\n",
       "      <th>distance_to_customer_KM</th>\n",
       "      <th>delivery_fee</th>\n",
       "    </tr>\n",
       "  </thead>\n",
       "  <tbody>\n",
       "    <tr>\n",
       "      <th>0</th>\n",
       "      <td>ORDB03023</td>\n",
       "      <td>2021-09-09</td>\n",
       "      <td>16:16:54</td>\n",
       "      <td>Dinner</td>\n",
       "      <td>TP</td>\n",
       "      <td>[('Salmon', 6), ('Pasta', 1), ('Fish&amp;Chips', 1)]</td>\n",
       "      <td>308.5</td>\n",
       "      <td>-37.811774</td>\n",
       "      <td>145.002000</td>\n",
       "      <td>0</td>\n",
       "      <td>11.108</td>\n",
       "      <td>15.675114</td>\n",
       "    </tr>\n",
       "    <tr>\n",
       "      <th>1</th>\n",
       "      <td>ORDX01158</td>\n",
       "      <td>2021-08-11</td>\n",
       "      <td>15:16:03</td>\n",
       "      <td>Lunch</td>\n",
       "      <td>BK</td>\n",
       "      <td>[('Burger', 5), ('Fries', 7)]</td>\n",
       "      <td>239.0</td>\n",
       "      <td>-37.800240</td>\n",
       "      <td>144.984491</td>\n",
       "      <td>0</td>\n",
       "      <td>6.440</td>\n",
       "      <td>12.266605</td>\n",
       "    </tr>\n",
       "    <tr>\n",
       "      <th>2</th>\n",
       "      <td>ORDJ01203</td>\n",
       "      <td>2021-01-17</td>\n",
       "      <td>08:30:25</td>\n",
       "      <td>Breakfast</td>\n",
       "      <td>TP</td>\n",
       "      <td>[('Cereal', 5), ('Eggs', 9)]</td>\n",
       "      <td>289.0</td>\n",
       "      <td>-37.817335</td>\n",
       "      <td>144.962208</td>\n",
       "      <td>1</td>\n",
       "      <td>7.904</td>\n",
       "      <td>5.796403</td>\n",
       "    </tr>\n",
       "    <tr>\n",
       "      <th>3</th>\n",
       "      <td>ORDY00837</td>\n",
       "      <td>2021-09-13</td>\n",
       "      <td>16:27:02</td>\n",
       "      <td>Dinner</td>\n",
       "      <td>TP</td>\n",
       "      <td>[('Pasta', 2), ('Salmon', 7)]</td>\n",
       "      <td>342.0</td>\n",
       "      <td>-37.804640</td>\n",
       "      <td>144.971640</td>\n",
       "      <td>0</td>\n",
       "      <td>9.800</td>\n",
       "      <td>13.371503</td>\n",
       "    </tr>\n",
       "    <tr>\n",
       "      <th>4</th>\n",
       "      <td>ORDK09018</td>\n",
       "      <td>2021-11-16</td>\n",
       "      <td>18:28:43</td>\n",
       "      <td>Dinner</td>\n",
       "      <td>BK</td>\n",
       "      <td>[('Salmon', 6), ('Pasta', 4)]</td>\n",
       "      <td>356.0</td>\n",
       "      <td>-37.825059</td>\n",
       "      <td>144.928569</td>\n",
       "      <td>0</td>\n",
       "      <td>15.180</td>\n",
       "      <td>22.281960</td>\n",
       "    </tr>\n",
       "  </tbody>\n",
       "</table>\n",
       "</div>"
      ],
      "text/plain": [
       "    order_id        date      time order_type branch_code  \\\n",
       "0  ORDB03023  2021-09-09  16:16:54     Dinner          TP   \n",
       "1  ORDX01158  2021-08-11  15:16:03      Lunch          BK   \n",
       "2  ORDJ01203  2021-01-17  08:30:25  Breakfast          TP   \n",
       "3  ORDY00837  2021-09-13  16:27:02     Dinner          TP   \n",
       "4  ORDK09018  2021-11-16  18:28:43     Dinner          BK   \n",
       "\n",
       "                                        order_items  order_price  \\\n",
       "0  [('Salmon', 6), ('Pasta', 1), ('Fish&Chips', 1)]        308.5   \n",
       "1                     [('Burger', 5), ('Fries', 7)]        239.0   \n",
       "2                      [('Cereal', 5), ('Eggs', 9)]        289.0   \n",
       "3                     [('Pasta', 2), ('Salmon', 7)]        342.0   \n",
       "4                     [('Salmon', 6), ('Pasta', 4)]        356.0   \n",
       "\n",
       "   customer_lat  customer_lon  customerHasloyalty?  distance_to_customer_KM  \\\n",
       "0    -37.811774    145.002000                    0                   11.108   \n",
       "1    -37.800240    144.984491                    0                    6.440   \n",
       "2    -37.817335    144.962208                    1                    7.904   \n",
       "3    -37.804640    144.971640                    0                    9.800   \n",
       "4    -37.825059    144.928569                    0                   15.180   \n",
       "\n",
       "   delivery_fee  \n",
       "0     15.675114  \n",
       "1     12.266605  \n",
       "2      5.796403  \n",
       "3     13.371503  \n",
       "4     22.281960  "
      ]
     },
     "execution_count": 326,
     "metadata": {},
     "output_type": "execute_result"
    }
   ],
   "source": [
    "missing_data.head()"
   ]
  },
  {
   "cell_type": "markdown",
   "metadata": {},
   "source": [
    "It's possible that we could derive the missing branch codes with the `order_id` field, as there seems to be a pattern with the digits:"
   ]
  },
  {
   "cell_type": "code",
   "execution_count": 327,
   "metadata": {},
   "outputs": [],
   "source": [
    "# create a copy df\n",
    "missing_data_c = missing_data.copy()\n",
    "# create new column for the order_id digits\n",
    "missing_data_c['id_digs'] = missing_data_c['order_id'].str[:4]"
   ]
  },
  {
   "cell_type": "code",
   "execution_count": 328,
   "metadata": {},
   "outputs": [
    {
     "data": {
      "text/html": [
       "<div>\n",
       "<style scoped>\n",
       "    .dataframe tbody tr th:only-of-type {\n",
       "        vertical-align: middle;\n",
       "    }\n",
       "\n",
       "    .dataframe tbody tr th {\n",
       "        vertical-align: top;\n",
       "    }\n",
       "\n",
       "    .dataframe thead th {\n",
       "        text-align: right;\n",
       "    }\n",
       "</style>\n",
       "<table border=\"1\" class=\"dataframe\">\n",
       "  <thead>\n",
       "    <tr style=\"text-align: right;\">\n",
       "      <th></th>\n",
       "      <th></th>\n",
       "      <th>order_id</th>\n",
       "    </tr>\n",
       "    <tr>\n",
       "      <th>branch_code</th>\n",
       "      <th>id_digs</th>\n",
       "      <th></th>\n",
       "    </tr>\n",
       "  </thead>\n",
       "  <tbody>\n",
       "    <tr>\n",
       "      <th rowspan=\"3\" valign=\"top\">BK</th>\n",
       "      <th>ORDA</th>\n",
       "      <td>40</td>\n",
       "    </tr>\n",
       "    <tr>\n",
       "      <th>ORDK</th>\n",
       "      <td>68</td>\n",
       "    </tr>\n",
       "    <tr>\n",
       "      <th>ORDX</th>\n",
       "      <td>47</td>\n",
       "    </tr>\n",
       "    <tr>\n",
       "      <th rowspan=\"3\" valign=\"top\">NS</th>\n",
       "      <th>ORDC</th>\n",
       "      <td>53</td>\n",
       "    </tr>\n",
       "    <tr>\n",
       "      <th>ORDI</th>\n",
       "      <td>47</td>\n",
       "    </tr>\n",
       "    <tr>\n",
       "      <th>ORDZ</th>\n",
       "      <td>57</td>\n",
       "    </tr>\n",
       "    <tr>\n",
       "      <th rowspan=\"3\" valign=\"top\">TP</th>\n",
       "      <th>ORDB</th>\n",
       "      <td>49</td>\n",
       "    </tr>\n",
       "    <tr>\n",
       "      <th>ORDJ</th>\n",
       "      <td>44</td>\n",
       "    </tr>\n",
       "    <tr>\n",
       "      <th>ORDY</th>\n",
       "      <td>45</td>\n",
       "    </tr>\n",
       "  </tbody>\n",
       "</table>\n",
       "</div>"
      ],
      "text/plain": [
       "                     order_id\n",
       "branch_code id_digs          \n",
       "BK          ORDA           40\n",
       "            ORDK           68\n",
       "            ORDX           47\n",
       "NS          ORDC           53\n",
       "            ORDI           47\n",
       "            ORDZ           57\n",
       "TP          ORDB           49\n",
       "            ORDJ           44\n",
       "            ORDY           45"
      ]
     },
     "execution_count": 328,
     "metadata": {},
     "output_type": "execute_result"
    }
   ],
   "source": [
    "missing_data_c[['branch_code','id_digs','order_id']].groupby(['branch_code','id_digs']).count()"
   ]
  },
  {
   "cell_type": "markdown",
   "metadata": {},
   "source": [
    "As suspected, each branch code has three different types of order id digits that are unique to that branch. Therefore we will use this logic to fill the null values of `branch_code`. Also, its important to mention that this type of missigness falls under the **\"MNAR\"** type. To fill in the values, we will filter the dataframe by the new created `id_digs` column, combined with null values on branch code. Lastly, we will simply use the mask created and assign the proper branch code to the selection."
   ]
  },
  {
   "cell_type": "code",
   "execution_count": 329,
   "metadata": {},
   "outputs": [],
   "source": [
    "# create a mask of null values for each branch\n",
    "bk_mask  = ((missing_data_c['id_digs'] == 'ORDA') | (missing_data_c['id_digs'] == 'ORDK') | (missing_data_c['id_digs'] == 'ORDX')) & missing_data_c['branch_code'].isnull()\n",
    "ns_mask  = ((missing_data_c['id_digs'] == 'ORDC') | (missing_data_c['id_digs'] == 'ORDI') | (missing_data_c['id_digs'] == 'ORDZ')) & missing_data_c['branch_code'].isnull()\n",
    "tp_mask  = ((missing_data_c['id_digs'] == 'ORDB') | (missing_data_c['id_digs'] == 'ORDJ') | (missing_data_c['id_digs'] == 'ORDY')) & missing_data_c['branch_code'].isnull()\n",
    "# re assign values by using the mask\n",
    "missing_data_c.loc[bk_mask,'branch_code'] = \"BK\"\n",
    "missing_data_c.loc[ns_mask,'branch_code'] = \"NS\"\n",
    "missing_data_c.loc[tp_mask,'branch_code'] = \"TP\""
   ]
  },
  {
   "cell_type": "markdown",
   "metadata": {},
   "source": [
    "#### Delivery Fee"
   ]
  },
  {
   "cell_type": "code",
   "execution_count": 330,
   "metadata": {},
   "outputs": [],
   "source": [
    "# from statsmodels.formula.api import ols\n",
    "# from scipy import stats\n",
    "# import statsmodels.api as sm\n",
    "# from statsmodels.sandbox.regression.predstd import wls_prediction_std\n",
    "# method 2\n",
    "import pandas as pd\n",
    "import numpy as np\n",
    "import matplotlib.pyplot as plt\n",
    "import seaborn as sns\n",
    "%matplotlib inline\n",
    "from sklearn.linear_model import LinearRegression"
   ]
  },
  {
   "cell_type": "code",
   "execution_count": 331,
   "metadata": {},
   "outputs": [],
   "source": [
    "lm = LinearRegression"
   ]
  },
  {
   "cell_type": "markdown",
   "metadata": {},
   "source": [
    "Based on the assignment brief, we will need to create dummy variables to be used in a linear regression based on the following aspects of the data:\n",
    "1. is_weekend = 1 if the day of the order is Saturday or Sunday, or 0 otherwise.\n",
    "2. is_morning = 0 if morning, 1 for afternoon and 2 for evening.\n",
    "\n",
    "Also, it's important to note that customers that are part of the loyalty program get a 50% discount, distance needs to be considered and each branch has it's own delivery fee calculation."
   ]
  },
  {
   "cell_type": "markdown",
   "metadata": {},
   "source": [
    "Firstly, we will create masks to segment the data based on Branch:"
   ]
  },
  {
   "cell_type": "code",
   "execution_count": 332,
   "metadata": {},
   "outputs": [],
   "source": [
    "# create a branch code and null delivery fee mask and non-null variables\n",
    "fee_bk_mask = (missing_data_c['branch_code'] == 'BK') & (missing_data_c['delivery_fee'].notna())\n",
    "fee_ns_mask = (missing_data_c['branch_code'] == 'NS') & (missing_data_c['delivery_fee'].notna())\n",
    "fee_tp_mask = (missing_data_c['branch_code'] == 'TP') & (missing_data_c['delivery_fee'].notna())"
   ]
  },
  {
   "cell_type": "markdown",
   "metadata": {},
   "source": [
    "Next, we need to create dummy variables that will allow us to run a regression on categorical variables."
   ]
  },
  {
   "cell_type": "markdown",
   "metadata": {},
   "source": [
    "##### Delivery Fee dummy variables"
   ]
  },
  {
   "cell_type": "markdown",
   "metadata": {},
   "source": [
    "We will create a dummy variable for the day of the week contained in `date` by using a simple pandas filtering, and assigning the value of one or zero."
   ]
  },
  {
   "cell_type": "code",
   "execution_count": 333,
   "metadata": {},
   "outputs": [],
   "source": [
    "# change date datatype to datetime\n",
    "missing_data_c['date'] = pd.to_datetime(missing_data_c[\"date\"])\n",
    "#create new empty variable\n",
    "missing_data_c['is_weekend'] = np.nan\n",
    "# assign value based on the weekday\n",
    "missing_data_c.loc[missing_data_c.date.dt.weekday >= 5, 'is_weekend'] = 1\n",
    "missing_data_c.loc[missing_data_c.date.dt.weekday < 5, 'is_weekend'] = 0"
   ]
  },
  {
   "cell_type": "code",
   "execution_count": 334,
   "metadata": {},
   "outputs": [],
   "source": [
    "#is_morning\n",
    "order_dummies = pd.get_dummies(missing_data_c.order_type, drop_first=True, prefix='order_type')"
   ]
  },
  {
   "cell_type": "code",
   "execution_count": 335,
   "metadata": {
    "tags": []
   },
   "outputs": [],
   "source": [
    "#overwritting the dataset with the appended extra column.\n",
    "missing_data_c = pd.concat([missing_data_c,order_dummies], axis=1)"
   ]
  },
  {
   "cell_type": "markdown",
   "metadata": {},
   "source": [
    "We also need to convert the delivery fee price of loyalty cutomers:"
   ]
  },
  {
   "cell_type": "code",
   "execution_count": 336,
   "metadata": {},
   "outputs": [],
   "source": [
    "#multiply the delivery fee of customers part of loyalty group\n",
    "missing_data_c['delivery_fee2'] = missing_data_c.delivery_fee.where(missing_data_c['customerHasloyalty?'] == 0, missing_data_c.delivery_fee * 2 )"
   ]
  },
  {
   "cell_type": "markdown",
   "metadata": {},
   "source": [
    "With the last transformation above we've now created all the necessary variables are ready to be used in a linear regression model."
   ]
  },
  {
   "cell_type": "markdown",
   "metadata": {},
   "source": [
    "We only need some of the variables to be included in the model. Therefore, first we will slice the original copy into a version with fewer columns:"
   ]
  },
  {
   "cell_type": "code",
   "execution_count": 337,
   "metadata": {},
   "outputs": [
    {
     "data": {
      "text/html": [
       "<div>\n",
       "<style scoped>\n",
       "    .dataframe tbody tr th:only-of-type {\n",
       "        vertical-align: middle;\n",
       "    }\n",
       "\n",
       "    .dataframe tbody tr th {\n",
       "        vertical-align: top;\n",
       "    }\n",
       "\n",
       "    .dataframe thead th {\n",
       "        text-align: right;\n",
       "    }\n",
       "</style>\n",
       "<table border=\"1\" class=\"dataframe\">\n",
       "  <thead>\n",
       "    <tr style=\"text-align: right;\">\n",
       "      <th></th>\n",
       "      <th>customerHasloyalty?</th>\n",
       "      <th>distance_to_customer_KM</th>\n",
       "      <th>delivery_fee</th>\n",
       "      <th>is_weekend</th>\n",
       "      <th>order_type_Dinner</th>\n",
       "      <th>order_type_Lunch</th>\n",
       "    </tr>\n",
       "  </thead>\n",
       "  <tbody>\n",
       "    <tr>\n",
       "      <th>0</th>\n",
       "      <td>0</td>\n",
       "      <td>11.108</td>\n",
       "      <td>15.675114</td>\n",
       "      <td>0.0</td>\n",
       "      <td>1</td>\n",
       "      <td>0</td>\n",
       "    </tr>\n",
       "    <tr>\n",
       "      <th>1</th>\n",
       "      <td>0</td>\n",
       "      <td>6.440</td>\n",
       "      <td>12.266605</td>\n",
       "      <td>0.0</td>\n",
       "      <td>0</td>\n",
       "      <td>1</td>\n",
       "    </tr>\n",
       "    <tr>\n",
       "      <th>2</th>\n",
       "      <td>1</td>\n",
       "      <td>7.904</td>\n",
       "      <td>5.796403</td>\n",
       "      <td>1.0</td>\n",
       "      <td>0</td>\n",
       "      <td>0</td>\n",
       "    </tr>\n",
       "    <tr>\n",
       "      <th>3</th>\n",
       "      <td>0</td>\n",
       "      <td>9.800</td>\n",
       "      <td>13.371503</td>\n",
       "      <td>0.0</td>\n",
       "      <td>1</td>\n",
       "      <td>0</td>\n",
       "    </tr>\n",
       "    <tr>\n",
       "      <th>4</th>\n",
       "      <td>0</td>\n",
       "      <td>15.180</td>\n",
       "      <td>22.281960</td>\n",
       "      <td>0.0</td>\n",
       "      <td>1</td>\n",
       "      <td>0</td>\n",
       "    </tr>\n",
       "  </tbody>\n",
       "</table>\n",
       "</div>"
      ],
      "text/plain": [
       "   customerHasloyalty?  distance_to_customer_KM  delivery_fee  is_weekend  \\\n",
       "0                    0                   11.108     15.675114         0.0   \n",
       "1                    0                    6.440     12.266605         0.0   \n",
       "2                    1                    7.904      5.796403         1.0   \n",
       "3                    0                    9.800     13.371503         0.0   \n",
       "4                    0                   15.180     22.281960         0.0   \n",
       "\n",
       "   order_type_Dinner  order_type_Lunch  \n",
       "0                  1                 0  \n",
       "1                  0                 1  \n",
       "2                  0                 0  \n",
       "3                  1                 0  \n",
       "4                  1                 0  "
      ]
     },
     "execution_count": 337,
     "metadata": {},
     "output_type": "execute_result"
    }
   ],
   "source": [
    "#test without the converted delivery fee:\n",
    "\n",
    "# slicing the model\n",
    "missing_data_c_ls = missing_data_c.iloc[:,9:]\n",
    "# dropping unn\n",
    "missing_data_c_ls.drop(columns=['id_digs','delivery_fee2'], axis=1, inplace=True)\n",
    "# looking at the first observations\n",
    "missing_data_c_ls.head()"
   ]
  },
  {
   "cell_type": "markdown",
   "metadata": {},
   "source": [
    "For X, we will keep all the variables except `delivery_fee`, as that is the dependent variable."
   ]
  },
  {
   "cell_type": "markdown",
   "metadata": {},
   "source": [
    "Now that we have all the variables ready, we can create a linear regression on each branch subset with the `statsmodels` library."
   ]
  },
  {
   "cell_type": "markdown",
   "metadata": {},
   "source": [
    "##### Delivery Fee linear regression: BK branch"
   ]
  },
  {
   "cell_type": "code",
   "execution_count": 377,
   "metadata": {},
   "outputs": [],
   "source": [
    "# assigning variables\n",
    "X = missing_data_c_ls.loc[fee_bk_mask,:].drop('delivery_fee', axis=1)\n",
    "y = missing_data_c_ls.loc[fee_bk_mask,:].delivery_fee"
   ]
  },
  {
   "cell_type": "code",
   "execution_count": 378,
   "metadata": {},
   "outputs": [
    {
     "data": {
      "text/plain": [
       "LinearRegression()"
      ]
     },
     "execution_count": 378,
     "metadata": {},
     "output_type": "execute_result"
    }
   ],
   "source": [
    "#train test split\n",
    "from sklearn.model_selection import train_test_split\n",
    "X_train, X_test, y_train, y_test = train_test_split(X, y, test_size=0.1, random_state=101)\n",
    "#creating and training the model\n",
    "from sklearn.linear_model import LinearRegression\n",
    "#instantiate model\n",
    "lm = LinearRegression()\n",
    "# train model\n",
    "lm.fit(X_train,y_train)"
   ]
  },
  {
   "cell_type": "code",
   "execution_count": 379,
   "metadata": {},
   "outputs": [
    {
     "data": {
      "text/html": [
       "<div>\n",
       "<style scoped>\n",
       "    .dataframe tbody tr th:only-of-type {\n",
       "        vertical-align: middle;\n",
       "    }\n",
       "\n",
       "    .dataframe tbody tr th {\n",
       "        vertical-align: top;\n",
       "    }\n",
       "\n",
       "    .dataframe thead th {\n",
       "        text-align: right;\n",
       "    }\n",
       "</style>\n",
       "<table border=\"1\" class=\"dataframe\">\n",
       "  <thead>\n",
       "    <tr style=\"text-align: right;\">\n",
       "      <th></th>\n",
       "      <th>Coefficient</th>\n",
       "    </tr>\n",
       "  </thead>\n",
       "  <tbody>\n",
       "    <tr>\n",
       "      <th>customerHasloyalty?</th>\n",
       "      <td>-7.137912</td>\n",
       "    </tr>\n",
       "    <tr>\n",
       "      <th>distance_to_customer_KM</th>\n",
       "      <td>1.040017</td>\n",
       "    </tr>\n",
       "    <tr>\n",
       "      <th>is_weekend</th>\n",
       "      <td>2.477344</td>\n",
       "    </tr>\n",
       "    <tr>\n",
       "      <th>order_type_Dinner</th>\n",
       "      <td>1.890530</td>\n",
       "    </tr>\n",
       "    <tr>\n",
       "      <th>order_type_Lunch</th>\n",
       "      <td>1.093601</td>\n",
       "    </tr>\n",
       "  </tbody>\n",
       "</table>\n",
       "</div>"
      ],
      "text/plain": [
       "                         Coefficient\n",
       "customerHasloyalty?        -7.137912\n",
       "distance_to_customer_KM     1.040017\n",
       "is_weekend                  2.477344\n",
       "order_type_Dinner           1.890530\n",
       "order_type_Lunch            1.093601"
      ]
     },
     "execution_count": 379,
     "metadata": {},
     "output_type": "execute_result"
    }
   ],
   "source": [
    "#printing the coefficients\n",
    "coeff_df = pd.DataFrame(lm.coef_,X.columns,columns=['Coefficient'])\n",
    "coeff_df"
   ]
  },
  {
   "cell_type": "code",
   "execution_count": 380,
   "metadata": {},
   "outputs": [
    {
     "name": "stdout",
     "output_type": "stream",
     "text": [
      "r-squared for this model =  0.9863619182167275\n"
     ]
    }
   ],
   "source": [
    "print ('r-squared for this model = ',lm.score(X_test,y_test))"
   ]
  },
  {
   "cell_type": "markdown",
   "metadata": {},
   "source": [
    "##### Delivery Fee linear regression: NS branch"
   ]
  },
  {
   "cell_type": "code",
   "execution_count": 223,
   "metadata": {},
   "outputs": [],
   "source": [
    "# assigning variables\n",
    "X = missing_data_c_ls.loc[fee_ns_mask,:].drop('delivery_fee', axis=1)\n",
    "y = missing_data_c_ls.loc[fee_ns_mask,:].delivery_fee"
   ]
  },
  {
   "cell_type": "code",
   "execution_count": 367,
   "metadata": {},
   "outputs": [
    {
     "data": {
      "text/plain": [
       "LinearRegression()"
      ]
     },
     "execution_count": 367,
     "metadata": {},
     "output_type": "execute_result"
    }
   ],
   "source": [
    "#train test split\n",
    "from sklearn.model_selection import train_test_split\n",
    "X_train, X_test, y_train, y_test = train_test_split(X, y, test_size=0.1, random_state=101)\n",
    "#creating and training the model\n",
    "from sklearn.linear_model import LinearRegression\n",
    "#instantiate model\n",
    "lm = LinearRegression()\n",
    "# train model\n",
    "lm.fit(X_train,y_train)"
   ]
  },
  {
   "cell_type": "code",
   "execution_count": 368,
   "metadata": {},
   "outputs": [
    {
     "data": {
      "text/html": [
       "<div>\n",
       "<style scoped>\n",
       "    .dataframe tbody tr th:only-of-type {\n",
       "        vertical-align: middle;\n",
       "    }\n",
       "\n",
       "    .dataframe tbody tr th {\n",
       "        vertical-align: top;\n",
       "    }\n",
       "\n",
       "    .dataframe thead th {\n",
       "        text-align: right;\n",
       "    }\n",
       "</style>\n",
       "<table border=\"1\" class=\"dataframe\">\n",
       "  <thead>\n",
       "    <tr style=\"text-align: right;\">\n",
       "      <th></th>\n",
       "      <th>Coefficient</th>\n",
       "    </tr>\n",
       "  </thead>\n",
       "  <tbody>\n",
       "    <tr>\n",
       "      <th>customerHasloyalty?</th>\n",
       "      <td>-7.137912</td>\n",
       "    </tr>\n",
       "    <tr>\n",
       "      <th>distance_to_customer_KM</th>\n",
       "      <td>1.040017</td>\n",
       "    </tr>\n",
       "    <tr>\n",
       "      <th>is_weekend</th>\n",
       "      <td>2.477344</td>\n",
       "    </tr>\n",
       "    <tr>\n",
       "      <th>order_type_Dinner</th>\n",
       "      <td>1.890530</td>\n",
       "    </tr>\n",
       "    <tr>\n",
       "      <th>order_type_Lunch</th>\n",
       "      <td>1.093601</td>\n",
       "    </tr>\n",
       "  </tbody>\n",
       "</table>\n",
       "</div>"
      ],
      "text/plain": [
       "                         Coefficient\n",
       "customerHasloyalty?        -7.137912\n",
       "distance_to_customer_KM     1.040017\n",
       "is_weekend                  2.477344\n",
       "order_type_Dinner           1.890530\n",
       "order_type_Lunch            1.093601"
      ]
     },
     "execution_count": 368,
     "metadata": {},
     "output_type": "execute_result"
    }
   ],
   "source": [
    "#printing the coefficients\n",
    "coeff_df = pd.DataFrame(lm.coef_,X.columns,columns=['Coefficient'])\n",
    "coeff_df"
   ]
  },
  {
   "cell_type": "code",
   "execution_count": 369,
   "metadata": {},
   "outputs": [
    {
     "name": "stdout",
     "output_type": "stream",
     "text": [
      "r-squared for this model =  0.9863619182167275\n"
     ]
    }
   ],
   "source": [
    "print ('r-squared for this model = ',lm.score(X_test,y_test))"
   ]
  },
  {
   "cell_type": "markdown",
   "metadata": {},
   "source": [
    "##### Delivery Fee linear regression: TP"
   ]
  },
  {
   "cell_type": "code",
   "execution_count": 370,
   "metadata": {},
   "outputs": [],
   "source": [
    "# assigning variables\n",
    "X = missing_data_c_ls.loc[fee_tp_mask,:].drop('delivery_fee', axis=1)\n",
    "y = missing_data_c_ls.loc[fee_tp_mask,:].delivery_fee"
   ]
  },
  {
   "cell_type": "code",
   "execution_count": 374,
   "metadata": {},
   "outputs": [
    {
     "data": {
      "text/plain": [
       "LinearRegression()"
      ]
     },
     "execution_count": 374,
     "metadata": {},
     "output_type": "execute_result"
    }
   ],
   "source": [
    "#train test split\n",
    "from sklearn.model_selection import train_test_split\n",
    "X_train, X_test, y_train, y_test = train_test_split(X, y, test_size=0.1, random_state=101)\n",
    "#creating and training the model\n",
    "from sklearn.linear_model import LinearRegression\n",
    "#instantiate model\n",
    "lm = LinearRegression()\n",
    "# train model\n",
    "lm.fit(X_train,y_train)"
   ]
  },
  {
   "cell_type": "code",
   "execution_count": 375,
   "metadata": {},
   "outputs": [
    {
     "data": {
      "text/html": [
       "<div>\n",
       "<style scoped>\n",
       "    .dataframe tbody tr th:only-of-type {\n",
       "        vertical-align: middle;\n",
       "    }\n",
       "\n",
       "    .dataframe tbody tr th {\n",
       "        vertical-align: top;\n",
       "    }\n",
       "\n",
       "    .dataframe thead th {\n",
       "        text-align: right;\n",
       "    }\n",
       "</style>\n",
       "<table border=\"1\" class=\"dataframe\">\n",
       "  <thead>\n",
       "    <tr style=\"text-align: right;\">\n",
       "      <th></th>\n",
       "      <th>Coefficient</th>\n",
       "    </tr>\n",
       "  </thead>\n",
       "  <tbody>\n",
       "    <tr>\n",
       "      <th>customerHasloyalty?</th>\n",
       "      <td>-5.892718</td>\n",
       "    </tr>\n",
       "    <tr>\n",
       "      <th>distance_to_customer_KM</th>\n",
       "      <td>0.873128</td>\n",
       "    </tr>\n",
       "    <tr>\n",
       "      <th>is_weekend</th>\n",
       "      <td>1.331643</td>\n",
       "    </tr>\n",
       "    <tr>\n",
       "      <th>order_type_Dinner</th>\n",
       "      <td>1.478950</td>\n",
       "    </tr>\n",
       "    <tr>\n",
       "      <th>order_type_Lunch</th>\n",
       "      <td>0.836204</td>\n",
       "    </tr>\n",
       "  </tbody>\n",
       "</table>\n",
       "</div>"
      ],
      "text/plain": [
       "                         Coefficient\n",
       "customerHasloyalty?        -5.892718\n",
       "distance_to_customer_KM     0.873128\n",
       "is_weekend                  1.331643\n",
       "order_type_Dinner           1.478950\n",
       "order_type_Lunch            0.836204"
      ]
     },
     "execution_count": 375,
     "metadata": {},
     "output_type": "execute_result"
    }
   ],
   "source": [
    "#printing the coefficients\n",
    "coeff_df = pd.DataFrame(lm.coef_,X.columns,columns=['Coefficient'])\n",
    "coeff_df"
   ]
  },
  {
   "cell_type": "code",
   "execution_count": 376,
   "metadata": {},
   "outputs": [
    {
     "name": "stdout",
     "output_type": "stream",
     "text": [
      "r-squared for this model =  0.9925413909162757\n"
     ]
    }
   ],
   "source": [
    "print ('r-squared for this model = ',lm.score(X_test,y_test))"
   ]
  },
  {
   "cell_type": "markdown",
   "metadata": {},
   "source": [
    "##### Delivery Fee: Using the regression model results"
   ]
  },
  {
   "cell_type": "code",
   "execution_count": 234,
   "metadata": {},
   "outputs": [],
   "source": [
    "# add some code"
   ]
  },
  {
   "cell_type": "markdown",
   "metadata": {},
   "source": [
    "### Outlier Data"
   ]
  },
  {
   "cell_type": "markdown",
   "metadata": {
    "id": "cO8vwKqkiqLF"
   },
   "source": [
    "## Summary <a class=\"anchor\" name=\"summary\"></a>"
   ]
  },
  {
   "cell_type": "markdown",
   "metadata": {
    "id": "4QdX7ozQiqLF"
   },
   "source": [
    "In conclussion, this excercise has covered all the necessary steps required to process semi-structured files into a unified dataframe that is adequate for analysis.\n",
    "<br>\n",
    "The key steps of the process undoubtedly lie on understanding the structure of the information to be structured. In this case, the data was formatted in HTML and hence it wasn't too difficult to design regular expressions that could extract the right type of information.\n",
    "<br>\n",
    "With the right regular expression design, the data was extracted using simple loops to store the data into a format that is efficient to parse (in this case, a list). Lastly, the pandas library was extremely helpful in structuring the data in a tabular format that can then be examined."
   ]
  },
  {
   "cell_type": "markdown",
   "metadata": {
    "id": "TnASfTmniqLF"
   },
   "source": [
    "-------------------------------------"
   ]
  },
  {
   "cell_type": "markdown",
   "metadata": {
    "id": "Li7bchX9iqLF"
   },
   "source": [
    "## References <a class=\"anchor\" name=\"Ref\"></a>\n"
   ]
  },
  {
   "cell_type": "markdown",
   "metadata": {
    "id": "TkWuWC3NiqLF"
   },
   "source": [
    "\n",
    "\n",
    "[1]<a class=\"anchor\" name=\"ref-2\"></a> Why do I need to add DOTALL to python regular expression to match new line in raw string, https://stackoverflow.com/questions/22610247, Accessed 30/08/2022.\n",
    "\n",
    "\n",
    "https://towardsdatascience.com/geopandas-101-plot-any-data-with-a-latitude-and-longitude-on-a-map-98e01944b972\n",
    "....\n"
   ]
  },
  {
   "cell_type": "markdown",
   "metadata": {},
   "source": [
    "https://pandas.pydata.org/pandas-docs/stable/user_guide/indexing.html#returning-a-view-versus-a-copy"
   ]
  },
  {
   "cell_type": "markdown",
   "metadata": {},
   "source": [
    "dummy variables in pandas\n",
    "<br>\n",
    "https://www.youtube.com/watch?v=0s_1IsROgDc"
   ]
  },
  {
   "cell_type": "markdown",
   "metadata": {},
   "source": [
    "regression summary\n",
    "<br>\n",
    "https://www.statology.org/sklearn-linear-regression-summary/"
   ]
  },
  {
   "cell_type": "markdown",
   "metadata": {
    "id": "dVyuz4LciqLG"
   },
   "source": [
    "--------------------------------------------------------------------------------------------------------------------------"
   ]
  }
 ],
 "metadata": {
  "colab": {
   "name": "task1_xxxxxxx.ipynb",
   "provenance": []
  },
  "kernelspec": {
   "display_name": "Python 3 (ipykernel)",
   "language": "python",
   "name": "python3"
  },
  "language_info": {
   "codemirror_mode": {
    "name": "ipython",
    "version": 3
   },
   "file_extension": ".py",
   "mimetype": "text/x-python",
   "name": "python",
   "nbconvert_exporter": "python",
   "pygments_lexer": "ipython3",
   "version": "3.9.12"
  },
  "toc-autonumbering": true,
  "toc-showtags": false
 },
 "nbformat": 4,
 "nbformat_minor": 4
}
